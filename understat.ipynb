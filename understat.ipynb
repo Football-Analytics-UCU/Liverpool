{
 "cells": [
  {
   "cell_type": "code",
   "execution_count": 1,
   "metadata": {},
   "outputs": [
    {
     "name": "stderr",
     "output_type": "stream",
     "text": [
      "Traceback (most recent call last):\n",
      "  File \"/home/oleksandr/anaconda3/lib/python3.9/site-packages/urllib3/connection.py\", line 174, in _new_conn\n",
      "    conn = connection.create_connection(\n",
      "  File \"/home/oleksandr/anaconda3/lib/python3.9/site-packages/urllib3/util/connection.py\", line 72, in create_connection\n",
      "    for res in socket.getaddrinfo(host, port, family, socket.SOCK_STREAM):\n",
      "  File \"/home/oleksandr/anaconda3/lib/python3.9/socket.py\", line 954, in getaddrinfo\n",
      "    for res in _socket.getaddrinfo(host, port, family, type, proto, flags):\n",
      "socket.gaierror: [Errno -3] Temporary failure in name resolution\n",
      "\n",
      "During handling of the above exception, another exception occurred:\n",
      "\n",
      "Traceback (most recent call last):\n",
      "  File \"/home/oleksandr/anaconda3/lib/python3.9/site-packages/urllib3/connectionpool.py\", line 703, in urlopen\n",
      "    httplib_response = self._make_request(\n",
      "  File \"/home/oleksandr/anaconda3/lib/python3.9/site-packages/urllib3/connectionpool.py\", line 386, in _make_request\n",
      "    self._validate_conn(conn)\n",
      "  File \"/home/oleksandr/anaconda3/lib/python3.9/site-packages/urllib3/connectionpool.py\", line 1040, in _validate_conn\n",
      "    conn.connect()\n",
      "  File \"/home/oleksandr/anaconda3/lib/python3.9/site-packages/urllib3/connection.py\", line 358, in connect\n",
      "    self.sock = conn = self._new_conn()\n",
      "  File \"/home/oleksandr/anaconda3/lib/python3.9/site-packages/urllib3/connection.py\", line 186, in _new_conn\n",
      "    raise NewConnectionError(\n",
      "urllib3.exceptions.NewConnectionError: <urllib3.connection.HTTPSConnection object at 0x7f9691049850>: Failed to establish a new connection: [Errno -3] Temporary failure in name resolution\n",
      "\n",
      "During handling of the above exception, another exception occurred:\n",
      "\n",
      "Traceback (most recent call last):\n",
      "  File \"/home/oleksandr/anaconda3/lib/python3.9/site-packages/requests/adapters.py\", line 440, in send\n",
      "    resp = conn.urlopen(\n",
      "  File \"/home/oleksandr/anaconda3/lib/python3.9/site-packages/urllib3/connectionpool.py\", line 785, in urlopen\n",
      "    retries = retries.increment(\n",
      "  File \"/home/oleksandr/anaconda3/lib/python3.9/site-packages/urllib3/util/retry.py\", line 592, in increment\n",
      "    raise MaxRetryError(_pool, url, error or ResponseError(cause))\n",
      "urllib3.exceptions.MaxRetryError: HTTPSConnectionPool(host='understat.com', port=443): Max retries exceeded with url: /match/22108 (Caused by NewConnectionError('<urllib3.connection.HTTPSConnection object at 0x7f9691049850>: Failed to establish a new connection: [Errno -3] Temporary failure in name resolution'))\n",
      "\n",
      "During handling of the above exception, another exception occurred:\n",
      "\n",
      "Traceback (most recent call last):\n",
      "  File \"/tmp/ipykernel_453383/4114416389.py\", line 8, in <cell line: 6>\n",
      "    lg_table = scraper.scrape_match('https://understat.com/match/22108')\n",
      "  File \"/home/oleksandr/anaconda3/lib/python3.9/site-packages/ScraperFC/Understat.py\", line 192, in scrape_match\n",
      "    soup = BeautifulSoup(requests.get(link).content, 'html.parser')\n",
      "  File \"/home/oleksandr/anaconda3/lib/python3.9/site-packages/requests/api.py\", line 75, in get\n",
      "    return request('get', url, params=params, **kwargs)\n",
      "  File \"/home/oleksandr/anaconda3/lib/python3.9/site-packages/requests/api.py\", line 61, in request\n",
      "    return session.request(method=method, url=url, **kwargs)\n",
      "  File \"/home/oleksandr/anaconda3/lib/python3.9/site-packages/requests/sessions.py\", line 529, in request\n",
      "    resp = self.send(prep, **send_kwargs)\n",
      "  File \"/home/oleksandr/anaconda3/lib/python3.9/site-packages/requests/sessions.py\", line 645, in send\n",
      "    r = adapter.send(request, **kwargs)\n",
      "  File \"/home/oleksandr/anaconda3/lib/python3.9/site-packages/requests/adapters.py\", line 519, in send\n",
      "    raise ConnectionError(e, request=request)\n",
      "requests.exceptions.ConnectionError: HTTPSConnectionPool(host='understat.com', port=443): Max retries exceeded with url: /match/22108 (Caused by NewConnectionError('<urllib3.connection.HTTPSConnection object at 0x7f9691049850>: Failed to establish a new connection: [Errno -3] Temporary failure in name resolution'))\n"
     ]
    }
   ],
   "source": [
    "import ScraperFC as sfc\n",
    "import traceback\n",
    "\n",
    "# Initialize the Understat scraper\n",
    "scraper = sfc.Understat()\n",
    "try:\n",
    "    # Scrape the table\n",
    "    lg_table = scraper.scrape_match('https://understat.com/match/22108')\n",
    "except:\n",
    "    # Catch and print any exceptions. This allows us to still close the\n",
    "    # scraper below, even if an exception occurs.\n",
    "    traceback.print_exc()\n",
    "finally:\n",
    "    # It\"s important to close the scraper when you\"re done with it. Otherwise,\n",
    "    # you\"ll have a bunch of webdrivers open and running in the background.\n",
    "    scraper.close()"
   ]
  }
 ],
 "metadata": {
  "kernelspec": {
   "display_name": "base",
   "language": "python",
   "name": "python3"
  },
  "language_info": {
   "codemirror_mode": {
    "name": "ipython",
    "version": 3
   },
   "file_extension": ".py",
   "mimetype": "text/x-python",
   "name": "python",
   "nbconvert_exporter": "python",
   "pygments_lexer": "ipython3",
   "version": "3.9.12"
  }
 },
 "nbformat": 4,
 "nbformat_minor": 2
}
