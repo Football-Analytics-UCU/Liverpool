{
 "cells": [
  {
   "cell_type": "code",
   "execution_count": 3,
   "metadata": {},
   "outputs": [],
   "source": [
    "import ScraperFC as sfc\n",
    "import traceback\n",
    "\n",
    "\n",
    "link = 'https://fbref.com/en/matches/e81453d3/Liverpool-Real-Madrid-May-28-2022-Champions-League'"
   ]
  },
  {
   "cell_type": "code",
   "execution_count": 4,
   "metadata": {},
   "outputs": [],
   "source": [
    "scraper = sfc.FBRef()\n",
    "try:\n",
    "    match = scraper.scrape_match(link=link)\n",
    "except:\n",
    "    traceback.print_exc()\n",
    "finally:\n",
    "    scraper.close()"
   ]
  },
  {
   "cell_type": "code",
   "execution_count": 4,
   "metadata": {},
   "outputs": [
    {
     "data": {
      "text/plain": [
       "Index(['Link', 'Date', 'Stage', 'Home Team', 'Away Team', 'Home Team ID',\n",
       "       'Away Team ID', 'Home Formation', 'Away Formation', 'Home Goals',\n",
       "       'Away Goals', 'Home Ast', 'Away Ast', 'Home xG', 'Away xG', 'Home npxG',\n",
       "       'Away npxG', 'Home xAG', 'Away xAG', 'Home Player Stats',\n",
       "       'Away Player Stats', 'Shots'],\n",
       "      dtype='object')"
      ]
     },
     "execution_count": 4,
     "metadata": {},
     "output_type": "execute_result"
    }
   ],
   "source": [
    "match.columns"
   ]
  },
  {
   "cell_type": "code",
   "execution_count": 8,
   "metadata": {},
   "outputs": [
    {
     "name": "stdout",
     "output_type": "stream",
     "text": [
      "0    2.2\n",
      "Name: Home npxG, dtype: object\n",
      "0    0.9\n",
      "Name: Away npxG, dtype: object\n"
     ]
    }
   ],
   "source": [
    "print(match['Home npxG'])\n",
    "print(match['Away npxG'])"
   ]
  },
  {
   "cell_type": "code",
   "execution_count": 51,
   "metadata": {},
   "outputs": [
    {
     "name": "stdout",
     "output_type": "stream",
     "text": [
      "(24, 14)\n",
      "   Unnamed: 0_level_0      Unnamed: 1_level_0 Unnamed: 2_level_0  \\\n",
      "               Minute                  Player              Squad   \n",
      "0                16.0           Mohamed Salah          Liverpool   \n",
      "1                16.0               Luis Díaz          Liverpool   \n",
      "2                16.0        Thiago Alcántara          Liverpool   \n",
      "3                17.0           Mohamed Salah          Liverpool   \n",
      "4                19.0  Trent Alexander-Arnold          Liverpool   \n",
      "5                21.0              Sadio Mané          Liverpool   \n",
      "6                28.0                 Fabinho          Liverpool   \n",
      "7                34.0           Mohamed Salah          Liverpool   \n",
      "8                40.0              Sadio Mané          Liverpool   \n",
      "9                41.0        Jordan Henderson          Liverpool   \n",
      "11               54.0              Sadio Mané          Liverpool   \n",
      "12               54.0  Trent Alexander-Arnold          Liverpool   \n",
      "13               58.0           Mohamed Salah          Liverpool   \n",
      "14               58.0           Mohamed Salah          Liverpool   \n",
      "15               64.0           Mohamed Salah          Liverpool   \n",
      "16               69.0                 Fabinho          Liverpool   \n",
      "17               69.0           Mohamed Salah          Liverpool   \n",
      "18               74.0  Trent Alexander-Arnold          Liverpool   \n",
      "19               74.0              Diogo Jota          Liverpool   \n",
      "20               79.0         Roberto Firmino          Liverpool   \n",
      "21               80.0           Mohamed Salah          Liverpool   \n",
      "22               80.0              Diogo Jota          Liverpool   \n",
      "23               81.0              Naby Keïta          Liverpool   \n",
      "24               82.0           Mohamed Salah          Liverpool   \n",
      "\n",
      "   Unnamed: 3_level_0 Unnamed: 4_level_0 Unnamed: 5_level_0  \\\n",
      "                   xG               PSxG            Outcome   \n",
      "0                0.29               0.53              Saved   \n",
      "1                0.07                NaN            Blocked   \n",
      "2                0.04               0.13              Saved   \n",
      "3                0.09               0.10              Saved   \n",
      "4                0.05                NaN         Off Target   \n",
      "5                0.06               0.20              Saved   \n",
      "6                0.03                NaN         Off Target   \n",
      "7                0.04               0.02              Saved   \n",
      "8                0.13                NaN            Blocked   \n",
      "9                0.01                NaN         Off Target   \n",
      "11               0.04                NaN            Blocked   \n",
      "12               0.05                NaN            Blocked   \n",
      "13               0.10                NaN            Blocked   \n",
      "14               0.12                NaN            Blocked   \n",
      "15               0.04               0.22              Saved   \n",
      "16               0.02                NaN            Blocked   \n",
      "17               0.13               0.32              Saved   \n",
      "18               0.04                NaN         Off Target   \n",
      "19               0.15                NaN         Off Target   \n",
      "20               0.03                NaN            Blocked   \n",
      "21               0.05                NaN            Blocked   \n",
      "22               0.29               0.84              Saved   \n",
      "23               0.16                NaN         Off Target   \n",
      "24               0.16               0.14              Saved   \n",
      "\n",
      "   Unnamed: 6_level_0 Unnamed: 7_level_0 Unnamed: 8_level_0  \\\n",
      "             Distance          Body Part              Notes   \n",
      "0                 9.0         Right Foot                NaN   \n",
      "1                15.0          Left Foot                NaN   \n",
      "2                23.0         Right Foot                NaN   \n",
      "3                18.0          Left Foot                NaN   \n",
      "4                18.0         Right Foot                NaN   \n",
      "5                17.0         Right Foot                NaN   \n",
      "6                31.0         Right Foot                NaN   \n",
      "7                15.0               Head                NaN   \n",
      "8                 7.0          Left Foot                NaN   \n",
      "9                29.0         Right Foot             Volley   \n",
      "11               18.0          Left Foot                NaN   \n",
      "12               27.0         Right Foot                NaN   \n",
      "13               15.0          Left Foot             Volley   \n",
      "14               16.0          Left Foot             Volley   \n",
      "15               23.0          Left Foot                NaN   \n",
      "16               16.0               Head                NaN   \n",
      "17                3.0          Left Foot                NaN   \n",
      "18               26.0         Right Foot                NaN   \n",
      "19               12.0          Left Foot             Volley   \n",
      "20               25.0          Left Foot                NaN   \n",
      "21               24.0          Left Foot                NaN   \n",
      "22               13.0          Left Foot                NaN   \n",
      "23               20.0         Right Foot                NaN   \n",
      "24               11.0         Right Foot                NaN   \n",
      "\n",
      "                     SCA 1                          SCA 2               \\\n",
      "                    Player        Event            Player        Event   \n",
      "0         Jordan Henderson  Pass (Live)  Thiago Alcántara  Pass (Live)   \n",
      "1               Sadio Mané  Pass (Live)     Mohamed Salah  Pass (Live)   \n",
      "2         Andrew Robertson  Pass (Live)         Luis Díaz         Shot   \n",
      "3               Sadio Mané  Pass (Live)  Andrew Robertson  Pass (Live)   \n",
      "4            Mohamed Salah  Pass (Live)        Sadio Mané  Pass (Live)   \n",
      "5               Sadio Mané      Take-On  Thiago Alcántara  Pass (Live)   \n",
      "6         Thiago Alcántara  Pass (Live)  Andrew Robertson  Pass (Live)   \n",
      "7   Trent Alexander-Arnold  Pass (Live)   Ibrahima Konaté  Pass (Live)   \n",
      "8               Sadio Mané      Take-On  Andrew Robertson  Pass (Live)   \n",
      "9               Sadio Mané         Shot               NaN          NaN   \n",
      "11               Luis Díaz  Pass (Live)        Sadio Mané  Pass (Live)   \n",
      "12              Sadio Mané         Shot               NaN          NaN   \n",
      "13  Trent Alexander-Arnold  Pass (Live)     Mohamed Salah  Pass (Live)   \n",
      "14           Mohamed Salah         Shot               NaN          NaN   \n",
      "15        Jordan Henderson  Pass (Live)         Luis Díaz  Pass (Live)   \n",
      "16        Andrew Robertson  Pass (Live)  Thiago Alcántara  Pass (Live)   \n",
      "17              Diogo Jota  Pass (Live)  Jordan Henderson  Pass (Live)   \n",
      "18              Sadio Mané  Pass (Live)  Jordan Henderson  Pass (Live)   \n",
      "19  Trent Alexander-Arnold         Shot               NaN          NaN   \n",
      "20        Andrew Robertson  Pass (Live)   Roberto Firmino  Pass (Live)   \n",
      "21         Roberto Firmino  Pass (Live)     Mohamed Salah  Pass (Live)   \n",
      "22           Mohamed Salah         Shot               NaN          NaN   \n",
      "23         Roberto Firmino  Pass (Live)        Sadio Mané  Pass (Live)   \n",
      "24                 Fabinho  Pass (Live)               NaN          NaN   \n",
      "\n",
      "   simulate  \n",
      "             \n",
      "0      True  \n",
      "1      True  \n",
      "2      True  \n",
      "3      True  \n",
      "4      True  \n",
      "5      True  \n",
      "6      True  \n",
      "7      True  \n",
      "8      True  \n",
      "9      True  \n",
      "11     True  \n",
      "12     True  \n",
      "13     True  \n",
      "14     True  \n",
      "15     True  \n",
      "16     True  \n",
      "17     True  \n",
      "18     True  \n",
      "19     True  \n",
      "20     True  \n",
      "21     True  \n",
      "22     True  \n",
      "23     True  \n",
      "24     True  \n"
     ]
    }
   ],
   "source": [
    "print(match['Shots'][0].Home[0].shape)\n",
    "print(match['Shots'][0].Home[0])"
   ]
  },
  {
   "cell_type": "code",
   "execution_count": 24,
   "metadata": {},
   "outputs": [
    {
     "name": "stdout",
     "output_type": "stream",
     "text": [
      "(4, 13)\n"
     ]
    }
   ],
   "source": [
    "print(match['Shots'][0].Away[0].shape)"
   ]
  },
  {
   "cell_type": "code",
   "execution_count": 31,
   "metadata": {},
   "outputs": [
    {
     "name": "stdout",
     "output_type": "stream",
     "text": [
      "MultiIndex([('Unnamed: 0_level_0',    'Minute'),\n",
      "            ('Unnamed: 1_level_0',    'Player'),\n",
      "            ('Unnamed: 2_level_0',     'Squad'),\n",
      "            ('Unnamed: 3_level_0',        'xG'),\n",
      "            ('Unnamed: 4_level_0',      'PSxG'),\n",
      "            ('Unnamed: 5_level_0',   'Outcome'),\n",
      "            ('Unnamed: 6_level_0',  'Distance'),\n",
      "            ('Unnamed: 7_level_0', 'Body Part'),\n",
      "            ('Unnamed: 8_level_0',     'Notes'),\n",
      "            (             'SCA 1',    'Player'),\n",
      "            (             'SCA 1',     'Event'),\n",
      "            (             'SCA 2',    'Player'),\n",
      "            (             'SCA 2',     'Event')],\n",
      "           )\n"
     ]
    }
   ],
   "source": [
    "print((match['Shots'][0].Both[0].columns))"
   ]
  },
  {
   "cell_type": "code",
   "execution_count": 40,
   "metadata": {},
   "outputs": [
    {
     "name": "stdout",
     "output_type": "stream",
     "text": [
      "0     16\n",
      "1     16\n",
      "2     16\n",
      "3     17\n",
      "4     19\n",
      "5     21\n",
      "6     28\n",
      "7     34\n",
      "8     40\n",
      "9     41\n",
      "10    43\n",
      "12    54\n",
      "13    54\n",
      "14    58\n",
      "15    58\n",
      "16    59\n",
      "17    59\n",
      "18    64\n",
      "19    69\n",
      "20    69\n",
      "21    74\n",
      "22    74\n",
      "23    79\n",
      "24    80\n",
      "25    80\n",
      "26    81\n",
      "27    82\n",
      "28    92\n",
      "Name: (Unnamed: 0_level_0, Minute), dtype: object\n",
      "0    43\n",
      "2    59\n",
      "3    59\n",
      "4    92\n",
      "Name: (Unnamed: 0_level_0, Minute), dtype: object\n"
     ]
    }
   ],
   "source": [
    "match['Shots'][0].Both[0]['Unnamed: 0_level_0','Minute'] = match['Shots'][0].Both[0]['Unnamed: 0_level_0','Minute'].replace('90+2', 92)\n",
    "print((match['Shots'][0].Both[0]['Unnamed: 0_level_0','Minute']))\n",
    "match['Shots'][0].Away[0]['Unnamed: 0_level_0','Minute'] = match['Shots'][0].Away[0]['Unnamed: 0_level_0','Minute'].replace('90+2', 92)\n",
    "print((match['Shots'][0].Away[0]['Unnamed: 0_level_0','Minute']))"
   ]
  },
  {
   "cell_type": "code",
   "execution_count": 35,
   "metadata": {},
   "outputs": [
    {
     "name": "stdout",
     "output_type": "stream",
     "text": [
      "0     0.29\n",
      "1     0.07\n",
      "2     0.04\n",
      "3     0.09\n",
      "4     0.05\n",
      "5     0.06\n",
      "6     0.03\n",
      "7     0.04\n",
      "8     0.13\n",
      "9     0.01\n",
      "10    0.10\n",
      "12    0.04\n",
      "13    0.05\n",
      "14    0.10\n",
      "15    0.12\n",
      "16    0.06\n",
      "17    0.70\n",
      "18    0.04\n",
      "19    0.02\n",
      "20    0.13\n",
      "21    0.04\n",
      "22    0.15\n",
      "23    0.03\n",
      "24    0.05\n",
      "25    0.29\n",
      "26    0.16\n",
      "27    0.16\n",
      "28    0.06\n",
      "Name: (Unnamed: 3_level_0, xG), dtype: float64\n"
     ]
    }
   ],
   "source": [
    "print((match['Shots'][0].Both[0]['Unnamed: 3_level_0','xG']))"
   ]
  },
  {
   "cell_type": "code",
   "execution_count": 83,
   "metadata": {},
   "outputs": [
    {
     "data": {
      "text/plain": [
       "24"
      ]
     },
     "execution_count": 83,
     "metadata": {},
     "output_type": "execute_result"
    }
   ],
   "source": [
    "len(match['Shots'][0].Home[0])"
   ]
  },
  {
   "cell_type": "code",
   "execution_count": 123,
   "metadata": {},
   "outputs": [
    {
     "name": "stdout",
     "output_type": "stream",
     "text": [
      "home prob = 68%, away prob = 11%\n"
     ]
    }
   ],
   "source": [
    "import pandas as pd\n",
    "import numpy as np\n",
    "import random\n",
    "\n",
    "\n",
    "def simulate_shots():\n",
    "    home_num_of_shots = (len(match['Shots'][0].Home[0]))\n",
    "    away_num_of_shots = (len(match['Shots'][0].Away[0]))\n",
    "    match['Shots'][0].Home[0]['generated'] = np.random.rand()\n",
    "    match['Shots'][0].Home[0]['simulate'] = (np.random.rand(home_num_of_shots) < match['Shots'][0].Home[0]['Unnamed: 3_level_0','xG'])\n",
    "    # print(match['Shots'][0].Home[0]['simulate'])\n",
    "    home_goals = len(match['Shots'][0].Home[0][match['Shots'][0].Home[0]['simulate'] == True])\n",
    "\n",
    "    match['Shots'][0].Away[0]['generated'] = np.random.rand()\n",
    "    match['Shots'][0].Away[0]['simulate'] = (np.random.rand(away_num_of_shots) < match['Shots'][0].Away[0]['Unnamed: 3_level_0','xG'])\n",
    "    # print(match['Shots'][0].Away[0]['simulate'])\n",
    "    away_goals = len(match['Shots'][0].Away[0][match['Shots'][0].Away[0]['simulate'] == True])\n",
    "    # print(f'LIV {home_goals} - {away_goals} RMD')\n",
    "    return (home_goals, away_goals)\n",
    "\n",
    "def simulation_loop(simulation_volume = 1000):\n",
    "    home_win = 0\n",
    "    away_win = 0\n",
    "    for _ in range (simulation_volume):\n",
    "        (a, b) = simulate_shots()\n",
    "        if (a > b):\n",
    "            home_win += 1\n",
    "        elif (a < b):\n",
    "            away_win += 1\n",
    "    return(home_win/simulation_volume, away_win/simulation_volume)\n",
    "\n",
    "a, b = simulation_loop(1000000)\n",
    "print(f'home prob = {round(a*100)}%, away prob = {round(b*100)}%')\n",
    "    "
   ]
  },
  {
   "cell_type": "code",
   "execution_count": 73,
   "metadata": {},
   "outputs": [
    {
     "data": {
      "text/html": [
       "<div>\n",
       "<style scoped>\n",
       "    .dataframe tbody tr th:only-of-type {\n",
       "        vertical-align: middle;\n",
       "    }\n",
       "\n",
       "    .dataframe tbody tr th {\n",
       "        vertical-align: top;\n",
       "    }\n",
       "\n",
       "    .dataframe thead th {\n",
       "        text-align: right;\n",
       "    }\n",
       "</style>\n",
       "<table border=\"1\" class=\"dataframe\">\n",
       "  <thead>\n",
       "    <tr style=\"text-align: right;\">\n",
       "      <th></th>\n",
       "      <th>a</th>\n",
       "      <th>b</th>\n",
       "    </tr>\n",
       "  </thead>\n",
       "  <tbody>\n",
       "    <tr>\n",
       "      <th>0</th>\n",
       "      <td>0.4</td>\n",
       "      <td>0.459252</td>\n",
       "    </tr>\n",
       "    <tr>\n",
       "      <th>1</th>\n",
       "      <td>0.5</td>\n",
       "      <td>0.709890</td>\n",
       "    </tr>\n",
       "  </tbody>\n",
       "</table>\n",
       "</div>"
      ],
      "text/plain": [
       "     a         b\n",
       "0  0.4  0.459252\n",
       "1  0.5  0.709890"
      ]
     },
     "execution_count": 73,
     "metadata": {},
     "output_type": "execute_result"
    }
   ],
   "source": [
    "import pandas as pd\n",
    "import numpy as np\n",
    "import random\n",
    "\n",
    "df = {\n",
    "    'a': [0.4, 0.5],\n",
    "}\n",
    "\n",
    "df = pd.DataFrame(df)\n",
    "df['b'] = np.random.rand(2)\n",
    "df"
   ]
  },
  {
   "cell_type": "code",
   "execution_count": 31,
   "metadata": {},
   "outputs": [
    {
     "data": {
      "text/plain": [
       "MultiIndex([( 'Unnamed: 0_level_0',  'Player'),\n",
       "            ( 'Unnamed: 1_level_0',       '#'),\n",
       "            ( 'Unnamed: 2_level_0',  'Nation'),\n",
       "            ( 'Unnamed: 3_level_0',     'Pos'),\n",
       "            ( 'Unnamed: 4_level_0',     'Age'),\n",
       "            ( 'Unnamed: 5_level_0',     'Min'),\n",
       "            (              'Total',     'Cmp'),\n",
       "            (              'Total',     'Att'),\n",
       "            (              'Total',    'Cmp%'),\n",
       "            (              'Total', 'TotDist'),\n",
       "            (              'Total', 'PrgDist'),\n",
       "            (              'Short',     'Cmp'),\n",
       "            (              'Short',     'Att'),\n",
       "            (              'Short',    'Cmp%'),\n",
       "            (             'Medium',     'Cmp'),\n",
       "            (             'Medium',     'Att'),\n",
       "            (             'Medium',    'Cmp%'),\n",
       "            (               'Long',     'Cmp'),\n",
       "            (               'Long',     'Att'),\n",
       "            (               'Long',    'Cmp%'),\n",
       "            ('Unnamed: 20_level_0',     'Ast'),\n",
       "            ('Unnamed: 21_level_0',     'xAG'),\n",
       "            ('Unnamed: 22_level_0',      'xA'),\n",
       "            ('Unnamed: 23_level_0',      'KP'),\n",
       "            ('Unnamed: 24_level_0',     '1/3'),\n",
       "            ('Unnamed: 25_level_0',     'PPA'),\n",
       "            ('Unnamed: 26_level_0',   'CrsPA'),\n",
       "            ('Unnamed: 27_level_0',    'PrgP'),\n",
       "            (          'Player ID',        '')],\n",
       "           )"
      ]
     },
     "execution_count": 31,
     "metadata": {},
     "output_type": "execute_result"
    }
   ],
   "source": [
    "match['Home Player Stats'][0]['Passing'][0].columns"
   ]
  },
  {
   "cell_type": "code",
   "execution_count": 28,
   "metadata": {},
   "outputs": [
    {
     "name": "stdout",
     "output_type": "stream",
     "text": [
      "<class 'pandas.core.frame.DataFrame'>\n",
      "0      9\n",
      "1      1\n",
      "2      2\n",
      "3      2\n",
      "4     19\n",
      "5      0\n",
      "6      9\n",
      "7     10\n",
      "8      4\n",
      "9      7\n",
      "10     3\n",
      "11     6\n",
      "12    12\n",
      "13     0\n",
      "14    84\n",
      "Name: (Unnamed: 27_level_0, PrgP), dtype: int64\n"
     ]
    }
   ],
   "source": [
    "print(type(match['Home Player Stats'][0]))\n",
    "# match['Home Player Stats'][0]['Passing'][0].columns \n",
    "# match['Home Player Stats'][0]['Summary'][0].columns \n",
    "print((match['Home Player Stats'][0]['Passing'][0]['Unnamed: 27_level_0','PrgP']))"
   ]
  },
  {
   "cell_type": "code",
   "execution_count": 50,
   "metadata": {},
   "outputs": [],
   "source": [
    "# match['Home Player Stats'][0]['Passing'][0].drop(index=[14], inplace=True)\n",
    "match['Home Player Stats'][0]['Possession'][0].drop(index=[14], inplace=True)"
   ]
  },
  {
   "cell_type": "code",
   "execution_count": 51,
   "metadata": {},
   "outputs": [
    {
     "name": "stderr",
     "output_type": "stream",
     "text": [
      "/tmp/ipykernel_453564/1972580157.py:1: FutureWarning: In a future version of pandas all arguments of DataFrame.drop except for the argument 'labels' will be keyword-only.\n",
      "  df_home_PrgP = (match['Home Player Stats'][0]['Passing'][0].drop(match['Home Player Stats'][0]['Passing'][0].columns.difference([['Unnamed: 27_level_0','PrgP']]), 1))\n"
     ]
    },
    {
     "data": {
      "text/html": [
       "<div>\n",
       "<style scoped>\n",
       "    .dataframe tbody tr th:only-of-type {\n",
       "        vertical-align: middle;\n",
       "    }\n",
       "\n",
       "    .dataframe tbody tr th {\n",
       "        vertical-align: top;\n",
       "    }\n",
       "\n",
       "    .dataframe thead tr th {\n",
       "        text-align: left;\n",
       "    }\n",
       "</style>\n",
       "<table border=\"1\" class=\"dataframe\">\n",
       "  <thead>\n",
       "    <tr>\n",
       "      <th></th>\n",
       "      <th>Unnamed: 27_level_0</th>\n",
       "    </tr>\n",
       "    <tr>\n",
       "      <th></th>\n",
       "      <th>PrgP</th>\n",
       "    </tr>\n",
       "  </thead>\n",
       "  <tbody>\n",
       "    <tr>\n",
       "      <th>0</th>\n",
       "      <td>9</td>\n",
       "    </tr>\n",
       "    <tr>\n",
       "      <th>1</th>\n",
       "      <td>1</td>\n",
       "    </tr>\n",
       "    <tr>\n",
       "      <th>2</th>\n",
       "      <td>2</td>\n",
       "    </tr>\n",
       "    <tr>\n",
       "      <th>3</th>\n",
       "      <td>2</td>\n",
       "    </tr>\n",
       "    <tr>\n",
       "      <th>4</th>\n",
       "      <td>19</td>\n",
       "    </tr>\n",
       "    <tr>\n",
       "      <th>5</th>\n",
       "      <td>0</td>\n",
       "    </tr>\n",
       "    <tr>\n",
       "      <th>6</th>\n",
       "      <td>9</td>\n",
       "    </tr>\n",
       "    <tr>\n",
       "      <th>7</th>\n",
       "      <td>10</td>\n",
       "    </tr>\n",
       "    <tr>\n",
       "      <th>8</th>\n",
       "      <td>4</td>\n",
       "    </tr>\n",
       "    <tr>\n",
       "      <th>9</th>\n",
       "      <td>7</td>\n",
       "    </tr>\n",
       "    <tr>\n",
       "      <th>10</th>\n",
       "      <td>3</td>\n",
       "    </tr>\n",
       "    <tr>\n",
       "      <th>11</th>\n",
       "      <td>6</td>\n",
       "    </tr>\n",
       "    <tr>\n",
       "      <th>12</th>\n",
       "      <td>12</td>\n",
       "    </tr>\n",
       "    <tr>\n",
       "      <th>13</th>\n",
       "      <td>0</td>\n",
       "    </tr>\n",
       "  </tbody>\n",
       "</table>\n",
       "</div>"
      ],
      "text/plain": [
       "   Unnamed: 27_level_0\n",
       "                  PrgP\n",
       "0                    9\n",
       "1                    1\n",
       "2                    2\n",
       "3                    2\n",
       "4                   19\n",
       "5                    0\n",
       "6                    9\n",
       "7                   10\n",
       "8                    4\n",
       "9                    7\n",
       "10                   3\n",
       "11                   6\n",
       "12                  12\n",
       "13                   0"
      ]
     },
     "execution_count": 51,
     "metadata": {},
     "output_type": "execute_result"
    }
   ],
   "source": [
    "df_home_PrgP = (match['Home Player Stats'][0]['Passing'][0].drop(match['Home Player Stats'][0]['Passing'][0].columns.difference([['Unnamed: 27_level_0','PrgP']]), 1))\n",
    "# df_home_PrgP = (match['Home Player Stats'][0]['Passing'][0].drop(match['Home Player Stats'][0]['Passing'][0].columns.difference([['Unnamed: 27_level_0','PrgP']]), 1))\n",
    "# df_away_PrgP = (match['Away Player Stats'][0]['Passing'][0].drop(match['Away Player Stats'][0]['Passing'][0].columns.difference([['Unnamed: 27_level_0','PrgP']]), 1))\n",
    "df_home_PrgP"
   ]
  },
  {
   "cell_type": "code",
   "execution_count": 40,
   "metadata": {},
   "outputs": [
    {
     "data": {
      "text/plain": [
       "Index(['Team Sheet', 'Summary', 'GK', 'Passing', 'Pass Types', 'Defense',\n",
       "       'Possession', 'Misc'],\n",
       "      dtype='object')"
      ]
     },
     "execution_count": 40,
     "metadata": {},
     "output_type": "execute_result"
    }
   ],
   "source": [
    "match['Home Player Stats'][0].columns"
   ]
  },
  {
   "cell_type": "code",
   "execution_count": 42,
   "metadata": {},
   "outputs": [
    {
     "data": {
      "text/plain": [
       "MultiIndex([('Unnamed: 0_level_0',  'Player'),\n",
       "            ('Unnamed: 1_level_0',       '#'),\n",
       "            ('Unnamed: 2_level_0',  'Nation'),\n",
       "            ('Unnamed: 3_level_0',     'Pos'),\n",
       "            ('Unnamed: 4_level_0',     'Age'),\n",
       "            ('Unnamed: 5_level_0',     'Min'),\n",
       "            (           'Touches', 'Touches'),\n",
       "            (           'Touches', 'Def Pen'),\n",
       "            (           'Touches', 'Def 3rd'),\n",
       "            (           'Touches', 'Mid 3rd'),\n",
       "            (           'Touches', 'Att 3rd'),\n",
       "            (           'Touches', 'Att Pen'),\n",
       "            (           'Touches',    'Live'),\n",
       "            (          'Take-Ons',     'Att'),\n",
       "            (          'Take-Ons',    'Succ'),\n",
       "            (          'Take-Ons',   'Succ%'),\n",
       "            (          'Take-Ons',    'Tkld'),\n",
       "            (          'Take-Ons',   'Tkld%'),\n",
       "            (           'Carries', 'Carries'),\n",
       "            (           'Carries', 'TotDist'),\n",
       "            (           'Carries', 'PrgDist'),\n",
       "            (           'Carries',    'PrgC'),\n",
       "            (           'Carries',     '1/3'),\n",
       "            (           'Carries',     'CPA'),\n",
       "            (           'Carries',     'Mis'),\n",
       "            (           'Carries',     'Dis'),\n",
       "            (         'Receiving',     'Rec'),\n",
       "            (         'Receiving',    'PrgR'),\n",
       "            (         'Player ID',        '')],\n",
       "           )"
      ]
     },
     "execution_count": 42,
     "metadata": {},
     "output_type": "execute_result"
    }
   ],
   "source": [
    "match['Home Player Stats'][0]['Possession'][0].columns"
   ]
  },
  {
   "cell_type": "code",
   "execution_count": 52,
   "metadata": {},
   "outputs": [
    {
     "name": "stderr",
     "output_type": "stream",
     "text": [
      "/tmp/ipykernel_453564/3769736157.py:1: FutureWarning: In a future version of pandas all arguments of DataFrame.drop except for the argument 'labels' will be keyword-only.\n",
      "  df_home_PrgCD = (match['Home Player Stats'][0]['Possession'][0].drop(match['Home Player Stats'][0]['Possession'][0].columns.difference([['Carries', 'PrgDist']]), 1))\n"
     ]
    },
    {
     "data": {
      "text/html": [
       "<div>\n",
       "<style scoped>\n",
       "    .dataframe tbody tr th:only-of-type {\n",
       "        vertical-align: middle;\n",
       "    }\n",
       "\n",
       "    .dataframe tbody tr th {\n",
       "        vertical-align: top;\n",
       "    }\n",
       "\n",
       "    .dataframe thead tr th {\n",
       "        text-align: left;\n",
       "    }\n",
       "</style>\n",
       "<table border=\"1\" class=\"dataframe\">\n",
       "  <thead>\n",
       "    <tr>\n",
       "      <th></th>\n",
       "      <th>Carries</th>\n",
       "    </tr>\n",
       "    <tr>\n",
       "      <th></th>\n",
       "      <th>PrgDist</th>\n",
       "    </tr>\n",
       "  </thead>\n",
       "  <tbody>\n",
       "    <tr>\n",
       "      <th>0</th>\n",
       "      <td>127</td>\n",
       "    </tr>\n",
       "    <tr>\n",
       "      <th>1</th>\n",
       "      <td>74</td>\n",
       "    </tr>\n",
       "    <tr>\n",
       "      <th>2</th>\n",
       "      <td>74</td>\n",
       "    </tr>\n",
       "    <tr>\n",
       "      <th>3</th>\n",
       "      <td>119</td>\n",
       "    </tr>\n",
       "    <tr>\n",
       "      <th>4</th>\n",
       "      <td>107</td>\n",
       "    </tr>\n",
       "    <tr>\n",
       "      <th>5</th>\n",
       "      <td>21</td>\n",
       "    </tr>\n",
       "    <tr>\n",
       "      <th>6</th>\n",
       "      <td>199</td>\n",
       "    </tr>\n",
       "    <tr>\n",
       "      <th>7</th>\n",
       "      <td>116</td>\n",
       "    </tr>\n",
       "    <tr>\n",
       "      <th>8</th>\n",
       "      <td>59</td>\n",
       "    </tr>\n",
       "    <tr>\n",
       "      <th>9</th>\n",
       "      <td>130</td>\n",
       "    </tr>\n",
       "    <tr>\n",
       "      <th>10</th>\n",
       "      <td>53</td>\n",
       "    </tr>\n",
       "    <tr>\n",
       "      <th>11</th>\n",
       "      <td>128</td>\n",
       "    </tr>\n",
       "    <tr>\n",
       "      <th>12</th>\n",
       "      <td>127</td>\n",
       "    </tr>\n",
       "    <tr>\n",
       "      <th>13</th>\n",
       "      <td>42</td>\n",
       "    </tr>\n",
       "  </tbody>\n",
       "</table>\n",
       "</div>"
      ],
      "text/plain": [
       "   Carries\n",
       "   PrgDist\n",
       "0      127\n",
       "1       74\n",
       "2       74\n",
       "3      119\n",
       "4      107\n",
       "5       21\n",
       "6      199\n",
       "7      116\n",
       "8       59\n",
       "9      130\n",
       "10      53\n",
       "11     128\n",
       "12     127\n",
       "13      42"
      ]
     },
     "execution_count": 52,
     "metadata": {},
     "output_type": "execute_result"
    }
   ],
   "source": [
    "df_home_PrgCD = (match['Home Player Stats'][0]['Possession'][0].drop(match['Home Player Stats'][0]['Possession'][0].columns.difference([['Carries', 'PrgDist']]), 1))\n",
    "# df_home_PrgP = (match['Home Player Stats'][0]['Passing'][0].drop(match['Home Player Stats'][0]['Passing'][0].columns.difference([['Unnamed: 27_level_0','PrgP']]), 1))\n",
    "# df_away_PrgP = (match['Away Player Stats'][0]['Passing'][0].drop(match['Away Player Stats'][0]['Passing'][0].columns.difference([['Unnamed: 27_level_0','PrgP']]), 1))\n",
    "df_home_PrgCD"
   ]
  },
  {
   "cell_type": "code",
   "execution_count": 83,
   "metadata": {},
   "outputs": [
    {
     "name": "stderr",
     "output_type": "stream",
     "text": [
      "/tmp/ipykernel_453564/2384657533.py:1: FutureWarning: In a future version of pandas all arguments of DataFrame.drop except for the argument 'labels' will be keyword-only.\n",
      "  df_home_team = (match['Home Player Stats'][0]['Possession'][0].drop(match['Home Player Stats'][0]['Possession'][0].columns.difference([[ 'Unnamed: 0_level_0',\t'Player']]), 1))\n"
     ]
    },
    {
     "data": {
      "text/html": [
       "<div>\n",
       "<style scoped>\n",
       "    .dataframe tbody tr th:only-of-type {\n",
       "        vertical-align: middle;\n",
       "    }\n",
       "\n",
       "    .dataframe tbody tr th {\n",
       "        vertical-align: top;\n",
       "    }\n",
       "\n",
       "    .dataframe thead tr th {\n",
       "        text-align: left;\n",
       "    }\n",
       "</style>\n",
       "<table border=\"1\" class=\"dataframe\">\n",
       "  <thead>\n",
       "    <tr>\n",
       "      <th></th>\n",
       "      <th>Unnamed: 0_level_0</th>\n",
       "    </tr>\n",
       "    <tr>\n",
       "      <th></th>\n",
       "      <th>Player</th>\n",
       "    </tr>\n",
       "  </thead>\n",
       "  <tbody>\n",
       "    <tr>\n",
       "      <th>0</th>\n",
       "      <td>Sadio Mané</td>\n",
       "    </tr>\n",
       "    <tr>\n",
       "      <th>1</th>\n",
       "      <td>Luis Díaz</td>\n",
       "    </tr>\n",
       "    <tr>\n",
       "      <th>2</th>\n",
       "      <td>Diogo Jota</td>\n",
       "    </tr>\n",
       "    <tr>\n",
       "      <th>3</th>\n",
       "      <td>Mohamed Salah</td>\n",
       "    </tr>\n",
       "    <tr>\n",
       "      <th>4</th>\n",
       "      <td>Thiago Alcántara</td>\n",
       "    </tr>\n",
       "    <tr>\n",
       "      <th>5</th>\n",
       "      <td>Roberto Firmino</td>\n",
       "    </tr>\n",
       "    <tr>\n",
       "      <th>6</th>\n",
       "      <td>Fabinho</td>\n",
       "    </tr>\n",
       "    <tr>\n",
       "      <th>7</th>\n",
       "      <td>Jordan Henderson</td>\n",
       "    </tr>\n",
       "    <tr>\n",
       "      <th>8</th>\n",
       "      <td>Naby Keïta</td>\n",
       "    </tr>\n",
       "    <tr>\n",
       "      <th>9</th>\n",
       "      <td>Andrew Robertson</td>\n",
       "    </tr>\n",
       "    <tr>\n",
       "      <th>10</th>\n",
       "      <td>Virgil van Dijk</td>\n",
       "    </tr>\n",
       "    <tr>\n",
       "      <th>11</th>\n",
       "      <td>Ibrahima Konaté</td>\n",
       "    </tr>\n",
       "    <tr>\n",
       "      <th>12</th>\n",
       "      <td>Trent Alexander-Arnold</td>\n",
       "    </tr>\n",
       "    <tr>\n",
       "      <th>13</th>\n",
       "      <td>Alisson</td>\n",
       "    </tr>\n",
       "  </tbody>\n",
       "</table>\n",
       "</div>"
      ],
      "text/plain": [
       "        Unnamed: 0_level_0\n",
       "                    Player\n",
       "0               Sadio Mané\n",
       "1                Luis Díaz\n",
       "2               Diogo Jota\n",
       "3            Mohamed Salah\n",
       "4         Thiago Alcántara\n",
       "5          Roberto Firmino\n",
       "6                  Fabinho\n",
       "7         Jordan Henderson\n",
       "8               Naby Keïta\n",
       "9         Andrew Robertson\n",
       "10         Virgil van Dijk\n",
       "11         Ibrahima Konaté\n",
       "12  Trent Alexander-Arnold\n",
       "13                 Alisson"
      ]
     },
     "execution_count": 83,
     "metadata": {},
     "output_type": "execute_result"
    }
   ],
   "source": [
    "df_home_team = (match['Home Player Stats'][0]['Possession'][0].drop(match['Home Player Stats'][0]['Possession'][0].columns.difference([[ 'Unnamed: 0_level_0',\t'Player']]), 1))\n",
    "df_home_team "
   ]
  },
  {
   "cell_type": "code",
   "execution_count": 89,
   "metadata": {},
   "outputs": [
    {
     "data": {
      "text/plain": [
       "(14, 1)"
      ]
     },
     "execution_count": 89,
     "metadata": {},
     "output_type": "execute_result"
    }
   ],
   "source": [
    "import pandas as pd\n",
    "import numpy as np\n",
    "\n",
    "df_home_team.columns = ['name']\n",
    "(df_home_team).to_csv('df_home_team.csv', index=0)\n",
    "df_home_team = pd.read_csv('df_home_team.csv')\n",
    "df_home_team.values.shape"
   ]
  },
  {
   "cell_type": "code",
   "execution_count": 154,
   "metadata": {},
   "outputs": [
    {
     "data": {
      "text/html": [
       "<div>\n",
       "<style scoped>\n",
       "    .dataframe tbody tr th:only-of-type {\n",
       "        vertical-align: middle;\n",
       "    }\n",
       "\n",
       "    .dataframe tbody tr th {\n",
       "        vertical-align: top;\n",
       "    }\n",
       "\n",
       "    .dataframe thead th {\n",
       "        text-align: right;\n",
       "    }\n",
       "</style>\n",
       "<table border=\"1\" class=\"dataframe\">\n",
       "  <thead>\n",
       "    <tr style=\"text-align: right;\">\n",
       "      <th></th>\n",
       "      <th>name</th>\n",
       "      <th>progressive pass</th>\n",
       "      <th>progressive carry distance</th>\n",
       "      <th>Team</th>\n",
       "    </tr>\n",
       "  </thead>\n",
       "  <tbody>\n",
       "    <tr>\n",
       "      <th>0</th>\n",
       "      <td>Sadio Mané</td>\n",
       "      <td>9</td>\n",
       "      <td>127</td>\n",
       "      <td>Liverpool</td>\n",
       "    </tr>\n",
       "    <tr>\n",
       "      <th>1</th>\n",
       "      <td>Luis Díaz</td>\n",
       "      <td>1</td>\n",
       "      <td>74</td>\n",
       "      <td>Liverpool</td>\n",
       "    </tr>\n",
       "    <tr>\n",
       "      <th>2</th>\n",
       "      <td>Diogo Jota</td>\n",
       "      <td>2</td>\n",
       "      <td>74</td>\n",
       "      <td>Liverpool</td>\n",
       "    </tr>\n",
       "    <tr>\n",
       "      <th>3</th>\n",
       "      <td>Mohamed Salah</td>\n",
       "      <td>2</td>\n",
       "      <td>119</td>\n",
       "      <td>Liverpool</td>\n",
       "    </tr>\n",
       "    <tr>\n",
       "      <th>4</th>\n",
       "      <td>Thiago Alcántara</td>\n",
       "      <td>19</td>\n",
       "      <td>107</td>\n",
       "      <td>Liverpool</td>\n",
       "    </tr>\n",
       "    <tr>\n",
       "      <th>5</th>\n",
       "      <td>Roberto Firmino</td>\n",
       "      <td>0</td>\n",
       "      <td>21</td>\n",
       "      <td>Liverpool</td>\n",
       "    </tr>\n",
       "    <tr>\n",
       "      <th>6</th>\n",
       "      <td>Fabinho</td>\n",
       "      <td>9</td>\n",
       "      <td>199</td>\n",
       "      <td>Liverpool</td>\n",
       "    </tr>\n",
       "    <tr>\n",
       "      <th>7</th>\n",
       "      <td>Jordan Henderson</td>\n",
       "      <td>10</td>\n",
       "      <td>116</td>\n",
       "      <td>Liverpool</td>\n",
       "    </tr>\n",
       "    <tr>\n",
       "      <th>8</th>\n",
       "      <td>Naby Keïta</td>\n",
       "      <td>4</td>\n",
       "      <td>59</td>\n",
       "      <td>Liverpool</td>\n",
       "    </tr>\n",
       "    <tr>\n",
       "      <th>9</th>\n",
       "      <td>Andrew Robertson</td>\n",
       "      <td>7</td>\n",
       "      <td>130</td>\n",
       "      <td>Liverpool</td>\n",
       "    </tr>\n",
       "    <tr>\n",
       "      <th>10</th>\n",
       "      <td>Virgil van Dijk</td>\n",
       "      <td>3</td>\n",
       "      <td>53</td>\n",
       "      <td>Liverpool</td>\n",
       "    </tr>\n",
       "    <tr>\n",
       "      <th>11</th>\n",
       "      <td>Ibrahima Konaté</td>\n",
       "      <td>6</td>\n",
       "      <td>128</td>\n",
       "      <td>Liverpool</td>\n",
       "    </tr>\n",
       "    <tr>\n",
       "      <th>12</th>\n",
       "      <td>Trent Alexander-Arnold</td>\n",
       "      <td>12</td>\n",
       "      <td>127</td>\n",
       "      <td>Liverpool</td>\n",
       "    </tr>\n",
       "    <tr>\n",
       "      <th>13</th>\n",
       "      <td>Alisson</td>\n",
       "      <td>0</td>\n",
       "      <td>42</td>\n",
       "      <td>Liverpool</td>\n",
       "    </tr>\n",
       "  </tbody>\n",
       "</table>\n",
       "</div>"
      ],
      "text/plain": [
       "                      name  progressive pass  progressive carry distance  \\\n",
       "0               Sadio Mané                 9                         127   \n",
       "1                Luis Díaz                 1                          74   \n",
       "2               Diogo Jota                 2                          74   \n",
       "3            Mohamed Salah                 2                         119   \n",
       "4         Thiago Alcántara                19                         107   \n",
       "5          Roberto Firmino                 0                          21   \n",
       "6                  Fabinho                 9                         199   \n",
       "7         Jordan Henderson                10                         116   \n",
       "8               Naby Keïta                 4                          59   \n",
       "9         Andrew Robertson                 7                         130   \n",
       "10         Virgil van Dijk                 3                          53   \n",
       "11         Ibrahima Konaté                 6                         128   \n",
       "12  Trent Alexander-Arnold                12                         127   \n",
       "13                 Alisson                 0                          42   \n",
       "\n",
       "         Team  \n",
       "0   Liverpool  \n",
       "1   Liverpool  \n",
       "2   Liverpool  \n",
       "3   Liverpool  \n",
       "4   Liverpool  \n",
       "5   Liverpool  \n",
       "6   Liverpool  \n",
       "7   Liverpool  \n",
       "8   Liverpool  \n",
       "9   Liverpool  \n",
       "10  Liverpool  \n",
       "11  Liverpool  \n",
       "12  Liverpool  \n",
       "13  Liverpool  "
      ]
     },
     "execution_count": 154,
     "metadata": {},
     "output_type": "execute_result"
    }
   ],
   "source": [
    "home_prg_df = pd.DataFrame({\n",
    "    'name': list(df_home_team.values),\n",
    "    'progressive pass': list(df_home_PrgP.values),\n",
    "    'progressive carry distance': list(df_home_PrgCD.values),\n",
    "    # 'color': np.full(14, ['red'])\n",
    "})\n",
    "home_prg_df = home_prg_df.apply(np.vectorize(lambda x: x[0]))\n",
    "home_prg_df['Team'] = 'Liverpool'\n",
    "\n",
    "home_prg_df"
   ]
  },
  {
   "cell_type": "code",
   "execution_count": 110,
   "metadata": {},
   "outputs": [],
   "source": [
    "# match['Away Player Stats'][0]['Possession'][0].drop(index=[14], inplace=True)\n",
    "match['Away Player Stats'][0]['Passing'][0].drop(index=[14], inplace=True)"
   ]
  },
  {
   "cell_type": "code",
   "execution_count": 111,
   "metadata": {},
   "outputs": [
    {
     "name": "stderr",
     "output_type": "stream",
     "text": [
      "/tmp/ipykernel_453564/3229876529.py:1: FutureWarning: In a future version of pandas all arguments of DataFrame.drop except for the argument 'labels' will be keyword-only.\n",
      "  df_away_PrgP = (match['Away Player Stats'][0]['Passing'][0].drop(match['Away Player Stats'][0]['Passing'][0].columns.difference([['Unnamed: 27_level_0','PrgP']]), 1))\n"
     ]
    },
    {
     "data": {
      "text/html": [
       "<div>\n",
       "<style scoped>\n",
       "    .dataframe tbody tr th:only-of-type {\n",
       "        vertical-align: middle;\n",
       "    }\n",
       "\n",
       "    .dataframe tbody tr th {\n",
       "        vertical-align: top;\n",
       "    }\n",
       "\n",
       "    .dataframe thead tr th {\n",
       "        text-align: left;\n",
       "    }\n",
       "</style>\n",
       "<table border=\"1\" class=\"dataframe\">\n",
       "  <thead>\n",
       "    <tr>\n",
       "      <th></th>\n",
       "      <th>Unnamed: 27_level_0</th>\n",
       "    </tr>\n",
       "    <tr>\n",
       "      <th></th>\n",
       "      <th>PrgP</th>\n",
       "    </tr>\n",
       "  </thead>\n",
       "  <tbody>\n",
       "    <tr>\n",
       "      <th>0</th>\n",
       "      <td>2</td>\n",
       "    </tr>\n",
       "    <tr>\n",
       "      <th>1</th>\n",
       "      <td>1</td>\n",
       "    </tr>\n",
       "    <tr>\n",
       "      <th>2</th>\n",
       "      <td>0</td>\n",
       "    </tr>\n",
       "    <tr>\n",
       "      <th>3</th>\n",
       "      <td>3</td>\n",
       "    </tr>\n",
       "    <tr>\n",
       "      <th>4</th>\n",
       "      <td>0</td>\n",
       "    </tr>\n",
       "    <tr>\n",
       "      <th>5</th>\n",
       "      <td>4</td>\n",
       "    </tr>\n",
       "    <tr>\n",
       "      <th>6</th>\n",
       "      <td>2</td>\n",
       "    </tr>\n",
       "    <tr>\n",
       "      <th>7</th>\n",
       "      <td>3</td>\n",
       "    </tr>\n",
       "    <tr>\n",
       "      <th>8</th>\n",
       "      <td>0</td>\n",
       "    </tr>\n",
       "    <tr>\n",
       "      <th>9</th>\n",
       "      <td>3</td>\n",
       "    </tr>\n",
       "    <tr>\n",
       "      <th>10</th>\n",
       "      <td>1</td>\n",
       "    </tr>\n",
       "    <tr>\n",
       "      <th>11</th>\n",
       "      <td>0</td>\n",
       "    </tr>\n",
       "    <tr>\n",
       "      <th>12</th>\n",
       "      <td>1</td>\n",
       "    </tr>\n",
       "    <tr>\n",
       "      <th>13</th>\n",
       "      <td>0</td>\n",
       "    </tr>\n",
       "  </tbody>\n",
       "</table>\n",
       "</div>"
      ],
      "text/plain": [
       "   Unnamed: 27_level_0\n",
       "                  PrgP\n",
       "0                    2\n",
       "1                    1\n",
       "2                    0\n",
       "3                    3\n",
       "4                    0\n",
       "5                    4\n",
       "6                    2\n",
       "7                    3\n",
       "8                    0\n",
       "9                    3\n",
       "10                   1\n",
       "11                   0\n",
       "12                   1\n",
       "13                   0"
      ]
     },
     "execution_count": 111,
     "metadata": {},
     "output_type": "execute_result"
    }
   ],
   "source": [
    "df_away_PrgP = (match['Away Player Stats'][0]['Passing'][0].drop(match['Away Player Stats'][0]['Passing'][0].columns.difference([['Unnamed: 27_level_0','PrgP']]), 1))\n",
    "# df_home_PrgP = (match['Home Player Stats'][0]['Passing'][0].drop(match['Home Player Stats'][0]['Passing'][0].columns.difference([['Unnamed: 27_level_0','PrgP']]), 1))\n",
    "# df_away_PrgP = (match['Away Player Stats'][0]['Passing'][0].drop(match['Away Player Stats'][0]['Passing'][0].columns.difference([['Unnamed: 27_level_0','PrgP']]), 1))\n",
    "df_away_PrgP"
   ]
  },
  {
   "cell_type": "code",
   "execution_count": 112,
   "metadata": {},
   "outputs": [
    {
     "data": {
      "text/plain": [
       "Index(['Team Sheet', 'Summary', 'GK', 'Passing', 'Pass Types', 'Defense',\n",
       "       'Possession', 'Misc'],\n",
       "      dtype='object')"
      ]
     },
     "execution_count": 112,
     "metadata": {},
     "output_type": "execute_result"
    }
   ],
   "source": [
    "match['Away Player Stats'][0].columns"
   ]
  },
  {
   "cell_type": "code",
   "execution_count": 113,
   "metadata": {},
   "outputs": [
    {
     "data": {
      "text/plain": [
       "MultiIndex([('Unnamed: 0_level_0',  'Player'),\n",
       "            ('Unnamed: 1_level_0',       '#'),\n",
       "            ('Unnamed: 2_level_0',  'Nation'),\n",
       "            ('Unnamed: 3_level_0',     'Pos'),\n",
       "            ('Unnamed: 4_level_0',     'Age'),\n",
       "            ('Unnamed: 5_level_0',     'Min'),\n",
       "            (           'Touches', 'Touches'),\n",
       "            (           'Touches', 'Def Pen'),\n",
       "            (           'Touches', 'Def 3rd'),\n",
       "            (           'Touches', 'Mid 3rd'),\n",
       "            (           'Touches', 'Att 3rd'),\n",
       "            (           'Touches', 'Att Pen'),\n",
       "            (           'Touches',    'Live'),\n",
       "            (          'Take-Ons',     'Att'),\n",
       "            (          'Take-Ons',    'Succ'),\n",
       "            (          'Take-Ons',   'Succ%'),\n",
       "            (          'Take-Ons',    'Tkld'),\n",
       "            (          'Take-Ons',   'Tkld%'),\n",
       "            (           'Carries', 'Carries'),\n",
       "            (           'Carries', 'TotDist'),\n",
       "            (           'Carries', 'PrgDist'),\n",
       "            (           'Carries',    'PrgC'),\n",
       "            (           'Carries',     '1/3'),\n",
       "            (           'Carries',     'CPA'),\n",
       "            (           'Carries',     'Mis'),\n",
       "            (           'Carries',     'Dis'),\n",
       "            (         'Receiving',     'Rec'),\n",
       "            (         'Receiving',    'PrgR'),\n",
       "            (         'Player ID',        '')],\n",
       "           )"
      ]
     },
     "execution_count": 113,
     "metadata": {},
     "output_type": "execute_result"
    }
   ],
   "source": [
    "match['Away Player Stats'][0]['Possession'][0].columns"
   ]
  },
  {
   "cell_type": "code",
   "execution_count": 114,
   "metadata": {},
   "outputs": [
    {
     "name": "stderr",
     "output_type": "stream",
     "text": [
      "/tmp/ipykernel_453564/745886819.py:1: FutureWarning: In a future version of pandas all arguments of DataFrame.drop except for the argument 'labels' will be keyword-only.\n",
      "  df_away_PrgCD = (match['Away Player Stats'][0]['Possession'][0].drop(match['Away Player Stats'][0]['Possession'][0].columns.difference([['Carries', 'PrgDist']]), 1))\n"
     ]
    },
    {
     "data": {
      "text/html": [
       "<div>\n",
       "<style scoped>\n",
       "    .dataframe tbody tr th:only-of-type {\n",
       "        vertical-align: middle;\n",
       "    }\n",
       "\n",
       "    .dataframe tbody tr th {\n",
       "        vertical-align: top;\n",
       "    }\n",
       "\n",
       "    .dataframe thead tr th {\n",
       "        text-align: left;\n",
       "    }\n",
       "</style>\n",
       "<table border=\"1\" class=\"dataframe\">\n",
       "  <thead>\n",
       "    <tr>\n",
       "      <th></th>\n",
       "      <th>Carries</th>\n",
       "    </tr>\n",
       "    <tr>\n",
       "      <th></th>\n",
       "      <th>PrgDist</th>\n",
       "    </tr>\n",
       "  </thead>\n",
       "  <tbody>\n",
       "    <tr>\n",
       "      <th>0</th>\n",
       "      <td>99</td>\n",
       "    </tr>\n",
       "    <tr>\n",
       "      <th>1</th>\n",
       "      <td>111</td>\n",
       "    </tr>\n",
       "    <tr>\n",
       "      <th>2</th>\n",
       "      <td>0</td>\n",
       "    </tr>\n",
       "    <tr>\n",
       "      <th>3</th>\n",
       "      <td>100</td>\n",
       "    </tr>\n",
       "    <tr>\n",
       "      <th>4</th>\n",
       "      <td>4</td>\n",
       "    </tr>\n",
       "    <tr>\n",
       "      <th>5</th>\n",
       "      <td>86</td>\n",
       "    </tr>\n",
       "    <tr>\n",
       "      <th>6</th>\n",
       "      <td>74</td>\n",
       "    </tr>\n",
       "    <tr>\n",
       "      <th>7</th>\n",
       "      <td>73</td>\n",
       "    </tr>\n",
       "    <tr>\n",
       "      <th>8</th>\n",
       "      <td>0</td>\n",
       "    </tr>\n",
       "    <tr>\n",
       "      <th>9</th>\n",
       "      <td>75</td>\n",
       "    </tr>\n",
       "    <tr>\n",
       "      <th>10</th>\n",
       "      <td>52</td>\n",
       "    </tr>\n",
       "    <tr>\n",
       "      <th>11</th>\n",
       "      <td>75</td>\n",
       "    </tr>\n",
       "    <tr>\n",
       "      <th>12</th>\n",
       "      <td>134</td>\n",
       "    </tr>\n",
       "    <tr>\n",
       "      <th>13</th>\n",
       "      <td>101</td>\n",
       "    </tr>\n",
       "  </tbody>\n",
       "</table>\n",
       "</div>"
      ],
      "text/plain": [
       "   Carries\n",
       "   PrgDist\n",
       "0       99\n",
       "1      111\n",
       "2        0\n",
       "3      100\n",
       "4        4\n",
       "5       86\n",
       "6       74\n",
       "7       73\n",
       "8        0\n",
       "9       75\n",
       "10      52\n",
       "11      75\n",
       "12     134\n",
       "13     101"
      ]
     },
     "execution_count": 114,
     "metadata": {},
     "output_type": "execute_result"
    }
   ],
   "source": [
    "df_away_PrgCD = (match['Away Player Stats'][0]['Possession'][0].drop(match['Away Player Stats'][0]['Possession'][0].columns.difference([['Carries', 'PrgDist']]), 1))\n",
    "# df_home_PrgP = (match['Home Player Stats'][0]['Passing'][0].drop(match['Home Player Stats'][0]['Passing'][0].columns.difference([['Unnamed: 27_level_0','PrgP']]), 1))\n",
    "# df_away_PrgP = (match['Away Player Stats'][0]['Passing'][0].drop(match['Away Player Stats'][0]['Passing'][0].columns.difference([['Unnamed: 27_level_0','PrgP']]), 1))\n",
    "df_away_PrgCD"
   ]
  },
  {
   "cell_type": "code",
   "execution_count": 10,
   "metadata": {},
   "outputs": [
    {
     "name": "stderr",
     "output_type": "stream",
     "text": [
      "/tmp/ipykernel_477958/1285482272.py:1: FutureWarning: In a future version of pandas all arguments of DataFrame.drop except for the argument 'labels' will be keyword-only.\n",
      "  df_away_team = (match['Away Player Stats'][0]['Possession'][0].drop(match['Away Player Stats'][0]['Possession'][0].columns.difference([[ 'Unnamed: 0_level_0',\t'Player']]), 1))\n"
     ]
    },
    {
     "data": {
      "text/html": [
       "<div>\n",
       "<style scoped>\n",
       "    .dataframe tbody tr th:only-of-type {\n",
       "        vertical-align: middle;\n",
       "    }\n",
       "\n",
       "    .dataframe tbody tr th {\n",
       "        vertical-align: top;\n",
       "    }\n",
       "\n",
       "    .dataframe thead tr th {\n",
       "        text-align: left;\n",
       "    }\n",
       "</style>\n",
       "<table border=\"1\" class=\"dataframe\">\n",
       "  <thead>\n",
       "    <tr>\n",
       "      <th></th>\n",
       "      <th>Unnamed: 0_level_0</th>\n",
       "    </tr>\n",
       "    <tr>\n",
       "      <th></th>\n",
       "      <th>Player</th>\n",
       "    </tr>\n",
       "  </thead>\n",
       "  <tbody>\n",
       "    <tr>\n",
       "      <th>0</th>\n",
       "      <td>Karim Benzema</td>\n",
       "    </tr>\n",
       "    <tr>\n",
       "      <th>1</th>\n",
       "      <td>Vinicius Júnior</td>\n",
       "    </tr>\n",
       "    <tr>\n",
       "      <th>2</th>\n",
       "      <td>Rodrygo</td>\n",
       "    </tr>\n",
       "    <tr>\n",
       "      <th>3</th>\n",
       "      <td>Federico Valverde</td>\n",
       "    </tr>\n",
       "    <tr>\n",
       "      <th>4</th>\n",
       "      <td>Eduardo Camavinga</td>\n",
       "    </tr>\n",
       "    <tr>\n",
       "      <th>5</th>\n",
       "      <td>Toni Kroos</td>\n",
       "    </tr>\n",
       "    <tr>\n",
       "      <th>6</th>\n",
       "      <td>Casemiro</td>\n",
       "    </tr>\n",
       "    <tr>\n",
       "      <th>7</th>\n",
       "      <td>Luka Modrić</td>\n",
       "    </tr>\n",
       "    <tr>\n",
       "      <th>8</th>\n",
       "      <td>Dani Ceballos</td>\n",
       "    </tr>\n",
       "    <tr>\n",
       "      <th>9</th>\n",
       "      <td>Ferland Mendy</td>\n",
       "    </tr>\n",
       "    <tr>\n",
       "      <th>10</th>\n",
       "      <td>David Alaba</td>\n",
       "    </tr>\n",
       "    <tr>\n",
       "      <th>11</th>\n",
       "      <td>Éder Militão</td>\n",
       "    </tr>\n",
       "    <tr>\n",
       "      <th>12</th>\n",
       "      <td>Dani Carvajal</td>\n",
       "    </tr>\n",
       "    <tr>\n",
       "      <th>13</th>\n",
       "      <td>Thibaut Courtois</td>\n",
       "    </tr>\n",
       "    <tr>\n",
       "      <th>14</th>\n",
       "      <td>14 Players</td>\n",
       "    </tr>\n",
       "  </tbody>\n",
       "</table>\n",
       "</div>"
      ],
      "text/plain": [
       "   Unnamed: 0_level_0\n",
       "               Player\n",
       "0       Karim Benzema\n",
       "1     Vinicius Júnior\n",
       "2             Rodrygo\n",
       "3   Federico Valverde\n",
       "4   Eduardo Camavinga\n",
       "5          Toni Kroos\n",
       "6            Casemiro\n",
       "7         Luka Modrić\n",
       "8       Dani Ceballos\n",
       "9       Ferland Mendy\n",
       "10        David Alaba\n",
       "11       Éder Militão\n",
       "12      Dani Carvajal\n",
       "13   Thibaut Courtois\n",
       "14         14 Players"
      ]
     },
     "execution_count": 10,
     "metadata": {},
     "output_type": "execute_result"
    }
   ],
   "source": [
    "df_away_team = (match['Away Player Stats'][0]['Possession'][0].drop(match['Away Player Stats'][0]['Possession'][0].columns.difference([[ 'Unnamed: 0_level_0',\t'Player']]), 1))\n",
    "df_away_team "
   ]
  },
  {
   "cell_type": "code",
   "execution_count": 11,
   "metadata": {},
   "outputs": [
    {
     "data": {
      "text/plain": [
       "(15, 1)"
      ]
     },
     "execution_count": 11,
     "metadata": {},
     "output_type": "execute_result"
    }
   ],
   "source": [
    "import pandas as pd\n",
    "import numpy as np\n",
    "\n",
    "df_away_team.columns = ['name']\n",
    "(df_away_team).to_csv('df_Away_team.csv', index=0)\n",
    "df_away_team = pd.read_csv('df_Away_team.csv')\n",
    "df_away_team.values.shape"
   ]
  },
  {
   "cell_type": "code",
   "execution_count": 155,
   "metadata": {},
   "outputs": [
    {
     "data": {
      "text/html": [
       "<div>\n",
       "<style scoped>\n",
       "    .dataframe tbody tr th:only-of-type {\n",
       "        vertical-align: middle;\n",
       "    }\n",
       "\n",
       "    .dataframe tbody tr th {\n",
       "        vertical-align: top;\n",
       "    }\n",
       "\n",
       "    .dataframe thead th {\n",
       "        text-align: right;\n",
       "    }\n",
       "</style>\n",
       "<table border=\"1\" class=\"dataframe\">\n",
       "  <thead>\n",
       "    <tr style=\"text-align: right;\">\n",
       "      <th></th>\n",
       "      <th>name</th>\n",
       "      <th>progressive pass</th>\n",
       "      <th>progressive carry distance</th>\n",
       "      <th>Team</th>\n",
       "    </tr>\n",
       "  </thead>\n",
       "  <tbody>\n",
       "    <tr>\n",
       "      <th>0</th>\n",
       "      <td>Karim Benzema</td>\n",
       "      <td>2</td>\n",
       "      <td>99</td>\n",
       "      <td>Real Madrid</td>\n",
       "    </tr>\n",
       "    <tr>\n",
       "      <th>1</th>\n",
       "      <td>Vinicius Júnior</td>\n",
       "      <td>1</td>\n",
       "      <td>111</td>\n",
       "      <td>Real Madrid</td>\n",
       "    </tr>\n",
       "    <tr>\n",
       "      <th>2</th>\n",
       "      <td>Rodrygo</td>\n",
       "      <td>0</td>\n",
       "      <td>0</td>\n",
       "      <td>Real Madrid</td>\n",
       "    </tr>\n",
       "    <tr>\n",
       "      <th>3</th>\n",
       "      <td>Federico Valverde</td>\n",
       "      <td>3</td>\n",
       "      <td>100</td>\n",
       "      <td>Real Madrid</td>\n",
       "    </tr>\n",
       "    <tr>\n",
       "      <th>4</th>\n",
       "      <td>Eduardo Camavinga</td>\n",
       "      <td>0</td>\n",
       "      <td>4</td>\n",
       "      <td>Real Madrid</td>\n",
       "    </tr>\n",
       "    <tr>\n",
       "      <th>5</th>\n",
       "      <td>Toni Kroos</td>\n",
       "      <td>4</td>\n",
       "      <td>86</td>\n",
       "      <td>Real Madrid</td>\n",
       "    </tr>\n",
       "    <tr>\n",
       "      <th>6</th>\n",
       "      <td>Casemiro</td>\n",
       "      <td>2</td>\n",
       "      <td>74</td>\n",
       "      <td>Real Madrid</td>\n",
       "    </tr>\n",
       "    <tr>\n",
       "      <th>7</th>\n",
       "      <td>Luka Modrić</td>\n",
       "      <td>3</td>\n",
       "      <td>73</td>\n",
       "      <td>Real Madrid</td>\n",
       "    </tr>\n",
       "    <tr>\n",
       "      <th>8</th>\n",
       "      <td>Dani Ceballos</td>\n",
       "      <td>0</td>\n",
       "      <td>0</td>\n",
       "      <td>Real Madrid</td>\n",
       "    </tr>\n",
       "    <tr>\n",
       "      <th>9</th>\n",
       "      <td>Ferland Mendy</td>\n",
       "      <td>3</td>\n",
       "      <td>75</td>\n",
       "      <td>Real Madrid</td>\n",
       "    </tr>\n",
       "    <tr>\n",
       "      <th>10</th>\n",
       "      <td>David Alaba</td>\n",
       "      <td>1</td>\n",
       "      <td>52</td>\n",
       "      <td>Real Madrid</td>\n",
       "    </tr>\n",
       "    <tr>\n",
       "      <th>11</th>\n",
       "      <td>Éder Militão</td>\n",
       "      <td>0</td>\n",
       "      <td>75</td>\n",
       "      <td>Real Madrid</td>\n",
       "    </tr>\n",
       "    <tr>\n",
       "      <th>12</th>\n",
       "      <td>Dani Carvajal</td>\n",
       "      <td>1</td>\n",
       "      <td>134</td>\n",
       "      <td>Real Madrid</td>\n",
       "    </tr>\n",
       "    <tr>\n",
       "      <th>13</th>\n",
       "      <td>Thibaut Courtois</td>\n",
       "      <td>0</td>\n",
       "      <td>101</td>\n",
       "      <td>Real Madrid</td>\n",
       "    </tr>\n",
       "  </tbody>\n",
       "</table>\n",
       "</div>"
      ],
      "text/plain": [
       "                 name  progressive pass  progressive carry distance  \\\n",
       "0       Karim Benzema                 2                          99   \n",
       "1     Vinicius Júnior                 1                         111   \n",
       "2             Rodrygo                 0                           0   \n",
       "3   Federico Valverde                 3                         100   \n",
       "4   Eduardo Camavinga                 0                           4   \n",
       "5          Toni Kroos                 4                          86   \n",
       "6            Casemiro                 2                          74   \n",
       "7         Luka Modrić                 3                          73   \n",
       "8       Dani Ceballos                 0                           0   \n",
       "9       Ferland Mendy                 3                          75   \n",
       "10        David Alaba                 1                          52   \n",
       "11       Éder Militão                 0                          75   \n",
       "12      Dani Carvajal                 1                         134   \n",
       "13   Thibaut Courtois                 0                         101   \n",
       "\n",
       "           Team  \n",
       "0   Real Madrid  \n",
       "1   Real Madrid  \n",
       "2   Real Madrid  \n",
       "3   Real Madrid  \n",
       "4   Real Madrid  \n",
       "5   Real Madrid  \n",
       "6   Real Madrid  \n",
       "7   Real Madrid  \n",
       "8   Real Madrid  \n",
       "9   Real Madrid  \n",
       "10  Real Madrid  \n",
       "11  Real Madrid  \n",
       "12  Real Madrid  \n",
       "13  Real Madrid  "
      ]
     },
     "execution_count": 155,
     "metadata": {},
     "output_type": "execute_result"
    }
   ],
   "source": [
    "away_prg_df = pd.DataFrame({\n",
    "    'name': list(df_away_team.values),\n",
    "    'progressive pass': list(df_away_PrgP.values),\n",
    "    'progressive carry distance': list(df_away_PrgCD.values),\n",
    "\n",
    "})\n",
    "away_prg_df = away_prg_df.apply(np.vectorize(lambda x: x[0]))\n",
    "away_prg_df['Team'] = 'Real Madrid'\n",
    "\n",
    "away_prg_df"
   ]
  },
  {
   "cell_type": "code",
   "execution_count": 156,
   "metadata": {},
   "outputs": [
    {
     "data": {
      "application/vnd.plotly.v1+json": {
       "config": {
        "plotlyServerURL": "https://plot.ly"
       },
       "data": [
        {
         "hovertemplate": "progressive pass=%{x}<br>progressive carry distance=%{y}<br>name=%{text}<extra></extra>",
         "legendgroup": "",
         "marker": {
          "color": "#636efa",
          "symbol": "circle"
         },
         "mode": "markers+text",
         "name": "",
         "orientation": "v",
         "showlegend": false,
         "text": [
          "Sadio Mané",
          "Luis Díaz",
          "Diogo Jota",
          "Mohamed Salah",
          "Thiago Alcántara",
          "Roberto Firmino",
          "Fabinho",
          "Jordan Henderson",
          "Naby Keïta",
          "Andrew Robertson",
          "Virgil van Dijk",
          "Ibrahima Konaté",
          "Trent Alexander-Arnold",
          "Alisson"
         ],
         "textposition": "bottom right",
         "type": "scatter",
         "x": [
          9,
          1,
          2,
          2,
          19,
          0,
          9,
          10,
          4,
          7,
          3,
          6,
          12,
          0
         ],
         "xaxis": "x",
         "y": [
          127,
          74,
          74,
          119,
          107,
          21,
          199,
          116,
          59,
          130,
          53,
          128,
          127,
          42
         ],
         "yaxis": "y"
        }
       ],
       "layout": {
        "legend": {
         "tracegroupgap": 0
        },
        "margin": {
         "t": 60
        },
        "template": {
         "data": {
          "bar": [
           {
            "error_x": {
             "color": "#2a3f5f"
            },
            "error_y": {
             "color": "#2a3f5f"
            },
            "marker": {
             "line": {
              "color": "#E5ECF6",
              "width": 0.5
             },
             "pattern": {
              "fillmode": "overlay",
              "size": 10,
              "solidity": 0.2
             }
            },
            "type": "bar"
           }
          ],
          "barpolar": [
           {
            "marker": {
             "line": {
              "color": "#E5ECF6",
              "width": 0.5
             },
             "pattern": {
              "fillmode": "overlay",
              "size": 10,
              "solidity": 0.2
             }
            },
            "type": "barpolar"
           }
          ],
          "carpet": [
           {
            "aaxis": {
             "endlinecolor": "#2a3f5f",
             "gridcolor": "white",
             "linecolor": "white",
             "minorgridcolor": "white",
             "startlinecolor": "#2a3f5f"
            },
            "baxis": {
             "endlinecolor": "#2a3f5f",
             "gridcolor": "white",
             "linecolor": "white",
             "minorgridcolor": "white",
             "startlinecolor": "#2a3f5f"
            },
            "type": "carpet"
           }
          ],
          "choropleth": [
           {
            "colorbar": {
             "outlinewidth": 0,
             "ticks": ""
            },
            "type": "choropleth"
           }
          ],
          "contour": [
           {
            "colorbar": {
             "outlinewidth": 0,
             "ticks": ""
            },
            "colorscale": [
             [
              0,
              "#0d0887"
             ],
             [
              0.1111111111111111,
              "#46039f"
             ],
             [
              0.2222222222222222,
              "#7201a8"
             ],
             [
              0.3333333333333333,
              "#9c179e"
             ],
             [
              0.4444444444444444,
              "#bd3786"
             ],
             [
              0.5555555555555556,
              "#d8576b"
             ],
             [
              0.6666666666666666,
              "#ed7953"
             ],
             [
              0.7777777777777778,
              "#fb9f3a"
             ],
             [
              0.8888888888888888,
              "#fdca26"
             ],
             [
              1,
              "#f0f921"
             ]
            ],
            "type": "contour"
           }
          ],
          "contourcarpet": [
           {
            "colorbar": {
             "outlinewidth": 0,
             "ticks": ""
            },
            "type": "contourcarpet"
           }
          ],
          "heatmap": [
           {
            "colorbar": {
             "outlinewidth": 0,
             "ticks": ""
            },
            "colorscale": [
             [
              0,
              "#0d0887"
             ],
             [
              0.1111111111111111,
              "#46039f"
             ],
             [
              0.2222222222222222,
              "#7201a8"
             ],
             [
              0.3333333333333333,
              "#9c179e"
             ],
             [
              0.4444444444444444,
              "#bd3786"
             ],
             [
              0.5555555555555556,
              "#d8576b"
             ],
             [
              0.6666666666666666,
              "#ed7953"
             ],
             [
              0.7777777777777778,
              "#fb9f3a"
             ],
             [
              0.8888888888888888,
              "#fdca26"
             ],
             [
              1,
              "#f0f921"
             ]
            ],
            "type": "heatmap"
           }
          ],
          "heatmapgl": [
           {
            "colorbar": {
             "outlinewidth": 0,
             "ticks": ""
            },
            "colorscale": [
             [
              0,
              "#0d0887"
             ],
             [
              0.1111111111111111,
              "#46039f"
             ],
             [
              0.2222222222222222,
              "#7201a8"
             ],
             [
              0.3333333333333333,
              "#9c179e"
             ],
             [
              0.4444444444444444,
              "#bd3786"
             ],
             [
              0.5555555555555556,
              "#d8576b"
             ],
             [
              0.6666666666666666,
              "#ed7953"
             ],
             [
              0.7777777777777778,
              "#fb9f3a"
             ],
             [
              0.8888888888888888,
              "#fdca26"
             ],
             [
              1,
              "#f0f921"
             ]
            ],
            "type": "heatmapgl"
           }
          ],
          "histogram": [
           {
            "marker": {
             "pattern": {
              "fillmode": "overlay",
              "size": 10,
              "solidity": 0.2
             }
            },
            "type": "histogram"
           }
          ],
          "histogram2d": [
           {
            "colorbar": {
             "outlinewidth": 0,
             "ticks": ""
            },
            "colorscale": [
             [
              0,
              "#0d0887"
             ],
             [
              0.1111111111111111,
              "#46039f"
             ],
             [
              0.2222222222222222,
              "#7201a8"
             ],
             [
              0.3333333333333333,
              "#9c179e"
             ],
             [
              0.4444444444444444,
              "#bd3786"
             ],
             [
              0.5555555555555556,
              "#d8576b"
             ],
             [
              0.6666666666666666,
              "#ed7953"
             ],
             [
              0.7777777777777778,
              "#fb9f3a"
             ],
             [
              0.8888888888888888,
              "#fdca26"
             ],
             [
              1,
              "#f0f921"
             ]
            ],
            "type": "histogram2d"
           }
          ],
          "histogram2dcontour": [
           {
            "colorbar": {
             "outlinewidth": 0,
             "ticks": ""
            },
            "colorscale": [
             [
              0,
              "#0d0887"
             ],
             [
              0.1111111111111111,
              "#46039f"
             ],
             [
              0.2222222222222222,
              "#7201a8"
             ],
             [
              0.3333333333333333,
              "#9c179e"
             ],
             [
              0.4444444444444444,
              "#bd3786"
             ],
             [
              0.5555555555555556,
              "#d8576b"
             ],
             [
              0.6666666666666666,
              "#ed7953"
             ],
             [
              0.7777777777777778,
              "#fb9f3a"
             ],
             [
              0.8888888888888888,
              "#fdca26"
             ],
             [
              1,
              "#f0f921"
             ]
            ],
            "type": "histogram2dcontour"
           }
          ],
          "mesh3d": [
           {
            "colorbar": {
             "outlinewidth": 0,
             "ticks": ""
            },
            "type": "mesh3d"
           }
          ],
          "parcoords": [
           {
            "line": {
             "colorbar": {
              "outlinewidth": 0,
              "ticks": ""
             }
            },
            "type": "parcoords"
           }
          ],
          "pie": [
           {
            "automargin": true,
            "type": "pie"
           }
          ],
          "scatter": [
           {
            "marker": {
             "colorbar": {
              "outlinewidth": 0,
              "ticks": ""
             }
            },
            "type": "scatter"
           }
          ],
          "scatter3d": [
           {
            "line": {
             "colorbar": {
              "outlinewidth": 0,
              "ticks": ""
             }
            },
            "marker": {
             "colorbar": {
              "outlinewidth": 0,
              "ticks": ""
             }
            },
            "type": "scatter3d"
           }
          ],
          "scattercarpet": [
           {
            "marker": {
             "colorbar": {
              "outlinewidth": 0,
              "ticks": ""
             }
            },
            "type": "scattercarpet"
           }
          ],
          "scattergeo": [
           {
            "marker": {
             "colorbar": {
              "outlinewidth": 0,
              "ticks": ""
             }
            },
            "type": "scattergeo"
           }
          ],
          "scattergl": [
           {
            "marker": {
             "colorbar": {
              "outlinewidth": 0,
              "ticks": ""
             }
            },
            "type": "scattergl"
           }
          ],
          "scattermapbox": [
           {
            "marker": {
             "colorbar": {
              "outlinewidth": 0,
              "ticks": ""
             }
            },
            "type": "scattermapbox"
           }
          ],
          "scatterpolar": [
           {
            "marker": {
             "colorbar": {
              "outlinewidth": 0,
              "ticks": ""
             }
            },
            "type": "scatterpolar"
           }
          ],
          "scatterpolargl": [
           {
            "marker": {
             "colorbar": {
              "outlinewidth": 0,
              "ticks": ""
             }
            },
            "type": "scatterpolargl"
           }
          ],
          "scatterternary": [
           {
            "marker": {
             "colorbar": {
              "outlinewidth": 0,
              "ticks": ""
             }
            },
            "type": "scatterternary"
           }
          ],
          "surface": [
           {
            "colorbar": {
             "outlinewidth": 0,
             "ticks": ""
            },
            "colorscale": [
             [
              0,
              "#0d0887"
             ],
             [
              0.1111111111111111,
              "#46039f"
             ],
             [
              0.2222222222222222,
              "#7201a8"
             ],
             [
              0.3333333333333333,
              "#9c179e"
             ],
             [
              0.4444444444444444,
              "#bd3786"
             ],
             [
              0.5555555555555556,
              "#d8576b"
             ],
             [
              0.6666666666666666,
              "#ed7953"
             ],
             [
              0.7777777777777778,
              "#fb9f3a"
             ],
             [
              0.8888888888888888,
              "#fdca26"
             ],
             [
              1,
              "#f0f921"
             ]
            ],
            "type": "surface"
           }
          ],
          "table": [
           {
            "cells": {
             "fill": {
              "color": "#EBF0F8"
             },
             "line": {
              "color": "white"
             }
            },
            "header": {
             "fill": {
              "color": "#C8D4E3"
             },
             "line": {
              "color": "white"
             }
            },
            "type": "table"
           }
          ]
         },
         "layout": {
          "annotationdefaults": {
           "arrowcolor": "#2a3f5f",
           "arrowhead": 0,
           "arrowwidth": 1
          },
          "autotypenumbers": "strict",
          "coloraxis": {
           "colorbar": {
            "outlinewidth": 0,
            "ticks": ""
           }
          },
          "colorscale": {
           "diverging": [
            [
             0,
             "#8e0152"
            ],
            [
             0.1,
             "#c51b7d"
            ],
            [
             0.2,
             "#de77ae"
            ],
            [
             0.3,
             "#f1b6da"
            ],
            [
             0.4,
             "#fde0ef"
            ],
            [
             0.5,
             "#f7f7f7"
            ],
            [
             0.6,
             "#e6f5d0"
            ],
            [
             0.7,
             "#b8e186"
            ],
            [
             0.8,
             "#7fbc41"
            ],
            [
             0.9,
             "#4d9221"
            ],
            [
             1,
             "#276419"
            ]
           ],
           "sequential": [
            [
             0,
             "#0d0887"
            ],
            [
             0.1111111111111111,
             "#46039f"
            ],
            [
             0.2222222222222222,
             "#7201a8"
            ],
            [
             0.3333333333333333,
             "#9c179e"
            ],
            [
             0.4444444444444444,
             "#bd3786"
            ],
            [
             0.5555555555555556,
             "#d8576b"
            ],
            [
             0.6666666666666666,
             "#ed7953"
            ],
            [
             0.7777777777777778,
             "#fb9f3a"
            ],
            [
             0.8888888888888888,
             "#fdca26"
            ],
            [
             1,
             "#f0f921"
            ]
           ],
           "sequentialminus": [
            [
             0,
             "#0d0887"
            ],
            [
             0.1111111111111111,
             "#46039f"
            ],
            [
             0.2222222222222222,
             "#7201a8"
            ],
            [
             0.3333333333333333,
             "#9c179e"
            ],
            [
             0.4444444444444444,
             "#bd3786"
            ],
            [
             0.5555555555555556,
             "#d8576b"
            ],
            [
             0.6666666666666666,
             "#ed7953"
            ],
            [
             0.7777777777777778,
             "#fb9f3a"
            ],
            [
             0.8888888888888888,
             "#fdca26"
            ],
            [
             1,
             "#f0f921"
            ]
           ]
          },
          "colorway": [
           "#636efa",
           "#EF553B",
           "#00cc96",
           "#ab63fa",
           "#FFA15A",
           "#19d3f3",
           "#FF6692",
           "#B6E880",
           "#FF97FF",
           "#FECB52"
          ],
          "font": {
           "color": "#2a3f5f"
          },
          "geo": {
           "bgcolor": "white",
           "lakecolor": "white",
           "landcolor": "#E5ECF6",
           "showlakes": true,
           "showland": true,
           "subunitcolor": "white"
          },
          "hoverlabel": {
           "align": "left"
          },
          "hovermode": "closest",
          "mapbox": {
           "style": "light"
          },
          "paper_bgcolor": "white",
          "plot_bgcolor": "#E5ECF6",
          "polar": {
           "angularaxis": {
            "gridcolor": "white",
            "linecolor": "white",
            "ticks": ""
           },
           "bgcolor": "#E5ECF6",
           "radialaxis": {
            "gridcolor": "white",
            "linecolor": "white",
            "ticks": ""
           }
          },
          "scene": {
           "xaxis": {
            "backgroundcolor": "#E5ECF6",
            "gridcolor": "white",
            "gridwidth": 2,
            "linecolor": "white",
            "showbackground": true,
            "ticks": "",
            "zerolinecolor": "white"
           },
           "yaxis": {
            "backgroundcolor": "#E5ECF6",
            "gridcolor": "white",
            "gridwidth": 2,
            "linecolor": "white",
            "showbackground": true,
            "ticks": "",
            "zerolinecolor": "white"
           },
           "zaxis": {
            "backgroundcolor": "#E5ECF6",
            "gridcolor": "white",
            "gridwidth": 2,
            "linecolor": "white",
            "showbackground": true,
            "ticks": "",
            "zerolinecolor": "white"
           }
          },
          "shapedefaults": {
           "line": {
            "color": "#2a3f5f"
           }
          },
          "ternary": {
           "aaxis": {
            "gridcolor": "white",
            "linecolor": "white",
            "ticks": ""
           },
           "baxis": {
            "gridcolor": "white",
            "linecolor": "white",
            "ticks": ""
           },
           "bgcolor": "#E5ECF6",
           "caxis": {
            "gridcolor": "white",
            "linecolor": "white",
            "ticks": ""
           }
          },
          "title": {
           "x": 0.05
          },
          "xaxis": {
           "automargin": true,
           "gridcolor": "white",
           "linecolor": "white",
           "ticks": "",
           "title": {
            "standoff": 15
           },
           "zerolinecolor": "white",
           "zerolinewidth": 2
          },
          "yaxis": {
           "automargin": true,
           "gridcolor": "white",
           "linecolor": "white",
           "ticks": "",
           "title": {
            "standoff": 15
           },
           "zerolinecolor": "white",
           "zerolinewidth": 2
          }
         }
        },
        "xaxis": {
         "anchor": "y",
         "domain": [
          0,
          1
         ],
         "title": {
          "text": "progressive pass"
         }
        },
        "yaxis": {
         "anchor": "x",
         "domain": [
          0,
          1
         ],
         "title": {
          "text": "progressive carry distance"
         }
        }
       }
      }
     },
     "metadata": {},
     "output_type": "display_data"
    }
   ],
   "source": [
    "import plotly.express as px\n",
    "\n",
    "# df = px.data.gapminder().query(\"country in ['Canada', 'Botswana']\")\n",
    "\n",
    "fig = px.scatter(home_prg_df, x=\"progressive pass\", y=\"progressive carry distance\", text=\"name\")\n",
    "fig.update_traces(textposition=\"bottom right\")\n",
    "fig.show()"
   ]
  },
  {
   "cell_type": "code",
   "execution_count": 157,
   "metadata": {},
   "outputs": [
    {
     "data": {
      "application/vnd.plotly.v1+json": {
       "config": {
        "plotlyServerURL": "https://plot.ly"
       },
       "data": [
        {
         "hovertemplate": "progressive pass=%{x}<br>progressive carry distance=%{y}<br>name=%{text}<extra></extra>",
         "legendgroup": "",
         "marker": {
          "color": "#636efa",
          "symbol": "circle"
         },
         "mode": "markers+text",
         "name": "",
         "orientation": "v",
         "showlegend": false,
         "text": [
          "Karim Benzema",
          "Vinicius Júnior",
          "Rodrygo",
          "Federico Valverde",
          "Eduardo Camavinga",
          "Toni Kroos",
          "Casemiro",
          "Luka Modrić",
          "Dani Ceballos",
          "Ferland Mendy",
          "David Alaba",
          "Éder Militão",
          "Dani Carvajal",
          "Thibaut Courtois"
         ],
         "textposition": "bottom right",
         "type": "scatter",
         "x": [
          2,
          1,
          0,
          3,
          0,
          4,
          2,
          3,
          0,
          3,
          1,
          0,
          1,
          0
         ],
         "xaxis": "x",
         "y": [
          99,
          111,
          0,
          100,
          4,
          86,
          74,
          73,
          0,
          75,
          52,
          75,
          134,
          101
         ],
         "yaxis": "y"
        }
       ],
       "layout": {
        "legend": {
         "tracegroupgap": 0
        },
        "margin": {
         "t": 60
        },
        "template": {
         "data": {
          "bar": [
           {
            "error_x": {
             "color": "#2a3f5f"
            },
            "error_y": {
             "color": "#2a3f5f"
            },
            "marker": {
             "line": {
              "color": "#E5ECF6",
              "width": 0.5
             },
             "pattern": {
              "fillmode": "overlay",
              "size": 10,
              "solidity": 0.2
             }
            },
            "type": "bar"
           }
          ],
          "barpolar": [
           {
            "marker": {
             "line": {
              "color": "#E5ECF6",
              "width": 0.5
             },
             "pattern": {
              "fillmode": "overlay",
              "size": 10,
              "solidity": 0.2
             }
            },
            "type": "barpolar"
           }
          ],
          "carpet": [
           {
            "aaxis": {
             "endlinecolor": "#2a3f5f",
             "gridcolor": "white",
             "linecolor": "white",
             "minorgridcolor": "white",
             "startlinecolor": "#2a3f5f"
            },
            "baxis": {
             "endlinecolor": "#2a3f5f",
             "gridcolor": "white",
             "linecolor": "white",
             "minorgridcolor": "white",
             "startlinecolor": "#2a3f5f"
            },
            "type": "carpet"
           }
          ],
          "choropleth": [
           {
            "colorbar": {
             "outlinewidth": 0,
             "ticks": ""
            },
            "type": "choropleth"
           }
          ],
          "contour": [
           {
            "colorbar": {
             "outlinewidth": 0,
             "ticks": ""
            },
            "colorscale": [
             [
              0,
              "#0d0887"
             ],
             [
              0.1111111111111111,
              "#46039f"
             ],
             [
              0.2222222222222222,
              "#7201a8"
             ],
             [
              0.3333333333333333,
              "#9c179e"
             ],
             [
              0.4444444444444444,
              "#bd3786"
             ],
             [
              0.5555555555555556,
              "#d8576b"
             ],
             [
              0.6666666666666666,
              "#ed7953"
             ],
             [
              0.7777777777777778,
              "#fb9f3a"
             ],
             [
              0.8888888888888888,
              "#fdca26"
             ],
             [
              1,
              "#f0f921"
             ]
            ],
            "type": "contour"
           }
          ],
          "contourcarpet": [
           {
            "colorbar": {
             "outlinewidth": 0,
             "ticks": ""
            },
            "type": "contourcarpet"
           }
          ],
          "heatmap": [
           {
            "colorbar": {
             "outlinewidth": 0,
             "ticks": ""
            },
            "colorscale": [
             [
              0,
              "#0d0887"
             ],
             [
              0.1111111111111111,
              "#46039f"
             ],
             [
              0.2222222222222222,
              "#7201a8"
             ],
             [
              0.3333333333333333,
              "#9c179e"
             ],
             [
              0.4444444444444444,
              "#bd3786"
             ],
             [
              0.5555555555555556,
              "#d8576b"
             ],
             [
              0.6666666666666666,
              "#ed7953"
             ],
             [
              0.7777777777777778,
              "#fb9f3a"
             ],
             [
              0.8888888888888888,
              "#fdca26"
             ],
             [
              1,
              "#f0f921"
             ]
            ],
            "type": "heatmap"
           }
          ],
          "heatmapgl": [
           {
            "colorbar": {
             "outlinewidth": 0,
             "ticks": ""
            },
            "colorscale": [
             [
              0,
              "#0d0887"
             ],
             [
              0.1111111111111111,
              "#46039f"
             ],
             [
              0.2222222222222222,
              "#7201a8"
             ],
             [
              0.3333333333333333,
              "#9c179e"
             ],
             [
              0.4444444444444444,
              "#bd3786"
             ],
             [
              0.5555555555555556,
              "#d8576b"
             ],
             [
              0.6666666666666666,
              "#ed7953"
             ],
             [
              0.7777777777777778,
              "#fb9f3a"
             ],
             [
              0.8888888888888888,
              "#fdca26"
             ],
             [
              1,
              "#f0f921"
             ]
            ],
            "type": "heatmapgl"
           }
          ],
          "histogram": [
           {
            "marker": {
             "pattern": {
              "fillmode": "overlay",
              "size": 10,
              "solidity": 0.2
             }
            },
            "type": "histogram"
           }
          ],
          "histogram2d": [
           {
            "colorbar": {
             "outlinewidth": 0,
             "ticks": ""
            },
            "colorscale": [
             [
              0,
              "#0d0887"
             ],
             [
              0.1111111111111111,
              "#46039f"
             ],
             [
              0.2222222222222222,
              "#7201a8"
             ],
             [
              0.3333333333333333,
              "#9c179e"
             ],
             [
              0.4444444444444444,
              "#bd3786"
             ],
             [
              0.5555555555555556,
              "#d8576b"
             ],
             [
              0.6666666666666666,
              "#ed7953"
             ],
             [
              0.7777777777777778,
              "#fb9f3a"
             ],
             [
              0.8888888888888888,
              "#fdca26"
             ],
             [
              1,
              "#f0f921"
             ]
            ],
            "type": "histogram2d"
           }
          ],
          "histogram2dcontour": [
           {
            "colorbar": {
             "outlinewidth": 0,
             "ticks": ""
            },
            "colorscale": [
             [
              0,
              "#0d0887"
             ],
             [
              0.1111111111111111,
              "#46039f"
             ],
             [
              0.2222222222222222,
              "#7201a8"
             ],
             [
              0.3333333333333333,
              "#9c179e"
             ],
             [
              0.4444444444444444,
              "#bd3786"
             ],
             [
              0.5555555555555556,
              "#d8576b"
             ],
             [
              0.6666666666666666,
              "#ed7953"
             ],
             [
              0.7777777777777778,
              "#fb9f3a"
             ],
             [
              0.8888888888888888,
              "#fdca26"
             ],
             [
              1,
              "#f0f921"
             ]
            ],
            "type": "histogram2dcontour"
           }
          ],
          "mesh3d": [
           {
            "colorbar": {
             "outlinewidth": 0,
             "ticks": ""
            },
            "type": "mesh3d"
           }
          ],
          "parcoords": [
           {
            "line": {
             "colorbar": {
              "outlinewidth": 0,
              "ticks": ""
             }
            },
            "type": "parcoords"
           }
          ],
          "pie": [
           {
            "automargin": true,
            "type": "pie"
           }
          ],
          "scatter": [
           {
            "marker": {
             "colorbar": {
              "outlinewidth": 0,
              "ticks": ""
             }
            },
            "type": "scatter"
           }
          ],
          "scatter3d": [
           {
            "line": {
             "colorbar": {
              "outlinewidth": 0,
              "ticks": ""
             }
            },
            "marker": {
             "colorbar": {
              "outlinewidth": 0,
              "ticks": ""
             }
            },
            "type": "scatter3d"
           }
          ],
          "scattercarpet": [
           {
            "marker": {
             "colorbar": {
              "outlinewidth": 0,
              "ticks": ""
             }
            },
            "type": "scattercarpet"
           }
          ],
          "scattergeo": [
           {
            "marker": {
             "colorbar": {
              "outlinewidth": 0,
              "ticks": ""
             }
            },
            "type": "scattergeo"
           }
          ],
          "scattergl": [
           {
            "marker": {
             "colorbar": {
              "outlinewidth": 0,
              "ticks": ""
             }
            },
            "type": "scattergl"
           }
          ],
          "scattermapbox": [
           {
            "marker": {
             "colorbar": {
              "outlinewidth": 0,
              "ticks": ""
             }
            },
            "type": "scattermapbox"
           }
          ],
          "scatterpolar": [
           {
            "marker": {
             "colorbar": {
              "outlinewidth": 0,
              "ticks": ""
             }
            },
            "type": "scatterpolar"
           }
          ],
          "scatterpolargl": [
           {
            "marker": {
             "colorbar": {
              "outlinewidth": 0,
              "ticks": ""
             }
            },
            "type": "scatterpolargl"
           }
          ],
          "scatterternary": [
           {
            "marker": {
             "colorbar": {
              "outlinewidth": 0,
              "ticks": ""
             }
            },
            "type": "scatterternary"
           }
          ],
          "surface": [
           {
            "colorbar": {
             "outlinewidth": 0,
             "ticks": ""
            },
            "colorscale": [
             [
              0,
              "#0d0887"
             ],
             [
              0.1111111111111111,
              "#46039f"
             ],
             [
              0.2222222222222222,
              "#7201a8"
             ],
             [
              0.3333333333333333,
              "#9c179e"
             ],
             [
              0.4444444444444444,
              "#bd3786"
             ],
             [
              0.5555555555555556,
              "#d8576b"
             ],
             [
              0.6666666666666666,
              "#ed7953"
             ],
             [
              0.7777777777777778,
              "#fb9f3a"
             ],
             [
              0.8888888888888888,
              "#fdca26"
             ],
             [
              1,
              "#f0f921"
             ]
            ],
            "type": "surface"
           }
          ],
          "table": [
           {
            "cells": {
             "fill": {
              "color": "#EBF0F8"
             },
             "line": {
              "color": "white"
             }
            },
            "header": {
             "fill": {
              "color": "#C8D4E3"
             },
             "line": {
              "color": "white"
             }
            },
            "type": "table"
           }
          ]
         },
         "layout": {
          "annotationdefaults": {
           "arrowcolor": "#2a3f5f",
           "arrowhead": 0,
           "arrowwidth": 1
          },
          "autotypenumbers": "strict",
          "coloraxis": {
           "colorbar": {
            "outlinewidth": 0,
            "ticks": ""
           }
          },
          "colorscale": {
           "diverging": [
            [
             0,
             "#8e0152"
            ],
            [
             0.1,
             "#c51b7d"
            ],
            [
             0.2,
             "#de77ae"
            ],
            [
             0.3,
             "#f1b6da"
            ],
            [
             0.4,
             "#fde0ef"
            ],
            [
             0.5,
             "#f7f7f7"
            ],
            [
             0.6,
             "#e6f5d0"
            ],
            [
             0.7,
             "#b8e186"
            ],
            [
             0.8,
             "#7fbc41"
            ],
            [
             0.9,
             "#4d9221"
            ],
            [
             1,
             "#276419"
            ]
           ],
           "sequential": [
            [
             0,
             "#0d0887"
            ],
            [
             0.1111111111111111,
             "#46039f"
            ],
            [
             0.2222222222222222,
             "#7201a8"
            ],
            [
             0.3333333333333333,
             "#9c179e"
            ],
            [
             0.4444444444444444,
             "#bd3786"
            ],
            [
             0.5555555555555556,
             "#d8576b"
            ],
            [
             0.6666666666666666,
             "#ed7953"
            ],
            [
             0.7777777777777778,
             "#fb9f3a"
            ],
            [
             0.8888888888888888,
             "#fdca26"
            ],
            [
             1,
             "#f0f921"
            ]
           ],
           "sequentialminus": [
            [
             0,
             "#0d0887"
            ],
            [
             0.1111111111111111,
             "#46039f"
            ],
            [
             0.2222222222222222,
             "#7201a8"
            ],
            [
             0.3333333333333333,
             "#9c179e"
            ],
            [
             0.4444444444444444,
             "#bd3786"
            ],
            [
             0.5555555555555556,
             "#d8576b"
            ],
            [
             0.6666666666666666,
             "#ed7953"
            ],
            [
             0.7777777777777778,
             "#fb9f3a"
            ],
            [
             0.8888888888888888,
             "#fdca26"
            ],
            [
             1,
             "#f0f921"
            ]
           ]
          },
          "colorway": [
           "#636efa",
           "#EF553B",
           "#00cc96",
           "#ab63fa",
           "#FFA15A",
           "#19d3f3",
           "#FF6692",
           "#B6E880",
           "#FF97FF",
           "#FECB52"
          ],
          "font": {
           "color": "#2a3f5f"
          },
          "geo": {
           "bgcolor": "white",
           "lakecolor": "white",
           "landcolor": "#E5ECF6",
           "showlakes": true,
           "showland": true,
           "subunitcolor": "white"
          },
          "hoverlabel": {
           "align": "left"
          },
          "hovermode": "closest",
          "mapbox": {
           "style": "light"
          },
          "paper_bgcolor": "white",
          "plot_bgcolor": "#E5ECF6",
          "polar": {
           "angularaxis": {
            "gridcolor": "white",
            "linecolor": "white",
            "ticks": ""
           },
           "bgcolor": "#E5ECF6",
           "radialaxis": {
            "gridcolor": "white",
            "linecolor": "white",
            "ticks": ""
           }
          },
          "scene": {
           "xaxis": {
            "backgroundcolor": "#E5ECF6",
            "gridcolor": "white",
            "gridwidth": 2,
            "linecolor": "white",
            "showbackground": true,
            "ticks": "",
            "zerolinecolor": "white"
           },
           "yaxis": {
            "backgroundcolor": "#E5ECF6",
            "gridcolor": "white",
            "gridwidth": 2,
            "linecolor": "white",
            "showbackground": true,
            "ticks": "",
            "zerolinecolor": "white"
           },
           "zaxis": {
            "backgroundcolor": "#E5ECF6",
            "gridcolor": "white",
            "gridwidth": 2,
            "linecolor": "white",
            "showbackground": true,
            "ticks": "",
            "zerolinecolor": "white"
           }
          },
          "shapedefaults": {
           "line": {
            "color": "#2a3f5f"
           }
          },
          "ternary": {
           "aaxis": {
            "gridcolor": "white",
            "linecolor": "white",
            "ticks": ""
           },
           "baxis": {
            "gridcolor": "white",
            "linecolor": "white",
            "ticks": ""
           },
           "bgcolor": "#E5ECF6",
           "caxis": {
            "gridcolor": "white",
            "linecolor": "white",
            "ticks": ""
           }
          },
          "title": {
           "x": 0.05
          },
          "xaxis": {
           "automargin": true,
           "gridcolor": "white",
           "linecolor": "white",
           "ticks": "",
           "title": {
            "standoff": 15
           },
           "zerolinecolor": "white",
           "zerolinewidth": 2
          },
          "yaxis": {
           "automargin": true,
           "gridcolor": "white",
           "linecolor": "white",
           "ticks": "",
           "title": {
            "standoff": 15
           },
           "zerolinecolor": "white",
           "zerolinewidth": 2
          }
         }
        },
        "xaxis": {
         "anchor": "y",
         "domain": [
          0,
          1
         ],
         "title": {
          "text": "progressive pass"
         }
        },
        "yaxis": {
         "anchor": "x",
         "domain": [
          0,
          1
         ],
         "title": {
          "text": "progressive carry distance"
         }
        }
       }
      }
     },
     "metadata": {},
     "output_type": "display_data"
    }
   ],
   "source": [
    "fig = px.scatter(away_prg_df, x=\"progressive pass\", y=\"progressive carry distance\", text=\"name\")\n",
    "fig.update_traces(textposition=\"bottom right\")\n",
    "fig.show()"
   ]
  },
  {
   "cell_type": "code",
   "execution_count": 158,
   "metadata": {},
   "outputs": [
    {
     "data": {
      "text/html": [
       "<div>\n",
       "<style scoped>\n",
       "    .dataframe tbody tr th:only-of-type {\n",
       "        vertical-align: middle;\n",
       "    }\n",
       "\n",
       "    .dataframe tbody tr th {\n",
       "        vertical-align: top;\n",
       "    }\n",
       "\n",
       "    .dataframe thead th {\n",
       "        text-align: right;\n",
       "    }\n",
       "</style>\n",
       "<table border=\"1\" class=\"dataframe\">\n",
       "  <thead>\n",
       "    <tr style=\"text-align: right;\">\n",
       "      <th></th>\n",
       "      <th>name</th>\n",
       "      <th>progressive pass</th>\n",
       "      <th>progressive carry distance</th>\n",
       "      <th>Team</th>\n",
       "    </tr>\n",
       "  </thead>\n",
       "  <tbody>\n",
       "    <tr>\n",
       "      <th>0</th>\n",
       "      <td>Karim Benzema</td>\n",
       "      <td>2</td>\n",
       "      <td>99</td>\n",
       "      <td>Real Madrid</td>\n",
       "    </tr>\n",
       "    <tr>\n",
       "      <th>1</th>\n",
       "      <td>Vinicius Júnior</td>\n",
       "      <td>1</td>\n",
       "      <td>111</td>\n",
       "      <td>Real Madrid</td>\n",
       "    </tr>\n",
       "    <tr>\n",
       "      <th>2</th>\n",
       "      <td>Rodrygo</td>\n",
       "      <td>0</td>\n",
       "      <td>0</td>\n",
       "      <td>Real Madrid</td>\n",
       "    </tr>\n",
       "    <tr>\n",
       "      <th>3</th>\n",
       "      <td>Federico Valverde</td>\n",
       "      <td>3</td>\n",
       "      <td>100</td>\n",
       "      <td>Real Madrid</td>\n",
       "    </tr>\n",
       "    <tr>\n",
       "      <th>4</th>\n",
       "      <td>Eduardo Camavinga</td>\n",
       "      <td>0</td>\n",
       "      <td>4</td>\n",
       "      <td>Real Madrid</td>\n",
       "    </tr>\n",
       "    <tr>\n",
       "      <th>5</th>\n",
       "      <td>Toni Kroos</td>\n",
       "      <td>4</td>\n",
       "      <td>86</td>\n",
       "      <td>Real Madrid</td>\n",
       "    </tr>\n",
       "    <tr>\n",
       "      <th>6</th>\n",
       "      <td>Casemiro</td>\n",
       "      <td>2</td>\n",
       "      <td>74</td>\n",
       "      <td>Real Madrid</td>\n",
       "    </tr>\n",
       "    <tr>\n",
       "      <th>7</th>\n",
       "      <td>Luka Modrić</td>\n",
       "      <td>3</td>\n",
       "      <td>73</td>\n",
       "      <td>Real Madrid</td>\n",
       "    </tr>\n",
       "    <tr>\n",
       "      <th>8</th>\n",
       "      <td>Dani Ceballos</td>\n",
       "      <td>0</td>\n",
       "      <td>0</td>\n",
       "      <td>Real Madrid</td>\n",
       "    </tr>\n",
       "    <tr>\n",
       "      <th>9</th>\n",
       "      <td>Ferland Mendy</td>\n",
       "      <td>3</td>\n",
       "      <td>75</td>\n",
       "      <td>Real Madrid</td>\n",
       "    </tr>\n",
       "    <tr>\n",
       "      <th>10</th>\n",
       "      <td>David Alaba</td>\n",
       "      <td>1</td>\n",
       "      <td>52</td>\n",
       "      <td>Real Madrid</td>\n",
       "    </tr>\n",
       "    <tr>\n",
       "      <th>11</th>\n",
       "      <td>Éder Militão</td>\n",
       "      <td>0</td>\n",
       "      <td>75</td>\n",
       "      <td>Real Madrid</td>\n",
       "    </tr>\n",
       "    <tr>\n",
       "      <th>12</th>\n",
       "      <td>Dani Carvajal</td>\n",
       "      <td>1</td>\n",
       "      <td>134</td>\n",
       "      <td>Real Madrid</td>\n",
       "    </tr>\n",
       "    <tr>\n",
       "      <th>13</th>\n",
       "      <td>Thibaut Courtois</td>\n",
       "      <td>0</td>\n",
       "      <td>101</td>\n",
       "      <td>Real Madrid</td>\n",
       "    </tr>\n",
       "    <tr>\n",
       "      <th>0</th>\n",
       "      <td>Sadio Mané</td>\n",
       "      <td>9</td>\n",
       "      <td>127</td>\n",
       "      <td>Liverpool</td>\n",
       "    </tr>\n",
       "    <tr>\n",
       "      <th>1</th>\n",
       "      <td>Luis Díaz</td>\n",
       "      <td>1</td>\n",
       "      <td>74</td>\n",
       "      <td>Liverpool</td>\n",
       "    </tr>\n",
       "    <tr>\n",
       "      <th>2</th>\n",
       "      <td>Diogo Jota</td>\n",
       "      <td>2</td>\n",
       "      <td>74</td>\n",
       "      <td>Liverpool</td>\n",
       "    </tr>\n",
       "    <tr>\n",
       "      <th>3</th>\n",
       "      <td>Mohamed Salah</td>\n",
       "      <td>2</td>\n",
       "      <td>119</td>\n",
       "      <td>Liverpool</td>\n",
       "    </tr>\n",
       "    <tr>\n",
       "      <th>4</th>\n",
       "      <td>Thiago Alcántara</td>\n",
       "      <td>19</td>\n",
       "      <td>107</td>\n",
       "      <td>Liverpool</td>\n",
       "    </tr>\n",
       "    <tr>\n",
       "      <th>5</th>\n",
       "      <td>Roberto Firmino</td>\n",
       "      <td>0</td>\n",
       "      <td>21</td>\n",
       "      <td>Liverpool</td>\n",
       "    </tr>\n",
       "    <tr>\n",
       "      <th>6</th>\n",
       "      <td>Fabinho</td>\n",
       "      <td>9</td>\n",
       "      <td>199</td>\n",
       "      <td>Liverpool</td>\n",
       "    </tr>\n",
       "    <tr>\n",
       "      <th>7</th>\n",
       "      <td>Jordan Henderson</td>\n",
       "      <td>10</td>\n",
       "      <td>116</td>\n",
       "      <td>Liverpool</td>\n",
       "    </tr>\n",
       "    <tr>\n",
       "      <th>8</th>\n",
       "      <td>Naby Keïta</td>\n",
       "      <td>4</td>\n",
       "      <td>59</td>\n",
       "      <td>Liverpool</td>\n",
       "    </tr>\n",
       "    <tr>\n",
       "      <th>9</th>\n",
       "      <td>Andrew Robertson</td>\n",
       "      <td>7</td>\n",
       "      <td>130</td>\n",
       "      <td>Liverpool</td>\n",
       "    </tr>\n",
       "    <tr>\n",
       "      <th>10</th>\n",
       "      <td>Virgil van Dijk</td>\n",
       "      <td>3</td>\n",
       "      <td>53</td>\n",
       "      <td>Liverpool</td>\n",
       "    </tr>\n",
       "    <tr>\n",
       "      <th>11</th>\n",
       "      <td>Ibrahima Konaté</td>\n",
       "      <td>6</td>\n",
       "      <td>128</td>\n",
       "      <td>Liverpool</td>\n",
       "    </tr>\n",
       "    <tr>\n",
       "      <th>12</th>\n",
       "      <td>Trent Alexander-Arnold</td>\n",
       "      <td>12</td>\n",
       "      <td>127</td>\n",
       "      <td>Liverpool</td>\n",
       "    </tr>\n",
       "    <tr>\n",
       "      <th>13</th>\n",
       "      <td>Alisson</td>\n",
       "      <td>0</td>\n",
       "      <td>42</td>\n",
       "      <td>Liverpool</td>\n",
       "    </tr>\n",
       "  </tbody>\n",
       "</table>\n",
       "</div>"
      ],
      "text/plain": [
       "                      name  progressive pass  progressive carry distance  \\\n",
       "0            Karim Benzema                 2                          99   \n",
       "1          Vinicius Júnior                 1                         111   \n",
       "2                  Rodrygo                 0                           0   \n",
       "3        Federico Valverde                 3                         100   \n",
       "4        Eduardo Camavinga                 0                           4   \n",
       "5               Toni Kroos                 4                          86   \n",
       "6                 Casemiro                 2                          74   \n",
       "7              Luka Modrić                 3                          73   \n",
       "8            Dani Ceballos                 0                           0   \n",
       "9            Ferland Mendy                 3                          75   \n",
       "10             David Alaba                 1                          52   \n",
       "11            Éder Militão                 0                          75   \n",
       "12           Dani Carvajal                 1                         134   \n",
       "13        Thibaut Courtois                 0                         101   \n",
       "0               Sadio Mané                 9                         127   \n",
       "1                Luis Díaz                 1                          74   \n",
       "2               Diogo Jota                 2                          74   \n",
       "3            Mohamed Salah                 2                         119   \n",
       "4         Thiago Alcántara                19                         107   \n",
       "5          Roberto Firmino                 0                          21   \n",
       "6                  Fabinho                 9                         199   \n",
       "7         Jordan Henderson                10                         116   \n",
       "8               Naby Keïta                 4                          59   \n",
       "9         Andrew Robertson                 7                         130   \n",
       "10         Virgil van Dijk                 3                          53   \n",
       "11         Ibrahima Konaté                 6                         128   \n",
       "12  Trent Alexander-Arnold                12                         127   \n",
       "13                 Alisson                 0                          42   \n",
       "\n",
       "           Team  \n",
       "0   Real Madrid  \n",
       "1   Real Madrid  \n",
       "2   Real Madrid  \n",
       "3   Real Madrid  \n",
       "4   Real Madrid  \n",
       "5   Real Madrid  \n",
       "6   Real Madrid  \n",
       "7   Real Madrid  \n",
       "8   Real Madrid  \n",
       "9   Real Madrid  \n",
       "10  Real Madrid  \n",
       "11  Real Madrid  \n",
       "12  Real Madrid  \n",
       "13  Real Madrid  \n",
       "0     Liverpool  \n",
       "1     Liverpool  \n",
       "2     Liverpool  \n",
       "3     Liverpool  \n",
       "4     Liverpool  \n",
       "5     Liverpool  \n",
       "6     Liverpool  \n",
       "7     Liverpool  \n",
       "8     Liverpool  \n",
       "9     Liverpool  \n",
       "10    Liverpool  \n",
       "11    Liverpool  \n",
       "12    Liverpool  \n",
       "13    Liverpool  "
      ]
     },
     "execution_count": 158,
     "metadata": {},
     "output_type": "execute_result"
    }
   ],
   "source": [
    "df = pd.concat([away_prg_df, home_prg_df])\n",
    "df"
   ]
  },
  {
   "cell_type": "code",
   "execution_count": 161,
   "metadata": {},
   "outputs": [
    {
     "data": {
      "application/vnd.plotly.v1+json": {
       "config": {
        "plotlyServerURL": "https://plot.ly"
       },
       "data": [
        {
         "hovertemplate": "Team=Real Madrid<br>progressive pass=%{x}<br>progressive carry distance=%{y}<br>name=%{text}<extra></extra>",
         "legendgroup": "Real Madrid",
         "marker": {
          "color": "#636efa",
          "symbol": "circle"
         },
         "mode": "markers+text",
         "name": "Real Madrid",
         "orientation": "v",
         "showlegend": true,
         "text": [
          "Karim Benzema",
          "Vinicius Júnior",
          "Rodrygo",
          "Federico Valverde",
          "Eduardo Camavinga",
          "Toni Kroos",
          "Casemiro",
          "Luka Modrić",
          "Dani Ceballos",
          "Ferland Mendy",
          "David Alaba",
          "Éder Militão",
          "Dani Carvajal",
          "Thibaut Courtois"
         ],
         "textposition": "bottom right",
         "type": "scatter",
         "x": [
          2,
          1,
          0,
          3,
          0,
          4,
          2,
          3,
          0,
          3,
          1,
          0,
          1,
          0
         ],
         "xaxis": "x",
         "y": [
          99,
          111,
          0,
          100,
          4,
          86,
          74,
          73,
          0,
          75,
          52,
          75,
          134,
          101
         ],
         "yaxis": "y"
        },
        {
         "hovertemplate": "Team=Liverpool<br>progressive pass=%{x}<br>progressive carry distance=%{y}<br>name=%{text}<extra></extra>",
         "legendgroup": "Liverpool",
         "marker": {
          "color": "#EF553B",
          "symbol": "circle"
         },
         "mode": "markers+text",
         "name": "Liverpool",
         "orientation": "v",
         "showlegend": true,
         "text": [
          "Sadio Mané",
          "Luis Díaz",
          "Diogo Jota",
          "Mohamed Salah",
          "Thiago Alcántara",
          "Roberto Firmino",
          "Fabinho",
          "Jordan Henderson",
          "Naby Keïta",
          "Andrew Robertson",
          "Virgil van Dijk",
          "Ibrahima Konaté",
          "Trent Alexander-Arnold",
          "Alisson"
         ],
         "textposition": "bottom right",
         "type": "scatter",
         "x": [
          9,
          1,
          2,
          2,
          19,
          0,
          9,
          10,
          4,
          7,
          3,
          6,
          12,
          0
         ],
         "xaxis": "x",
         "y": [
          127,
          74,
          74,
          119,
          107,
          21,
          199,
          116,
          59,
          130,
          53,
          128,
          127,
          42
         ],
         "yaxis": "y"
        }
       ],
       "layout": {
        "legend": {
         "title": {
          "text": "Team"
         },
         "tracegroupgap": 0
        },
        "margin": {
         "t": 60
        },
        "template": {
         "data": {
          "bar": [
           {
            "error_x": {
             "color": "#2a3f5f"
            },
            "error_y": {
             "color": "#2a3f5f"
            },
            "marker": {
             "line": {
              "color": "#E5ECF6",
              "width": 0.5
             },
             "pattern": {
              "fillmode": "overlay",
              "size": 10,
              "solidity": 0.2
             }
            },
            "type": "bar"
           }
          ],
          "barpolar": [
           {
            "marker": {
             "line": {
              "color": "#E5ECF6",
              "width": 0.5
             },
             "pattern": {
              "fillmode": "overlay",
              "size": 10,
              "solidity": 0.2
             }
            },
            "type": "barpolar"
           }
          ],
          "carpet": [
           {
            "aaxis": {
             "endlinecolor": "#2a3f5f",
             "gridcolor": "white",
             "linecolor": "white",
             "minorgridcolor": "white",
             "startlinecolor": "#2a3f5f"
            },
            "baxis": {
             "endlinecolor": "#2a3f5f",
             "gridcolor": "white",
             "linecolor": "white",
             "minorgridcolor": "white",
             "startlinecolor": "#2a3f5f"
            },
            "type": "carpet"
           }
          ],
          "choropleth": [
           {
            "colorbar": {
             "outlinewidth": 0,
             "ticks": ""
            },
            "type": "choropleth"
           }
          ],
          "contour": [
           {
            "colorbar": {
             "outlinewidth": 0,
             "ticks": ""
            },
            "colorscale": [
             [
              0,
              "#0d0887"
             ],
             [
              0.1111111111111111,
              "#46039f"
             ],
             [
              0.2222222222222222,
              "#7201a8"
             ],
             [
              0.3333333333333333,
              "#9c179e"
             ],
             [
              0.4444444444444444,
              "#bd3786"
             ],
             [
              0.5555555555555556,
              "#d8576b"
             ],
             [
              0.6666666666666666,
              "#ed7953"
             ],
             [
              0.7777777777777778,
              "#fb9f3a"
             ],
             [
              0.8888888888888888,
              "#fdca26"
             ],
             [
              1,
              "#f0f921"
             ]
            ],
            "type": "contour"
           }
          ],
          "contourcarpet": [
           {
            "colorbar": {
             "outlinewidth": 0,
             "ticks": ""
            },
            "type": "contourcarpet"
           }
          ],
          "heatmap": [
           {
            "colorbar": {
             "outlinewidth": 0,
             "ticks": ""
            },
            "colorscale": [
             [
              0,
              "#0d0887"
             ],
             [
              0.1111111111111111,
              "#46039f"
             ],
             [
              0.2222222222222222,
              "#7201a8"
             ],
             [
              0.3333333333333333,
              "#9c179e"
             ],
             [
              0.4444444444444444,
              "#bd3786"
             ],
             [
              0.5555555555555556,
              "#d8576b"
             ],
             [
              0.6666666666666666,
              "#ed7953"
             ],
             [
              0.7777777777777778,
              "#fb9f3a"
             ],
             [
              0.8888888888888888,
              "#fdca26"
             ],
             [
              1,
              "#f0f921"
             ]
            ],
            "type": "heatmap"
           }
          ],
          "heatmapgl": [
           {
            "colorbar": {
             "outlinewidth": 0,
             "ticks": ""
            },
            "colorscale": [
             [
              0,
              "#0d0887"
             ],
             [
              0.1111111111111111,
              "#46039f"
             ],
             [
              0.2222222222222222,
              "#7201a8"
             ],
             [
              0.3333333333333333,
              "#9c179e"
             ],
             [
              0.4444444444444444,
              "#bd3786"
             ],
             [
              0.5555555555555556,
              "#d8576b"
             ],
             [
              0.6666666666666666,
              "#ed7953"
             ],
             [
              0.7777777777777778,
              "#fb9f3a"
             ],
             [
              0.8888888888888888,
              "#fdca26"
             ],
             [
              1,
              "#f0f921"
             ]
            ],
            "type": "heatmapgl"
           }
          ],
          "histogram": [
           {
            "marker": {
             "pattern": {
              "fillmode": "overlay",
              "size": 10,
              "solidity": 0.2
             }
            },
            "type": "histogram"
           }
          ],
          "histogram2d": [
           {
            "colorbar": {
             "outlinewidth": 0,
             "ticks": ""
            },
            "colorscale": [
             [
              0,
              "#0d0887"
             ],
             [
              0.1111111111111111,
              "#46039f"
             ],
             [
              0.2222222222222222,
              "#7201a8"
             ],
             [
              0.3333333333333333,
              "#9c179e"
             ],
             [
              0.4444444444444444,
              "#bd3786"
             ],
             [
              0.5555555555555556,
              "#d8576b"
             ],
             [
              0.6666666666666666,
              "#ed7953"
             ],
             [
              0.7777777777777778,
              "#fb9f3a"
             ],
             [
              0.8888888888888888,
              "#fdca26"
             ],
             [
              1,
              "#f0f921"
             ]
            ],
            "type": "histogram2d"
           }
          ],
          "histogram2dcontour": [
           {
            "colorbar": {
             "outlinewidth": 0,
             "ticks": ""
            },
            "colorscale": [
             [
              0,
              "#0d0887"
             ],
             [
              0.1111111111111111,
              "#46039f"
             ],
             [
              0.2222222222222222,
              "#7201a8"
             ],
             [
              0.3333333333333333,
              "#9c179e"
             ],
             [
              0.4444444444444444,
              "#bd3786"
             ],
             [
              0.5555555555555556,
              "#d8576b"
             ],
             [
              0.6666666666666666,
              "#ed7953"
             ],
             [
              0.7777777777777778,
              "#fb9f3a"
             ],
             [
              0.8888888888888888,
              "#fdca26"
             ],
             [
              1,
              "#f0f921"
             ]
            ],
            "type": "histogram2dcontour"
           }
          ],
          "mesh3d": [
           {
            "colorbar": {
             "outlinewidth": 0,
             "ticks": ""
            },
            "type": "mesh3d"
           }
          ],
          "parcoords": [
           {
            "line": {
             "colorbar": {
              "outlinewidth": 0,
              "ticks": ""
             }
            },
            "type": "parcoords"
           }
          ],
          "pie": [
           {
            "automargin": true,
            "type": "pie"
           }
          ],
          "scatter": [
           {
            "marker": {
             "colorbar": {
              "outlinewidth": 0,
              "ticks": ""
             }
            },
            "type": "scatter"
           }
          ],
          "scatter3d": [
           {
            "line": {
             "colorbar": {
              "outlinewidth": 0,
              "ticks": ""
             }
            },
            "marker": {
             "colorbar": {
              "outlinewidth": 0,
              "ticks": ""
             }
            },
            "type": "scatter3d"
           }
          ],
          "scattercarpet": [
           {
            "marker": {
             "colorbar": {
              "outlinewidth": 0,
              "ticks": ""
             }
            },
            "type": "scattercarpet"
           }
          ],
          "scattergeo": [
           {
            "marker": {
             "colorbar": {
              "outlinewidth": 0,
              "ticks": ""
             }
            },
            "type": "scattergeo"
           }
          ],
          "scattergl": [
           {
            "marker": {
             "colorbar": {
              "outlinewidth": 0,
              "ticks": ""
             }
            },
            "type": "scattergl"
           }
          ],
          "scattermapbox": [
           {
            "marker": {
             "colorbar": {
              "outlinewidth": 0,
              "ticks": ""
             }
            },
            "type": "scattermapbox"
           }
          ],
          "scatterpolar": [
           {
            "marker": {
             "colorbar": {
              "outlinewidth": 0,
              "ticks": ""
             }
            },
            "type": "scatterpolar"
           }
          ],
          "scatterpolargl": [
           {
            "marker": {
             "colorbar": {
              "outlinewidth": 0,
              "ticks": ""
             }
            },
            "type": "scatterpolargl"
           }
          ],
          "scatterternary": [
           {
            "marker": {
             "colorbar": {
              "outlinewidth": 0,
              "ticks": ""
             }
            },
            "type": "scatterternary"
           }
          ],
          "surface": [
           {
            "colorbar": {
             "outlinewidth": 0,
             "ticks": ""
            },
            "colorscale": [
             [
              0,
              "#0d0887"
             ],
             [
              0.1111111111111111,
              "#46039f"
             ],
             [
              0.2222222222222222,
              "#7201a8"
             ],
             [
              0.3333333333333333,
              "#9c179e"
             ],
             [
              0.4444444444444444,
              "#bd3786"
             ],
             [
              0.5555555555555556,
              "#d8576b"
             ],
             [
              0.6666666666666666,
              "#ed7953"
             ],
             [
              0.7777777777777778,
              "#fb9f3a"
             ],
             [
              0.8888888888888888,
              "#fdca26"
             ],
             [
              1,
              "#f0f921"
             ]
            ],
            "type": "surface"
           }
          ],
          "table": [
           {
            "cells": {
             "fill": {
              "color": "#EBF0F8"
             },
             "line": {
              "color": "white"
             }
            },
            "header": {
             "fill": {
              "color": "#C8D4E3"
             },
             "line": {
              "color": "white"
             }
            },
            "type": "table"
           }
          ]
         },
         "layout": {
          "annotationdefaults": {
           "arrowcolor": "#2a3f5f",
           "arrowhead": 0,
           "arrowwidth": 1
          },
          "autotypenumbers": "strict",
          "coloraxis": {
           "colorbar": {
            "outlinewidth": 0,
            "ticks": ""
           }
          },
          "colorscale": {
           "diverging": [
            [
             0,
             "#8e0152"
            ],
            [
             0.1,
             "#c51b7d"
            ],
            [
             0.2,
             "#de77ae"
            ],
            [
             0.3,
             "#f1b6da"
            ],
            [
             0.4,
             "#fde0ef"
            ],
            [
             0.5,
             "#f7f7f7"
            ],
            [
             0.6,
             "#e6f5d0"
            ],
            [
             0.7,
             "#b8e186"
            ],
            [
             0.8,
             "#7fbc41"
            ],
            [
             0.9,
             "#4d9221"
            ],
            [
             1,
             "#276419"
            ]
           ],
           "sequential": [
            [
             0,
             "#0d0887"
            ],
            [
             0.1111111111111111,
             "#46039f"
            ],
            [
             0.2222222222222222,
             "#7201a8"
            ],
            [
             0.3333333333333333,
             "#9c179e"
            ],
            [
             0.4444444444444444,
             "#bd3786"
            ],
            [
             0.5555555555555556,
             "#d8576b"
            ],
            [
             0.6666666666666666,
             "#ed7953"
            ],
            [
             0.7777777777777778,
             "#fb9f3a"
            ],
            [
             0.8888888888888888,
             "#fdca26"
            ],
            [
             1,
             "#f0f921"
            ]
           ],
           "sequentialminus": [
            [
             0,
             "#0d0887"
            ],
            [
             0.1111111111111111,
             "#46039f"
            ],
            [
             0.2222222222222222,
             "#7201a8"
            ],
            [
             0.3333333333333333,
             "#9c179e"
            ],
            [
             0.4444444444444444,
             "#bd3786"
            ],
            [
             0.5555555555555556,
             "#d8576b"
            ],
            [
             0.6666666666666666,
             "#ed7953"
            ],
            [
             0.7777777777777778,
             "#fb9f3a"
            ],
            [
             0.8888888888888888,
             "#fdca26"
            ],
            [
             1,
             "#f0f921"
            ]
           ]
          },
          "colorway": [
           "#636efa",
           "#EF553B",
           "#00cc96",
           "#ab63fa",
           "#FFA15A",
           "#19d3f3",
           "#FF6692",
           "#B6E880",
           "#FF97FF",
           "#FECB52"
          ],
          "font": {
           "color": "#2a3f5f"
          },
          "geo": {
           "bgcolor": "white",
           "lakecolor": "white",
           "landcolor": "#E5ECF6",
           "showlakes": true,
           "showland": true,
           "subunitcolor": "white"
          },
          "hoverlabel": {
           "align": "left"
          },
          "hovermode": "closest",
          "mapbox": {
           "style": "light"
          },
          "paper_bgcolor": "white",
          "plot_bgcolor": "#E5ECF6",
          "polar": {
           "angularaxis": {
            "gridcolor": "white",
            "linecolor": "white",
            "ticks": ""
           },
           "bgcolor": "#E5ECF6",
           "radialaxis": {
            "gridcolor": "white",
            "linecolor": "white",
            "ticks": ""
           }
          },
          "scene": {
           "xaxis": {
            "backgroundcolor": "#E5ECF6",
            "gridcolor": "white",
            "gridwidth": 2,
            "linecolor": "white",
            "showbackground": true,
            "ticks": "",
            "zerolinecolor": "white"
           },
           "yaxis": {
            "backgroundcolor": "#E5ECF6",
            "gridcolor": "white",
            "gridwidth": 2,
            "linecolor": "white",
            "showbackground": true,
            "ticks": "",
            "zerolinecolor": "white"
           },
           "zaxis": {
            "backgroundcolor": "#E5ECF6",
            "gridcolor": "white",
            "gridwidth": 2,
            "linecolor": "white",
            "showbackground": true,
            "ticks": "",
            "zerolinecolor": "white"
           }
          },
          "shapedefaults": {
           "line": {
            "color": "#2a3f5f"
           }
          },
          "ternary": {
           "aaxis": {
            "gridcolor": "white",
            "linecolor": "white",
            "ticks": ""
           },
           "baxis": {
            "gridcolor": "white",
            "linecolor": "white",
            "ticks": ""
           },
           "bgcolor": "#E5ECF6",
           "caxis": {
            "gridcolor": "white",
            "linecolor": "white",
            "ticks": ""
           }
          },
          "title": {
           "x": 0.05
          },
          "xaxis": {
           "automargin": true,
           "gridcolor": "white",
           "linecolor": "white",
           "ticks": "",
           "title": {
            "standoff": 15
           },
           "zerolinecolor": "white",
           "zerolinewidth": 2
          },
          "yaxis": {
           "automargin": true,
           "gridcolor": "white",
           "linecolor": "white",
           "ticks": "",
           "title": {
            "standoff": 15
           },
           "zerolinecolor": "white",
           "zerolinewidth": 2
          }
         }
        },
        "xaxis": {
         "anchor": "y",
         "domain": [
          0,
          1
         ],
         "title": {
          "text": "progressive pass"
         }
        },
        "yaxis": {
         "anchor": "x",
         "domain": [
          0,
          1
         ],
         "title": {
          "text": "progressive carry distance"
         }
        }
       }
      }
     },
     "metadata": {},
     "output_type": "display_data"
    }
   ],
   "source": [
    "fig = px.scatter(df, x=\"progressive pass\", y=\"progressive carry distance\", color='Team', text=\"name\")\n",
    "fig.update_traces(textposition=\"bottom right\")\n",
    "fig.show()"
   ]
  },
  {
   "cell_type": "code",
   "execution_count": 172,
   "metadata": {},
   "outputs": [
    {
     "name": "stdout",
     "output_type": "stream",
     "text": [
      "home prob = 67%, away prob = 11%\n"
     ]
    }
   ],
   "source": [
    "import pandas as pd\n",
    "import numpy as np\n",
    "import random\n",
    "\n",
    "\n",
    "def simulate_shots(df_home, df_away):\n",
    "    home_num_of_shots = (len(df_home))\n",
    "    away_num_of_shots = (len(df_away))\n",
    "    df_home['generated'] = np.random.rand()\n",
    "    df_home['simulate'] = (np.random.rand(home_num_of_shots) < df_home['Unnamed: 3_level_0','xG'])\n",
    "    # print(match['Shots'][0].Home[0]['simulate'])\n",
    "    home_goals = len(df_home[df_home['simulate'] == True])\n",
    "\n",
    "    df_away['generated'] = np.random.rand()\n",
    "    df_away['simulate'] = (np.random.rand(away_num_of_shots) < df_away['Unnamed: 3_level_0','xG'])\n",
    "    # print(match['Shots'][0].Away[0]['simulate'])\n",
    "    away_goals = len(df_away[df_away['simulate'] == True])\n",
    "    # print(f'LIV {home_goals} - {away_goals} RMD')\n",
    "    return (home_goals, away_goals)\n",
    "\n",
    "def simulation_loop(df_home, df_away, simulation_volume = 1000):\n",
    "    home_win = 0\n",
    "    away_win = 0\n",
    "    for _ in range (simulation_volume):\n",
    "        (a, b) = simulate_shots(df_home, df_away)\n",
    "        if (a > b):\n",
    "            home_win += 1\n",
    "        elif (a < b):\n",
    "            away_win += 1\n",
    "    return(home_win/simulation_volume, away_win/simulation_volume)\n",
    "\n",
    "df1 = match['Shots'][0].Home[0]\n",
    "df2 = match['Shots'][0].Away[0]\n",
    "a, b = simulation_loop(df1, df2, 10000)\n",
    "print(f'home prob = {round(a*100)}%, away prob = {round(b*100)}%')\n",
    "    "
   ]
  },
  {
   "cell_type": "code",
   "execution_count": 199,
   "metadata": {},
   "outputs": [
    {
     "name": "stdout",
     "output_type": "stream",
     "text": [
      "0.0 = moment\n",
      "home prob = 0%, away prob = 0%\n",
      "0.5 = moment\n",
      "home prob = 0%, away prob = 0%\n",
      "1.0 = moment\n",
      "home prob = 0%, away prob = 0%\n",
      "1.5 = moment\n",
      "home prob = 0%, away prob = 0%\n",
      "2.0 = moment\n",
      "home prob = 0%, away prob = 0%\n",
      "2.5 = moment\n",
      "home prob = 0%, away prob = 0%\n",
      "3.0 = moment\n",
      "home prob = 0%, away prob = 0%\n",
      "3.5 = moment\n",
      "home prob = 0%, away prob = 0%\n",
      "4.0 = moment\n",
      "home prob = 0%, away prob = 0%\n",
      "4.5 = moment\n",
      "home prob = 0%, away prob = 0%\n",
      "5.0 = moment\n",
      "home prob = 0%, away prob = 0%\n",
      "5.5 = moment\n",
      "home prob = 0%, away prob = 0%\n",
      "6.0 = moment\n",
      "home prob = 0%, away prob = 0%\n",
      "6.5 = moment\n",
      "home prob = 0%, away prob = 0%\n",
      "7.0 = moment\n",
      "home prob = 0%, away prob = 0%\n",
      "7.5 = moment\n",
      "home prob = 0%, away prob = 0%\n",
      "8.0 = moment\n",
      "home prob = 0%, away prob = 0%\n",
      "8.5 = moment\n",
      "home prob = 0%, away prob = 0%\n",
      "9.0 = moment\n",
      "home prob = 0%, away prob = 0%\n",
      "9.5 = moment\n",
      "home prob = 0%, away prob = 0%\n",
      "10.0 = moment\n",
      "home prob = 0%, away prob = 0%\n",
      "10.5 = moment\n",
      "home prob = 0%, away prob = 0%\n",
      "11.0 = moment\n",
      "home prob = 0%, away prob = 0%\n",
      "11.5 = moment\n",
      "home prob = 0%, away prob = 0%\n",
      "12.0 = moment\n",
      "home prob = 0%, away prob = 0%\n",
      "12.5 = moment\n",
      "home prob = 0%, away prob = 0%\n",
      "13.0 = moment\n",
      "home prob = 0%, away prob = 0%\n",
      "13.5 = moment\n",
      "home prob = 0%, away prob = 0%\n",
      "14.0 = moment\n",
      "home prob = 0%, away prob = 0%\n",
      "14.5 = moment\n",
      "home prob = 0%, away prob = 0%\n",
      "15.0 = moment\n",
      "home prob = 0%, away prob = 0%\n",
      "15.5 = moment\n",
      "home prob = 0%, away prob = 0%\n",
      "16.0 = moment\n",
      "home prob = 38%, away prob = 0%\n",
      "16.5 = moment\n",
      "home prob = 39%, away prob = 0%\n",
      "17.0 = moment\n",
      "home prob = 44%, away prob = 0%\n",
      "17.5 = moment\n",
      "home prob = 43%, away prob = 0%\n",
      "18.0 = moment\n",
      "home prob = 46%, away prob = 0%\n",
      "18.5 = moment\n",
      "home prob = 42%, away prob = 0%\n",
      "19.0 = moment\n",
      "home prob = 46%, away prob = 0%\n",
      "19.5 = moment\n",
      "home prob = 45%, away prob = 0%\n",
      "20.0 = moment\n",
      "home prob = 47%, away prob = 0%\n",
      "20.5 = moment\n",
      "home prob = 45%, away prob = 0%\n",
      "21.0 = moment\n",
      "home prob = 50%, away prob = 0%\n",
      "21.5 = moment\n",
      "home prob = 48%, away prob = 0%\n",
      "22.0 = moment\n",
      "home prob = 50%, away prob = 0%\n",
      "22.5 = moment\n",
      "home prob = 50%, away prob = 0%\n",
      "23.0 = moment\n",
      "home prob = 50%, away prob = 0%\n",
      "23.5 = moment\n",
      "home prob = 48%, away prob = 0%\n",
      "24.0 = moment\n",
      "home prob = 47%, away prob = 0%\n",
      "24.5 = moment\n",
      "home prob = 48%, away prob = 0%\n",
      "25.0 = moment\n",
      "home prob = 47%, away prob = 0%\n",
      "25.5 = moment\n",
      "home prob = 46%, away prob = 0%\n",
      "26.0 = moment\n",
      "home prob = 46%, away prob = 0%\n",
      "26.5 = moment\n",
      "home prob = 47%, away prob = 0%\n",
      "27.0 = moment\n",
      "home prob = 47%, away prob = 0%\n",
      "27.5 = moment\n",
      "home prob = 50%, away prob = 0%\n",
      "28.0 = moment\n",
      "home prob = 48%, away prob = 0%\n",
      "28.5 = moment\n",
      "home prob = 54%, away prob = 0%\n",
      "29.0 = moment\n",
      "home prob = 49%, away prob = 0%\n",
      "29.5 = moment\n",
      "home prob = 52%, away prob = 0%\n",
      "30.0 = moment\n",
      "home prob = 49%, away prob = 0%\n",
      "30.5 = moment\n",
      "home prob = 51%, away prob = 0%\n",
      "31.0 = moment\n",
      "home prob = 54%, away prob = 0%\n",
      "31.5 = moment\n",
      "home prob = 51%, away prob = 0%\n",
      "32.0 = moment\n",
      "home prob = 49%, away prob = 0%\n",
      "32.5 = moment\n",
      "home prob = 51%, away prob = 0%\n",
      "33.0 = moment\n",
      "home prob = 52%, away prob = 0%\n",
      "33.5 = moment\n",
      "home prob = 50%, away prob = 0%\n",
      "34.0 = moment\n",
      "home prob = 54%, away prob = 0%\n",
      "34.5 = moment\n",
      "home prob = 52%, away prob = 0%\n",
      "35.0 = moment\n",
      "home prob = 54%, away prob = 0%\n",
      "35.5 = moment\n",
      "home prob = 52%, away prob = 0%\n",
      "36.0 = moment\n",
      "home prob = 55%, away prob = 0%\n",
      "36.5 = moment\n",
      "home prob = 52%, away prob = 0%\n",
      "37.0 = moment\n",
      "home prob = 52%, away prob = 0%\n",
      "37.5 = moment\n",
      "home prob = 55%, away prob = 0%\n",
      "38.0 = moment\n",
      "home prob = 52%, away prob = 0%\n",
      "38.5 = moment\n",
      "home prob = 54%, away prob = 0%\n",
      "39.0 = moment\n",
      "home prob = 52%, away prob = 0%\n",
      "39.5 = moment\n",
      "home prob = 51%, away prob = 0%\n",
      "40.0 = moment\n",
      "home prob = 61%, away prob = 0%\n",
      "40.5 = moment\n",
      "home prob = 60%, away prob = 0%\n",
      "41.0 = moment\n",
      "home prob = 58%, away prob = 0%\n",
      "41.5 = moment\n",
      "home prob = 62%, away prob = 0%\n",
      "42.0 = moment\n",
      "home prob = 59%, away prob = 0%\n",
      "42.5 = moment\n",
      "home prob = 58%, away prob = 0%\n",
      "43.0 = moment\n",
      "home prob = 55%, away prob = 4%\n",
      "43.5 = moment\n",
      "home prob = 56%, away prob = 5%\n",
      "44.0 = moment\n",
      "home prob = 55%, away prob = 5%\n",
      "44.5 = moment\n",
      "home prob = 55%, away prob = 5%\n",
      "45.0 = moment\n",
      "home prob = 55%, away prob = 4%\n",
      "45.5 = moment\n",
      "home prob = 54%, away prob = 4%\n",
      "46.0 = moment\n",
      "home prob = 55%, away prob = 4%\n",
      "46.5 = moment\n",
      "home prob = 55%, away prob = 5%\n",
      "47.0 = moment\n",
      "home prob = 54%, away prob = 4%\n",
      "47.5 = moment\n",
      "home prob = 58%, away prob = 4%\n",
      "48.0 = moment\n",
      "home prob = 55%, away prob = 4%\n",
      "48.5 = moment\n",
      "home prob = 53%, away prob = 4%\n",
      "49.0 = moment\n",
      "home prob = 54%, away prob = 4%\n",
      "49.5 = moment\n",
      "home prob = 55%, away prob = 4%\n",
      "50.0 = moment\n",
      "home prob = 55%, away prob = 4%\n",
      "50.5 = moment\n",
      "home prob = 55%, away prob = 4%\n",
      "51.0 = moment\n",
      "home prob = 53%, away prob = 4%\n",
      "51.5 = moment\n",
      "home prob = 55%, away prob = 4%\n",
      "52.0 = moment\n",
      "home prob = 53%, away prob = 5%\n",
      "52.5 = moment\n",
      "home prob = 57%, away prob = 3%\n",
      "53.0 = moment\n",
      "home prob = 55%, away prob = 4%\n",
      "53.5 = moment\n",
      "home prob = 54%, away prob = 3%\n",
      "54.0 = moment\n",
      "home prob = 62%, away prob = 3%\n",
      "54.5 = moment\n",
      "home prob = 62%, away prob = 3%\n",
      "55.0 = moment\n",
      "home prob = 57%, away prob = 4%\n",
      "55.5 = moment\n",
      "home prob = 56%, away prob = 4%\n",
      "56.0 = moment\n",
      "home prob = 57%, away prob = 4%\n",
      "56.5 = moment\n",
      "home prob = 57%, away prob = 4%\n",
      "57.0 = moment\n",
      "home prob = 58%, away prob = 3%\n",
      "57.5 = moment\n",
      "home prob = 56%, away prob = 4%\n",
      "58.0 = moment\n",
      "home prob = 66%, away prob = 3%\n",
      "58.5 = moment\n",
      "home prob = 68%, away prob = 2%\n",
      "59.0 = moment\n",
      "home prob = 39%, away prob = 26%\n",
      "59.5 = moment\n",
      "home prob = 38%, away prob = 26%\n",
      "60.0 = moment\n",
      "home prob = 38%, away prob = 27%\n",
      "60.5 = moment\n",
      "home prob = 39%, away prob = 26%\n",
      "61.0 = moment\n",
      "home prob = 39%, away prob = 27%\n",
      "61.5 = moment\n",
      "home prob = 38%, away prob = 30%\n",
      "62.0 = moment\n",
      "home prob = 38%, away prob = 27%\n",
      "62.5 = moment\n",
      "home prob = 37%, away prob = 26%\n",
      "63.0 = moment\n",
      "home prob = 40%, away prob = 26%\n",
      "63.5 = moment\n",
      "home prob = 38%, away prob = 27%\n",
      "64.0 = moment\n",
      "home prob = 40%, away prob = 23%\n",
      "64.5 = moment\n",
      "home prob = 42%, away prob = 24%\n",
      "65.0 = moment\n",
      "home prob = 42%, away prob = 26%\n",
      "65.5 = moment\n",
      "home prob = 39%, away prob = 27%\n",
      "66.0 = moment\n",
      "home prob = 39%, away prob = 26%\n",
      "66.5 = moment\n",
      "home prob = 41%, away prob = 26%\n",
      "67.0 = moment\n",
      "home prob = 38%, away prob = 27%\n",
      "67.5 = moment\n",
      "home prob = 38%, away prob = 26%\n",
      "68.0 = moment\n",
      "home prob = 40%, away prob = 27%\n",
      "68.5 = moment\n",
      "home prob = 41%, away prob = 26%\n",
      "69.0 = moment\n",
      "home prob = 44%, away prob = 24%\n",
      "69.5 = moment\n",
      "home prob = 45%, away prob = 22%\n",
      "70.0 = moment\n",
      "home prob = 45%, away prob = 24%\n",
      "70.5 = moment\n",
      "home prob = 50%, away prob = 19%\n",
      "71.0 = moment\n",
      "home prob = 45%, away prob = 25%\n",
      "71.5 = moment\n",
      "home prob = 46%, away prob = 22%\n",
      "72.0 = moment\n",
      "home prob = 43%, away prob = 23%\n",
      "72.5 = moment\n",
      "home prob = 47%, away prob = 22%\n",
      "73.0 = moment\n",
      "home prob = 45%, away prob = 24%\n",
      "73.5 = moment\n",
      "home prob = 45%, away prob = 21%\n",
      "74.0 = moment\n",
      "home prob = 52%, away prob = 19%\n",
      "74.5 = moment\n",
      "home prob = 54%, away prob = 16%\n",
      "75.0 = moment\n",
      "home prob = 53%, away prob = 20%\n",
      "75.5 = moment\n",
      "home prob = 53%, away prob = 19%\n",
      "76.0 = moment\n",
      "home prob = 48%, away prob = 21%\n",
      "76.5 = moment\n",
      "home prob = 54%, away prob = 20%\n",
      "77.0 = moment\n",
      "home prob = 50%, away prob = 18%\n",
      "77.5 = moment\n",
      "home prob = 52%, away prob = 19%\n",
      "78.0 = moment\n",
      "home prob = 48%, away prob = 20%\n",
      "78.5 = moment\n",
      "home prob = 50%, away prob = 20%\n",
      "79.0 = moment\n",
      "home prob = 52%, away prob = 18%\n",
      "79.5 = moment\n",
      "home prob = 52%, away prob = 18%\n",
      "80.0 = moment\n",
      "home prob = 64%, away prob = 11%\n",
      "80.5 = moment\n",
      "home prob = 60%, away prob = 12%\n",
      "81.0 = moment\n",
      "home prob = 69%, away prob = 10%\n",
      "81.5 = moment\n",
      "home prob = 65%, away prob = 11%\n",
      "82.0 = moment\n",
      "home prob = 69%, away prob = 11%\n",
      "82.5 = moment\n",
      "home prob = 69%, away prob = 10%\n",
      "83.0 = moment\n",
      "home prob = 69%, away prob = 10%\n",
      "83.5 = moment\n",
      "home prob = 71%, away prob = 8%\n",
      "84.0 = moment\n",
      "home prob = 68%, away prob = 12%\n",
      "84.5 = moment\n",
      "home prob = 72%, away prob = 10%\n",
      "85.0 = moment\n",
      "home prob = 68%, away prob = 11%\n",
      "85.5 = moment\n",
      "home prob = 68%, away prob = 8%\n",
      "86.0 = moment\n",
      "home prob = 68%, away prob = 9%\n",
      "86.5 = moment\n",
      "home prob = 70%, away prob = 11%\n",
      "87.0 = moment\n",
      "home prob = 69%, away prob = 10%\n",
      "87.5 = moment\n",
      "home prob = 68%, away prob = 10%\n",
      "88.0 = moment\n",
      "home prob = 71%, away prob = 9%\n",
      "88.5 = moment\n",
      "home prob = 70%, away prob = 10%\n",
      "89.0 = moment\n",
      "home prob = 68%, away prob = 10%\n",
      "89.5 = moment\n",
      "home prob = 69%, away prob = 11%\n",
      "90.0 = moment\n",
      "home prob = 72%, away prob = 9%\n",
      "90.5 = moment\n",
      "home prob = 70%, away prob = 9%\n",
      "91.0 = moment\n",
      "home prob = 69%, away prob = 10%\n",
      "91.5 = moment\n",
      "home prob = 70%, away prob = 10%\n",
      "92.0 = moment\n",
      "home prob = 70%, away prob = 11%\n",
      "92.5 = moment\n",
      "home prob = 67%, away prob = 12%\n",
      "93.0 = moment\n",
      "home prob = 68%, away prob = 9%\n",
      "93.5 = moment\n",
      "home prob = 66%, away prob = 12%\n",
      "94.0 = moment\n",
      "home prob = 65%, away prob = 12%\n",
      "94.5 = moment\n",
      "home prob = 68%, away prob = 10%\n",
      "190\n",
      "190\n",
      "190\n"
     ]
    }
   ],
   "source": [
    "timeline = np.arange(0,95, 0.5)\n",
    "\n",
    "home_win_prob = []\n",
    "away_win_prob = []\n",
    "sim_volume = 1000\n",
    "\n",
    "df_home = match['Shots'][0].Home[0]\n",
    "df_away = match['Shots'][0].Away[0]\n",
    "df_away = df_away.replace('90+2', 92)\n",
    "\n",
    "df_away['Unnamed: 0_level_0','Minute'] = df_away['Unnamed: 0_level_0','Minute'].astype(float)\n",
    "for moment in timeline:\n",
    "    print(f'{moment} = moment')\n",
    "    df1 = df_home[df_home['Unnamed: 0_level_0','Minute'] <= moment].copy()\n",
    "    df2 = df_away[df_away['Unnamed: 0_level_0','Minute'] <= moment].copy()\n",
    "    a,b = simulation_loop(df1, df2, sim_volume)\n",
    "    home_win_prob.append(round(a*100))\n",
    "    away_win_prob.append(round(b*100))\n",
    "    print(f'home prob = {round(a*100)}%, away prob = {round(b*100)}%')\n",
    "    # print(moment, df1)\n",
    "    \n",
    "# df_away['Unnamed: 0_level_0','Minute']\n",
    "print(len(home_win_prob))\n",
    "print(len(away_win_prob))\n",
    "print(len(timeline))"
   ]
  },
  {
   "cell_type": "code",
   "execution_count": 204,
   "metadata": {},
   "outputs": [
    {
     "data": {
      "text/plain": [
       "<matplotlib.legend.Legend at 0x7f9f49804d30>"
      ]
     },
     "execution_count": 204,
     "metadata": {},
     "output_type": "execute_result"
    },
    {
     "data": {
      "image/png": "[encoded data removed]",
      "text/plain": [
       "<Figure size 432x288 with 1 Axes>"
      ]
     },
     "metadata": {
      "needs_background": "light"
     },
     "output_type": "display_data"
    }
   ],
   "source": [
    "import matplotlib.pyplot as plt\n",
    "\n",
    "plt.plot(timeline, home_win_prob, color='red', label='Liverpool')\n",
    "plt.plot(timeline, away_win_prob, color='blue', label='Real Madrid')\n",
    "\n",
    "x1 = 59\n",
    "y1 = (away_win_prob[x1*2])\n",
    "plt.scatter(x=x1, y=y1, color='orange', s=50)\n",
    "plt.text(x1-3, y1 + 0.1, 'Goal', color='red', ha='center', va='bottom')\n",
    "plt.xlabel(\"timeline\")\n",
    "plt.ylabel(\"win probability\")\n",
    "plt.legend()"
   ]
  },
  {
   "cell_type": "code",
   "execution_count": 207,
   "metadata": {},
   "outputs": [
    {
     "data": {
      "text/html": [
       "<div>\n",
       "<style scoped>\n",
       "    .dataframe tbody tr th:only-of-type {\n",
       "        vertical-align: middle;\n",
       "    }\n",
       "\n",
       "    .dataframe tbody tr th {\n",
       "        vertical-align: top;\n",
       "    }\n",
       "\n",
       "    .dataframe thead tr th {\n",
       "        text-align: left;\n",
       "    }\n",
       "</style>\n",
       "<table border=\"1\" class=\"dataframe\">\n",
       "  <thead>\n",
       "    <tr>\n",
       "      <th></th>\n",
       "      <th>Unnamed: 0_level_0</th>\n",
       "      <th>Unnamed: 1_level_0</th>\n",
       "      <th>Unnamed: 2_level_0</th>\n",
       "      <th>Unnamed: 3_level_0</th>\n",
       "      <th>Unnamed: 4_level_0</th>\n",
       "      <th>Unnamed: 5_level_0</th>\n",
       "      <th>Unnamed: 6_level_0</th>\n",
       "      <th>Unnamed: 7_level_0</th>\n",
       "      <th>Unnamed: 8_level_0</th>\n",
       "      <th colspan=\"2\" halign=\"left\">SCA 1</th>\n",
       "      <th colspan=\"2\" halign=\"left\">SCA 2</th>\n",
       "      <th>generated</th>\n",
       "      <th>simulate</th>\n",
       "    </tr>\n",
       "    <tr>\n",
       "      <th></th>\n",
       "      <th>Minute</th>\n",
       "      <th>Player</th>\n",
       "      <th>Squad</th>\n",
       "      <th>xG</th>\n",
       "      <th>PSxG</th>\n",
       "      <th>Outcome</th>\n",
       "      <th>Distance</th>\n",
       "      <th>Body Part</th>\n",
       "      <th>Notes</th>\n",
       "      <th>Player</th>\n",
       "      <th>Event</th>\n",
       "      <th>Player</th>\n",
       "      <th>Event</th>\n",
       "      <th></th>\n",
       "      <th></th>\n",
       "    </tr>\n",
       "  </thead>\n",
       "  <tbody>\n",
       "    <tr>\n",
       "      <th>3</th>\n",
       "      <td>17.0</td>\n",
       "      <td>Mohamed Salah</td>\n",
       "      <td>Liverpool</td>\n",
       "      <td>0.09</td>\n",
       "      <td>0.1</td>\n",
       "      <td>Saved</td>\n",
       "      <td>18.0</td>\n",
       "      <td>Left Foot</td>\n",
       "      <td>NaN</td>\n",
       "      <td>Sadio Mané</td>\n",
       "      <td>Pass (Live)</td>\n",
       "      <td>Andrew Robertson</td>\n",
       "      <td>Pass (Live)</td>\n",
       "      <td>0.180613</td>\n",
       "      <td>True</td>\n",
       "    </tr>\n",
       "    <tr>\n",
       "      <th>4</th>\n",
       "      <td>19.0</td>\n",
       "      <td>Trent Alexander-Arnold</td>\n",
       "      <td>Liverpool</td>\n",
       "      <td>0.05</td>\n",
       "      <td>NaN</td>\n",
       "      <td>Off Target</td>\n",
       "      <td>18.0</td>\n",
       "      <td>Right Foot</td>\n",
       "      <td>NaN</td>\n",
       "      <td>Mohamed Salah</td>\n",
       "      <td>Pass (Live)</td>\n",
       "      <td>Sadio Mané</td>\n",
       "      <td>Pass (Live)</td>\n",
       "      <td>0.180613</td>\n",
       "      <td>False</td>\n",
       "    </tr>\n",
       "  </tbody>\n",
       "</table>\n",
       "</div>"
      ],
      "text/plain": [
       "  Unnamed: 0_level_0      Unnamed: 1_level_0 Unnamed: 2_level_0  \\\n",
       "              Minute                  Player              Squad   \n",
       "3               17.0           Mohamed Salah          Liverpool   \n",
       "4               19.0  Trent Alexander-Arnold          Liverpool   \n",
       "\n",
       "  Unnamed: 3_level_0 Unnamed: 4_level_0 Unnamed: 5_level_0 Unnamed: 6_level_0  \\\n",
       "                  xG               PSxG            Outcome           Distance   \n",
       "3               0.09                0.1              Saved               18.0   \n",
       "4               0.05                NaN         Off Target               18.0   \n",
       "\n",
       "  Unnamed: 7_level_0 Unnamed: 8_level_0          SCA 1               \\\n",
       "           Body Part              Notes         Player        Event   \n",
       "3          Left Foot                NaN     Sadio Mané  Pass (Live)   \n",
       "4         Right Foot                NaN  Mohamed Salah  Pass (Live)   \n",
       "\n",
       "              SCA 2              generated simulate  \n",
       "             Player        Event                     \n",
       "3  Andrew Robertson  Pass (Live)  0.180613     True  \n",
       "4        Sadio Mané  Pass (Live)  0.180613    False  "
      ]
     },
     "execution_count": 207,
     "metadata": {},
     "output_type": "execute_result"
    }
   ],
   "source": [
    "df_home[(df_home['Unnamed: 0_level_0','Minute'] <= 20) & (df_home['Unnamed: 0_level_0','Minute'] > 16)]"
   ]
  },
  {
   "cell_type": "code",
   "execution_count": 215,
   "metadata": {},
   "outputs": [
    {
     "name": "stdout",
     "output_type": "stream",
     "text": [
      "5.0 = moment\n",
      "home prob = 0%, away prob = 0%\n",
      "5.5 = moment\n",
      "home prob = 0%, away prob = 0%\n",
      "6.0 = moment\n",
      "home prob = 0%, away prob = 0%\n",
      "6.5 = moment\n",
      "home prob = 0%, away prob = 0%\n",
      "7.0 = moment\n",
      "home prob = 0%, away prob = 0%\n",
      "7.5 = moment\n",
      "home prob = 0%, away prob = 0%\n",
      "8.0 = moment\n",
      "home prob = 0%, away prob = 0%\n",
      "8.5 = moment\n",
      "home prob = 0%, away prob = 0%\n",
      "9.0 = moment\n",
      "home prob = 0%, away prob = 0%\n",
      "9.5 = moment\n",
      "home prob = 0%, away prob = 0%\n",
      "10.0 = moment\n",
      "home prob = 0%, away prob = 0%\n",
      "10.5 = moment\n",
      "home prob = 0%, away prob = 0%\n",
      "11.0 = moment\n",
      "home prob = 0%, away prob = 0%\n",
      "11.5 = moment\n",
      "home prob = 0%, away prob = 0%\n",
      "12.0 = moment\n",
      "home prob = 0%, away prob = 0%\n",
      "12.5 = moment\n",
      "home prob = 0%, away prob = 0%\n",
      "13.0 = moment\n",
      "home prob = 0%, away prob = 0%\n",
      "13.5 = moment\n",
      "home prob = 0%, away prob = 0%\n",
      "14.0 = moment\n",
      "home prob = 0%, away prob = 0%\n",
      "14.5 = moment\n",
      "home prob = 0%, away prob = 0%\n",
      "15.0 = moment\n",
      "home prob = 0%, away prob = 0%\n",
      "15.5 = moment\n",
      "home prob = 0%, away prob = 0%\n",
      "16.0 = moment\n",
      "home prob = 3%, away prob = 0%\n",
      "16.5 = moment\n",
      "home prob = 3%, away prob = 0%\n",
      "17.0 = moment\n",
      "home prob = 4%, away prob = 0%\n",
      "17.5 = moment\n",
      "home prob = 4%, away prob = 0%\n",
      "18.0 = moment\n",
      "home prob = 4%, away prob = 0%\n",
      "18.5 = moment\n",
      "home prob = 4%, away prob = 0%\n",
      "19.0 = moment\n",
      "home prob = 5%, away prob = 0%\n",
      "19.5 = moment\n",
      "home prob = 5%, away prob = 0%\n",
      "20.0 = moment\n",
      "home prob = 5%, away prob = 0%\n",
      "20.5 = moment\n",
      "home prob = 5%, away prob = 0%\n",
      "21.0 = moment\n",
      "home prob = 3%, away prob = 0%\n",
      "21.5 = moment\n",
      "home prob = 3%, away prob = 0%\n",
      "22.0 = moment\n",
      "home prob = 2%, away prob = 0%\n",
      "22.5 = moment\n",
      "home prob = 2%, away prob = 0%\n",
      "23.0 = moment\n",
      "home prob = 2%, away prob = 0%\n",
      "23.5 = moment\n",
      "home prob = 2%, away prob = 0%\n",
      "24.0 = moment\n",
      "home prob = 1%, away prob = 0%\n",
      "24.5 = moment\n",
      "home prob = 1%, away prob = 0%\n",
      "25.0 = moment\n",
      "home prob = 1%, away prob = 0%\n",
      "25.5 = moment\n",
      "home prob = 1%, away prob = 0%\n",
      "26.0 = moment\n",
      "home prob = 0%, away prob = 0%\n",
      "26.5 = moment\n",
      "home prob = 0%, away prob = 0%\n",
      "27.0 = moment\n",
      "home prob = 0%, away prob = 0%\n",
      "27.5 = moment\n",
      "home prob = 0%, away prob = 0%\n",
      "28.0 = moment\n",
      "home prob = 1%, away prob = 0%\n",
      "28.5 = moment\n",
      "home prob = 1%, away prob = 0%\n",
      "29.0 = moment\n",
      "home prob = 1%, away prob = 0%\n",
      "29.5 = moment\n",
      "home prob = 1%, away prob = 0%\n",
      "30.0 = moment\n",
      "home prob = 1%, away prob = 0%\n",
      "30.5 = moment\n",
      "home prob = 1%, away prob = 0%\n",
      "31.0 = moment\n",
      "home prob = 1%, away prob = 0%\n",
      "31.5 = moment\n",
      "home prob = 1%, away prob = 0%\n",
      "32.0 = moment\n",
      "home prob = 1%, away prob = 0%\n",
      "32.5 = moment\n",
      "home prob = 1%, away prob = 0%\n",
      "33.0 = moment\n",
      "home prob = 0%, away prob = 0%\n",
      "33.5 = moment\n",
      "home prob = 0%, away prob = 0%\n",
      "34.0 = moment\n",
      "home prob = 1%, away prob = 0%\n",
      "34.5 = moment\n",
      "home prob = 1%, away prob = 0%\n",
      "35.0 = moment\n",
      "home prob = 1%, away prob = 0%\n",
      "35.5 = moment\n",
      "home prob = 1%, away prob = 0%\n",
      "36.0 = moment\n",
      "home prob = 1%, away prob = 0%\n",
      "36.5 = moment\n",
      "home prob = 1%, away prob = 0%\n",
      "37.0 = moment\n",
      "home prob = 1%, away prob = 0%\n",
      "37.5 = moment\n",
      "home prob = 1%, away prob = 0%\n",
      "38.0 = moment\n",
      "home prob = 1%, away prob = 0%\n",
      "38.5 = moment\n",
      "home prob = 1%, away prob = 0%\n",
      "39.0 = moment\n",
      "home prob = 0%, away prob = 0%\n",
      "39.5 = moment\n",
      "home prob = 0%, away prob = 0%\n",
      "40.0 = moment\n",
      "home prob = 1%, away prob = 0%\n",
      "40.5 = moment\n",
      "home prob = 1%, away prob = 0%\n",
      "41.0 = moment\n",
      "home prob = 2%, away prob = 0%\n",
      "41.5 = moment\n",
      "home prob = 2%, away prob = 0%\n",
      "42.0 = moment\n",
      "home prob = 2%, away prob = 0%\n",
      "42.5 = moment\n",
      "home prob = 2%, away prob = 0%\n",
      "43.0 = moment\n",
      "home prob = 2%, away prob = 1%\n",
      "43.5 = moment\n",
      "home prob = 2%, away prob = 1%\n",
      "44.0 = moment\n",
      "home prob = 2%, away prob = 1%\n",
      "44.5 = moment\n",
      "home prob = 2%, away prob = 1%\n",
      "45.0 = moment\n",
      "home prob = 1%, away prob = 1%\n",
      "45.5 = moment\n",
      "home prob = 1%, away prob = 1%\n",
      "46.0 = moment\n",
      "home prob = 0%, away prob = 1%\n",
      "46.5 = moment\n",
      "home prob = 0%, away prob = 1%\n",
      "47.0 = moment\n",
      "home prob = 0%, away prob = 1%\n",
      "47.5 = moment\n",
      "home prob = 0%, away prob = 1%\n",
      "48.0 = moment\n",
      "home prob = 0%, away prob = 0%\n",
      "48.5 = moment\n",
      "home prob = 0%, away prob = 0%\n",
      "49.0 = moment\n",
      "home prob = 0%, away prob = 0%\n",
      "49.5 = moment\n",
      "home prob = 0%, away prob = 0%\n",
      "50.0 = moment\n",
      "home prob = 0%, away prob = 0%\n",
      "50.5 = moment\n",
      "home prob = 0%, away prob = 0%\n",
      "51.0 = moment\n",
      "home prob = 0%, away prob = 0%\n",
      "51.5 = moment\n",
      "home prob = 0%, away prob = 0%\n",
      "52.0 = moment\n",
      "home prob = 0%, away prob = 0%\n",
      "52.5 = moment\n",
      "home prob = 0%, away prob = 0%\n",
      "53.0 = moment\n",
      "home prob = 0%, away prob = 0%\n",
      "53.5 = moment\n",
      "home prob = 0%, away prob = 0%\n",
      "54.0 = moment\n",
      "home prob = 2%, away prob = 0%\n",
      "54.5 = moment\n",
      "home prob = 2%, away prob = 0%\n",
      "55.0 = moment\n",
      "home prob = 2%, away prob = 0%\n",
      "55.5 = moment\n",
      "home prob = 2%, away prob = 0%\n",
      "56.0 = moment\n",
      "home prob = 2%, away prob = 0%\n",
      "56.5 = moment\n",
      "home prob = 2%, away prob = 0%\n",
      "57.0 = moment\n",
      "home prob = 2%, away prob = 0%\n",
      "57.5 = moment\n",
      "home prob = 2%, away prob = 0%\n",
      "58.0 = moment\n",
      "home prob = 4%, away prob = 0%\n",
      "58.5 = moment\n",
      "home prob = 4%, away prob = 0%\n",
      "59.0 = moment\n",
      "home prob = 2%, away prob = 2%\n",
      "59.5 = moment\n",
      "home prob = 2%, away prob = 2%\n",
      "60.0 = moment\n",
      "home prob = 2%, away prob = 2%\n",
      "60.5 = moment\n",
      "home prob = 2%, away prob = 2%\n",
      "61.0 = moment\n",
      "home prob = 2%, away prob = 2%\n",
      "61.5 = moment\n",
      "home prob = 2%, away prob = 2%\n",
      "62.0 = moment\n",
      "home prob = 2%, away prob = 2%\n",
      "62.5 = moment\n",
      "home prob = 2%, away prob = 2%\n",
      "63.0 = moment\n",
      "home prob = 0%, away prob = 2%\n",
      "63.5 = moment\n",
      "home prob = 0%, away prob = 2%\n",
      "64.0 = moment\n",
      "home prob = 1%, away prob = 0%\n",
      "64.5 = moment\n",
      "home prob = 1%, away prob = 0%\n",
      "65.0 = moment\n",
      "home prob = 1%, away prob = 0%\n",
      "65.5 = moment\n",
      "home prob = 1%, away prob = 0%\n",
      "66.0 = moment\n",
      "home prob = 1%, away prob = 0%\n",
      "66.5 = moment\n",
      "home prob = 1%, away prob = 0%\n",
      "67.0 = moment\n",
      "home prob = 1%, away prob = 0%\n",
      "67.5 = moment\n",
      "home prob = 1%, away prob = 0%\n",
      "68.0 = moment\n",
      "home prob = 1%, away prob = 0%\n",
      "68.5 = moment\n",
      "home prob = 1%, away prob = 0%\n",
      "69.0 = moment\n",
      "home prob = 2%, away prob = 0%\n",
      "69.5 = moment\n",
      "home prob = 2%, away prob = 0%\n",
      "70.0 = moment\n",
      "home prob = 2%, away prob = 0%\n",
      "70.5 = moment\n",
      "home prob = 2%, away prob = 0%\n",
      "71.0 = moment\n",
      "home prob = 2%, away prob = 0%\n",
      "71.5 = moment\n",
      "home prob = 2%, away prob = 0%\n",
      "72.0 = moment\n",
      "home prob = 2%, away prob = 0%\n",
      "72.5 = moment\n",
      "home prob = 2%, away prob = 0%\n",
      "73.0 = moment\n",
      "home prob = 2%, away prob = 0%\n",
      "73.5 = moment\n",
      "home prob = 2%, away prob = 0%\n",
      "74.0 = moment\n",
      "home prob = 2%, away prob = 0%\n",
      "74.5 = moment\n",
      "home prob = 2%, away prob = 0%\n",
      "75.0 = moment\n",
      "home prob = 2%, away prob = 0%\n",
      "75.5 = moment\n",
      "home prob = 2%, away prob = 0%\n",
      "76.0 = moment\n",
      "home prob = 2%, away prob = 0%\n",
      "76.5 = moment\n",
      "home prob = 2%, away prob = 0%\n",
      "77.0 = moment\n",
      "home prob = 2%, away prob = 0%\n",
      "77.5 = moment\n",
      "home prob = 2%, away prob = 0%\n",
      "78.0 = moment\n",
      "home prob = 2%, away prob = 0%\n",
      "78.5 = moment\n",
      "home prob = 2%, away prob = 0%\n",
      "79.0 = moment\n",
      "home prob = 1%, away prob = 0%\n",
      "79.5 = moment\n",
      "home prob = 1%, away prob = 0%\n",
      "80.0 = moment\n",
      "home prob = 3%, away prob = 0%\n",
      "80.5 = moment\n",
      "home prob = 3%, away prob = 0%\n",
      "81.0 = moment\n",
      "home prob = 4%, away prob = 0%\n",
      "81.5 = moment\n",
      "home prob = 4%, away prob = 0%\n",
      "82.0 = moment\n",
      "home prob = 5%, away prob = 0%\n",
      "82.5 = moment\n",
      "home prob = 5%, away prob = 0%\n",
      "83.0 = moment\n",
      "home prob = 5%, away prob = 0%\n",
      "83.5 = moment\n",
      "home prob = 5%, away prob = 0%\n",
      "84.0 = moment\n",
      "home prob = 4%, away prob = 0%\n",
      "84.5 = moment\n",
      "home prob = 4%, away prob = 0%\n",
      "85.0 = moment\n",
      "home prob = 2%, away prob = 0%\n",
      "85.5 = moment\n",
      "home prob = 2%, away prob = 0%\n",
      "86.0 = moment\n",
      "home prob = 1%, away prob = 0%\n",
      "86.5 = moment\n",
      "home prob = 1%, away prob = 0%\n",
      "87.0 = moment\n",
      "home prob = 0%, away prob = 0%\n",
      "87.5 = moment\n",
      "home prob = 0%, away prob = 0%\n",
      "88.0 = moment\n",
      "home prob = 0%, away prob = 0%\n",
      "88.5 = moment\n",
      "home prob = 0%, away prob = 0%\n",
      "89.0 = moment\n",
      "home prob = 0%, away prob = 0%\n",
      "89.5 = moment\n",
      "home prob = 0%, away prob = 0%\n",
      "90.0 = moment\n",
      "home prob = 0%, away prob = 0%\n",
      "90.5 = moment\n",
      "home prob = 0%, away prob = 0%\n",
      "91.0 = moment\n",
      "home prob = 0%, away prob = 0%\n",
      "91.5 = moment\n",
      "home prob = 0%, away prob = 0%\n",
      "92.0 = moment\n",
      "home prob = 0%, away prob = 1%\n",
      "92.5 = moment\n",
      "home prob = 0%, away prob = 1%\n",
      "93.0 = moment\n",
      "home prob = 0%, away prob = 1%\n",
      "93.5 = moment\n",
      "home prob = 0%, away prob = 1%\n",
      "94.0 = moment\n",
      "home prob = 0%, away prob = 1%\n",
      "94.5 = moment\n",
      "home prob = 0%, away prob = 1%\n",
      "180\n",
      "180\n",
      "180\n"
     ]
    }
   ],
   "source": [
    "timeframe = 5\n",
    "new_timeline = np.arange(timeframe, 95, 0.5)\n",
    "\n",
    "home_shot_density = []\n",
    "away_shot_density = []\n",
    "\n",
    "\n",
    "df_home = match['Shots'][0].Home[0]\n",
    "df_away = match['Shots'][0].Away[0]\n",
    "df_away = df_away.replace('90+2', 92)\n",
    "\n",
    "df_away['Unnamed: 0_level_0','Minute'] = df_away['Unnamed: 0_level_0','Minute'].astype(float)\n",
    "for moment in new_timeline:\n",
    "    print(f'{moment} = moment')\n",
    "    df1 = df_home[(df_home['Unnamed: 0_level_0','Minute'] <= moment) & (df_home['Unnamed: 0_level_0','Minute'] > moment - timeframe)].copy()\n",
    "    df2 = df_away[(df_away['Unnamed: 0_level_0','Minute'] <= moment) & (df_away['Unnamed: 0_level_0','Minute'] > moment - timeframe)].copy()\n",
    "    a = len(df1)\n",
    "    b = len(df2)\n",
    "    home_shot_density.append(a)\n",
    "    away_shot_density.append(b)\n",
    "    print(f'home prob = {a}%, away prob = {b}%')\n",
    "    # print(moment, df1)\n",
    "    \n",
    "print(len(home_shot_density))\n",
    "print(len(away_shot_density))\n",
    "print(len(new_timeline))"
   ]
  },
  {
   "cell_type": "code",
   "execution_count": 217,
   "metadata": {},
   "outputs": [
    {
     "data": {
      "text/plain": [
       "<matplotlib.legend.Legend at 0x7f9f4954e7f0>"
      ]
     },
     "execution_count": 217,
     "metadata": {},
     "output_type": "execute_result"
    },
    {
     "data": {
      "image/png": "[encoded data removed]",
      "text/plain": [
       "<Figure size 432x288 with 1 Axes>"
      ]
     },
     "metadata": {
      "needs_background": "light"
     },
     "output_type": "display_data"
    }
   ],
   "source": [
    "plt.plot(new_timeline, home_shot_density, color='red', label='Liverpool')\n",
    "plt.plot(new_timeline, away_shot_density, color='blue', label='Real Madrid')\n",
    "\n",
    "x1 = 59\n",
    "y1 = (away_shot_density[x1*2])\n",
    "plt.scatter(x=x1, y=y1, color='orange', s=50)\n",
    "plt.text(x1-3, y1 + 0.1, 'Goal', color='red', ha='center', va='bottom')\n",
    "plt.xlabel(\"timeline\")\n",
    "plt.ylabel(\"shots per last 5 mins\")\n",
    "plt.legend()"
   ]
  },
  {
   "cell_type": "code",
   "execution_count": 218,
   "metadata": {},
   "outputs": [
    {
     "name": "stdout",
     "output_type": "stream",
     "text": [
      "15.0 = moment\n",
      "home prob = 0%, away prob = 0%\n",
      "15.5 = moment\n",
      "home prob = 0%, away prob = 0%\n",
      "16.0 = moment\n",
      "home prob = 3%, away prob = 0%\n",
      "16.5 = moment\n",
      "home prob = 3%, away prob = 0%\n",
      "17.0 = moment\n",
      "home prob = 4%, away prob = 0%\n",
      "17.5 = moment\n",
      "home prob = 4%, away prob = 0%\n",
      "18.0 = moment\n",
      "home prob = 4%, away prob = 0%\n",
      "18.5 = moment\n",
      "home prob = 4%, away prob = 0%\n",
      "19.0 = moment\n",
      "home prob = 5%, away prob = 0%\n",
      "19.5 = moment\n",
      "home prob = 5%, away prob = 0%\n",
      "20.0 = moment\n",
      "home prob = 5%, away prob = 0%\n",
      "20.5 = moment\n",
      "home prob = 5%, away prob = 0%\n",
      "21.0 = moment\n",
      "home prob = 6%, away prob = 0%\n",
      "21.5 = moment\n",
      "home prob = 6%, away prob = 0%\n",
      "22.0 = moment\n",
      "home prob = 6%, away prob = 0%\n",
      "22.5 = moment\n",
      "home prob = 6%, away prob = 0%\n",
      "23.0 = moment\n",
      "home prob = 6%, away prob = 0%\n",
      "23.5 = moment\n",
      "home prob = 6%, away prob = 0%\n",
      "24.0 = moment\n",
      "home prob = 6%, away prob = 0%\n",
      "24.5 = moment\n",
      "home prob = 6%, away prob = 0%\n",
      "25.0 = moment\n",
      "home prob = 6%, away prob = 0%\n",
      "25.5 = moment\n",
      "home prob = 6%, away prob = 0%\n",
      "26.0 = moment\n",
      "home prob = 6%, away prob = 0%\n",
      "26.5 = moment\n",
      "home prob = 6%, away prob = 0%\n",
      "27.0 = moment\n",
      "home prob = 6%, away prob = 0%\n",
      "27.5 = moment\n",
      "home prob = 6%, away prob = 0%\n",
      "28.0 = moment\n",
      "home prob = 7%, away prob = 0%\n",
      "28.5 = moment\n",
      "home prob = 7%, away prob = 0%\n",
      "29.0 = moment\n",
      "home prob = 7%, away prob = 0%\n",
      "29.5 = moment\n",
      "home prob = 7%, away prob = 0%\n",
      "30.0 = moment\n",
      "home prob = 7%, away prob = 0%\n",
      "30.5 = moment\n",
      "home prob = 7%, away prob = 0%\n",
      "31.0 = moment\n",
      "home prob = 4%, away prob = 0%\n",
      "31.5 = moment\n",
      "home prob = 4%, away prob = 0%\n",
      "32.0 = moment\n",
      "home prob = 3%, away prob = 0%\n",
      "32.5 = moment\n",
      "home prob = 3%, away prob = 0%\n",
      "33.0 = moment\n",
      "home prob = 3%, away prob = 0%\n",
      "33.5 = moment\n",
      "home prob = 3%, away prob = 0%\n",
      "34.0 = moment\n",
      "home prob = 3%, away prob = 0%\n",
      "34.5 = moment\n",
      "home prob = 3%, away prob = 0%\n",
      "35.0 = moment\n",
      "home prob = 3%, away prob = 0%\n",
      "35.5 = moment\n",
      "home prob = 3%, away prob = 0%\n",
      "36.0 = moment\n",
      "home prob = 2%, away prob = 0%\n",
      "36.5 = moment\n",
      "home prob = 2%, away prob = 0%\n",
      "37.0 = moment\n",
      "home prob = 2%, away prob = 0%\n",
      "37.5 = moment\n",
      "home prob = 2%, away prob = 0%\n",
      "38.0 = moment\n",
      "home prob = 2%, away prob = 0%\n",
      "38.5 = moment\n",
      "home prob = 2%, away prob = 0%\n",
      "39.0 = moment\n",
      "home prob = 2%, away prob = 0%\n",
      "39.5 = moment\n",
      "home prob = 2%, away prob = 0%\n",
      "40.0 = moment\n",
      "home prob = 3%, away prob = 0%\n",
      "40.5 = moment\n",
      "home prob = 3%, away prob = 0%\n",
      "41.0 = moment\n",
      "home prob = 4%, away prob = 0%\n",
      "41.5 = moment\n",
      "home prob = 4%, away prob = 0%\n",
      "42.0 = moment\n",
      "home prob = 4%, away prob = 0%\n",
      "42.5 = moment\n",
      "home prob = 4%, away prob = 0%\n",
      "43.0 = moment\n",
      "home prob = 3%, away prob = 1%\n",
      "43.5 = moment\n",
      "home prob = 3%, away prob = 1%\n",
      "44.0 = moment\n",
      "home prob = 3%, away prob = 1%\n",
      "44.5 = moment\n",
      "home prob = 3%, away prob = 1%\n",
      "45.0 = moment\n",
      "home prob = 3%, away prob = 1%\n",
      "45.5 = moment\n",
      "home prob = 3%, away prob = 1%\n",
      "46.0 = moment\n",
      "home prob = 3%, away prob = 1%\n",
      "46.5 = moment\n",
      "home prob = 3%, away prob = 1%\n",
      "47.0 = moment\n",
      "home prob = 3%, away prob = 1%\n",
      "47.5 = moment\n",
      "home prob = 3%, away prob = 1%\n",
      "48.0 = moment\n",
      "home prob = 3%, away prob = 1%\n",
      "48.5 = moment\n",
      "home prob = 3%, away prob = 1%\n",
      "49.0 = moment\n",
      "home prob = 2%, away prob = 1%\n",
      "49.5 = moment\n",
      "home prob = 2%, away prob = 1%\n",
      "50.0 = moment\n",
      "home prob = 2%, away prob = 1%\n",
      "50.5 = moment\n",
      "home prob = 2%, away prob = 1%\n",
      "51.0 = moment\n",
      "home prob = 2%, away prob = 1%\n",
      "51.5 = moment\n",
      "home prob = 2%, away prob = 1%\n",
      "52.0 = moment\n",
      "home prob = 2%, away prob = 1%\n",
      "52.5 = moment\n",
      "home prob = 2%, away prob = 1%\n",
      "53.0 = moment\n",
      "home prob = 2%, away prob = 1%\n",
      "53.5 = moment\n",
      "home prob = 2%, away prob = 1%\n",
      "54.0 = moment\n",
      "home prob = 4%, away prob = 1%\n",
      "54.5 = moment\n",
      "home prob = 4%, away prob = 1%\n",
      "55.0 = moment\n",
      "home prob = 3%, away prob = 1%\n",
      "55.5 = moment\n",
      "home prob = 3%, away prob = 1%\n",
      "56.0 = moment\n",
      "home prob = 2%, away prob = 1%\n",
      "56.5 = moment\n",
      "home prob = 2%, away prob = 1%\n",
      "57.0 = moment\n",
      "home prob = 2%, away prob = 1%\n",
      "57.5 = moment\n",
      "home prob = 2%, away prob = 1%\n",
      "58.0 = moment\n",
      "home prob = 4%, away prob = 0%\n",
      "58.5 = moment\n",
      "home prob = 4%, away prob = 0%\n",
      "59.0 = moment\n",
      "home prob = 4%, away prob = 2%\n",
      "59.5 = moment\n",
      "home prob = 4%, away prob = 2%\n",
      "60.0 = moment\n",
      "home prob = 4%, away prob = 2%\n",
      "60.5 = moment\n",
      "home prob = 4%, away prob = 2%\n",
      "61.0 = moment\n",
      "home prob = 4%, away prob = 2%\n",
      "61.5 = moment\n",
      "home prob = 4%, away prob = 2%\n",
      "62.0 = moment\n",
      "home prob = 4%, away prob = 2%\n",
      "62.5 = moment\n",
      "home prob = 4%, away prob = 2%\n",
      "63.0 = moment\n",
      "home prob = 4%, away prob = 2%\n",
      "63.5 = moment\n",
      "home prob = 4%, away prob = 2%\n",
      "64.0 = moment\n",
      "home prob = 5%, away prob = 2%\n",
      "64.5 = moment\n",
      "home prob = 5%, away prob = 2%\n",
      "65.0 = moment\n",
      "home prob = 5%, away prob = 2%\n",
      "65.5 = moment\n",
      "home prob = 5%, away prob = 2%\n",
      "66.0 = moment\n",
      "home prob = 5%, away prob = 2%\n",
      "66.5 = moment\n",
      "home prob = 5%, away prob = 2%\n",
      "67.0 = moment\n",
      "home prob = 5%, away prob = 2%\n",
      "67.5 = moment\n",
      "home prob = 5%, away prob = 2%\n",
      "68.0 = moment\n",
      "home prob = 5%, away prob = 2%\n",
      "68.5 = moment\n",
      "home prob = 5%, away prob = 2%\n",
      "69.0 = moment\n",
      "home prob = 5%, away prob = 2%\n",
      "69.5 = moment\n",
      "home prob = 5%, away prob = 2%\n",
      "70.0 = moment\n",
      "home prob = 5%, away prob = 2%\n",
      "70.5 = moment\n",
      "home prob = 5%, away prob = 2%\n",
      "71.0 = moment\n",
      "home prob = 5%, away prob = 2%\n",
      "71.5 = moment\n",
      "home prob = 5%, away prob = 2%\n",
      "72.0 = moment\n",
      "home prob = 5%, away prob = 2%\n",
      "72.5 = moment\n",
      "home prob = 5%, away prob = 2%\n",
      "73.0 = moment\n",
      "home prob = 3%, away prob = 2%\n",
      "73.5 = moment\n",
      "home prob = 3%, away prob = 2%\n",
      "74.0 = moment\n",
      "home prob = 5%, away prob = 0%\n",
      "74.5 = moment\n",
      "home prob = 5%, away prob = 0%\n",
      "75.0 = moment\n",
      "home prob = 5%, away prob = 0%\n",
      "75.5 = moment\n",
      "home prob = 5%, away prob = 0%\n",
      "76.0 = moment\n",
      "home prob = 5%, away prob = 0%\n",
      "76.5 = moment\n",
      "home prob = 5%, away prob = 0%\n",
      "77.0 = moment\n",
      "home prob = 5%, away prob = 0%\n",
      "77.5 = moment\n",
      "home prob = 5%, away prob = 0%\n",
      "78.0 = moment\n",
      "home prob = 5%, away prob = 0%\n",
      "78.5 = moment\n",
      "home prob = 5%, away prob = 0%\n",
      "79.0 = moment\n",
      "home prob = 5%, away prob = 0%\n",
      "79.5 = moment\n",
      "home prob = 5%, away prob = 0%\n",
      "80.0 = moment\n",
      "home prob = 7%, away prob = 0%\n",
      "80.5 = moment\n",
      "home prob = 7%, away prob = 0%\n",
      "81.0 = moment\n",
      "home prob = 8%, away prob = 0%\n",
      "81.5 = moment\n",
      "home prob = 8%, away prob = 0%\n",
      "82.0 = moment\n",
      "home prob = 9%, away prob = 0%\n",
      "82.5 = moment\n",
      "home prob = 9%, away prob = 0%\n",
      "83.0 = moment\n",
      "home prob = 9%, away prob = 0%\n",
      "83.5 = moment\n",
      "home prob = 9%, away prob = 0%\n",
      "84.0 = moment\n",
      "home prob = 7%, away prob = 0%\n",
      "84.5 = moment\n",
      "home prob = 7%, away prob = 0%\n",
      "85.0 = moment\n",
      "home prob = 7%, away prob = 0%\n",
      "85.5 = moment\n",
      "home prob = 7%, away prob = 0%\n",
      "86.0 = moment\n",
      "home prob = 7%, away prob = 0%\n",
      "86.5 = moment\n",
      "home prob = 7%, away prob = 0%\n",
      "87.0 = moment\n",
      "home prob = 7%, away prob = 0%\n",
      "87.5 = moment\n",
      "home prob = 7%, away prob = 0%\n",
      "88.0 = moment\n",
      "home prob = 7%, away prob = 0%\n",
      "88.5 = moment\n",
      "home prob = 7%, away prob = 0%\n",
      "89.0 = moment\n",
      "home prob = 5%, away prob = 0%\n",
      "89.5 = moment\n",
      "home prob = 5%, away prob = 0%\n",
      "90.0 = moment\n",
      "home prob = 5%, away prob = 0%\n",
      "90.5 = moment\n",
      "home prob = 5%, away prob = 0%\n",
      "91.0 = moment\n",
      "home prob = 5%, away prob = 0%\n",
      "91.5 = moment\n",
      "home prob = 5%, away prob = 0%\n",
      "92.0 = moment\n",
      "home prob = 5%, away prob = 1%\n",
      "92.5 = moment\n",
      "home prob = 5%, away prob = 1%\n",
      "93.0 = moment\n",
      "home prob = 5%, away prob = 1%\n",
      "93.5 = moment\n",
      "home prob = 5%, away prob = 1%\n",
      "94.0 = moment\n",
      "home prob = 4%, away prob = 1%\n",
      "94.5 = moment\n",
      "home prob = 4%, away prob = 1%\n",
      "160\n",
      "160\n",
      "160\n"
     ]
    },
    {
     "data": {
      "text/plain": [
       "<matplotlib.legend.Legend at 0x7f9f49759d30>"
      ]
     },
     "execution_count": 218,
     "metadata": {},
     "output_type": "execute_result"
    },
    {
     "data": {
      "image/png": "[encoded data removed]",
      "text/plain": [
       "<Figure size 432x288 with 1 Axes>"
      ]
     },
     "metadata": {
      "needs_background": "light"
     },
     "output_type": "display_data"
    }
   ],
   "source": [
    "timeframe = 15\n",
    "new_timeline = np.arange(timeframe, 95, 0.5)\n",
    "\n",
    "home_shot_density = []\n",
    "away_shot_density = []\n",
    "\n",
    "\n",
    "df_home = match['Shots'][0].Home[0]\n",
    "df_away = match['Shots'][0].Away[0]\n",
    "df_away = df_away.replace('90+2', 92)\n",
    "\n",
    "df_away['Unnamed: 0_level_0','Minute'] = df_away['Unnamed: 0_level_0','Minute'].astype(float)\n",
    "for moment in new_timeline:\n",
    "    print(f'{moment} = moment')\n",
    "    df1 = df_home[(df_home['Unnamed: 0_level_0','Minute'] <= moment) & (df_home['Unnamed: 0_level_0','Minute'] > moment - timeframe)].copy()\n",
    "    df2 = df_away[(df_away['Unnamed: 0_level_0','Minute'] <= moment) & (df_away['Unnamed: 0_level_0','Minute'] > moment - timeframe)].copy()\n",
    "    a = len(df1)\n",
    "    b = len(df2)\n",
    "    home_shot_density.append(a)\n",
    "    away_shot_density.append(b)\n",
    "    print(f'home prob = {a}%, away prob = {b}%')\n",
    "    # print(moment, df1)\n",
    "    \n",
    "print(len(home_shot_density))\n",
    "print(len(away_shot_density))\n",
    "print(len(new_timeline))\n",
    "\n",
    "plt.plot(new_timeline, home_shot_density, color='red', label='Liverpool')\n",
    "plt.plot(new_timeline, away_shot_density, color='blue', label='Real Madrid')\n",
    "\n",
    "x1 = 59\n",
    "y1 = (away_shot_density[x1*2])\n",
    "plt.scatter(x=x1, y=y1, color='orange', s=50)\n",
    "plt.text(x1-3, y1 + 0.1, 'Goal', color='red', ha='center', va='bottom')\n",
    "plt.xlabel(\"timeline\")\n",
    "plt.ylabel(\"shots per last 15 mins\")\n",
    "plt.legend()"
   ]
  },
  {
   "cell_type": "code",
   "execution_count": 210,
   "metadata": {},
   "outputs": [
    {
     "data": {
      "image/png": "[encoded data removed]",
      "text/plain": [
       "<Figure size 432x288 with 1 Axes>"
      ]
     },
     "metadata": {
      "needs_background": "light"
     },
     "output_type": "display_data"
    }
   ],
   "source": [
    "# Assuming you have defined your data array\n",
    "data = [1, 2, 3, 4, 5]\n",
    "\n",
    "# Plotting a scatter plot with one axis\n",
    "plt.plot(data, marker='o', linestyle='')\n",
    "\n",
    "plt.xlabel('Data Points')  # Add labels as needed\n",
    "plt.ylabel('Values')\n",
    "\n",
    "plt.show()"
   ]
  },
  {
   "cell_type": "code",
   "execution_count": 237,
   "metadata": {},
   "outputs": [
    {
     "data": {
      "image/png": "[encoded data removed]",
      "text/plain": [
       "<Figure size 432x288 with 1 Axes>"
      ]
     },
     "metadata": {
      "needs_background": "light"
     },
     "output_type": "display_data"
    }
   ],
   "source": [
    "from collections import Counter\n",
    "\n",
    "df_home_mins = df_home['Unnamed: 0_level_0', 'Minute']\n",
    "df_away_mins = df_away['Unnamed: 0_level_0', 'Minute']\n",
    "# zeros_1 = np.zeros(len(df_home_mins))\n",
    "# zeros_2 = np.zeros(len(df_away_mins))\n",
    "zeros_1 = np.full( len(df_home_mins), 'Liverpool')\n",
    "zeros_2 = np.full( len(df_away_mins), 'Real')\n",
    "weights_1 = [100*i for i in Counter(df_home_mins).values() for j in range(i)]\n",
    "weights_2 = [200*i for i in Counter(df_away_mins).values() for j in range(i)]\n",
    "\n",
    "plt.scatter(df_home_mins, zeros_1, s = weights_1, color='r')\n",
    "plt.scatter(df_away_mins, zeros_2, s = weights_2, color='b')\n",
    "\n",
    "plt.xlabel('timeline')  # Add labels as needed\n",
    "plt.ylabel('team')\n",
    "\n",
    "plt.show()"
   ]
  },
  {
   "cell_type": "code",
   "execution_count": 228,
   "metadata": {},
   "outputs": [
    {
     "data": {
      "image/png": "[encoded data removed]",
      "text/plain": [
       "<Figure size 432x288 with 1 Axes>"
      ]
     },
     "metadata": {
      "needs_background": "light"
     },
     "output_type": "display_data"
    }
   ],
   "source": [
    "import matplotlib.pyplot as plt\n",
    "import numpy as np\n",
    "\n",
    "# Sample data\n",
    "categories = ['A', 'B', 'C', 'D', 'E']\n",
    "values = [10, 15, 7, 22, 18]\n",
    "\n",
    "# Convert categories to numerical values\n",
    "category_indices = np.arange(len(categories))\n",
    "\n",
    "# Create a scatter plot\n",
    "plt.scatter(category_indices, values, marker='o')\n",
    "\n",
    "# Set the tick locations and labels for the categorical axis\n",
    "plt.xticks(category_indices, categories)\n",
    "\n",
    "plt.xlabel('Categories')\n",
    "plt.ylabel('Values')\n",
    "plt.title('Scatter Plot with Categorical Axis')\n",
    "\n",
    "plt.show()"
   ]
  },
  {
   "cell_type": "code",
   "execution_count": 9,
   "metadata": {},
   "outputs": [],
   "source": [
    "df_pass_b = match['Away Player Stats'][0]['Passing'][0].drop(match['Away Player Stats'][0]['Passing'][0].index[-1])\n",
    "df_pass_a = match['Home Player Stats'][0]['Passing'][0].drop(match['Away Player Stats'][0]['Passing'][0].index[-1])\n",
    "df_pos_b = match['Away Player Stats'][0]['Possession'][0].drop(match['Away Player Stats'][0]['Passing'][0].index[-1])\n",
    "df_pos_a = match['Home Player Stats'][0]['Possession'][0].drop(match['Away Player Stats'][0]['Passing'][0].index[-1])\n",
    "#['Unnamed: 24_level_0','1/3']"
   ]
  },
  {
   "cell_type": "code",
   "execution_count": 12,
   "metadata": {},
   "outputs": [
    {
     "data": {
      "text/plain": [
       "MultiIndex([( 'Unnamed: 0_level_0',  'Player'),\n",
       "            ( 'Unnamed: 1_level_0',       '#'),\n",
       "            ( 'Unnamed: 2_level_0',  'Nation'),\n",
       "            ( 'Unnamed: 3_level_0',     'Pos'),\n",
       "            ( 'Unnamed: 4_level_0',     'Age'),\n",
       "            ( 'Unnamed: 5_level_0',     'Min'),\n",
       "            (              'Total',     'Cmp'),\n",
       "            (              'Total',     'Att'),\n",
       "            (              'Total',    'Cmp%'),\n",
       "            (              'Total', 'TotDist'),\n",
       "            (              'Total', 'PrgDist'),\n",
       "            (              'Short',     'Cmp'),\n",
       "            (              'Short',     'Att'),\n",
       "            (              'Short',    'Cmp%'),\n",
       "            (             'Medium',     'Cmp'),\n",
       "            (             'Medium',     'Att'),\n",
       "            (             'Medium',    'Cmp%'),\n",
       "            (               'Long',     'Cmp'),\n",
       "            (               'Long',     'Att'),\n",
       "            (               'Long',    'Cmp%'),\n",
       "            ('Unnamed: 20_level_0',     'Ast'),\n",
       "            ('Unnamed: 21_level_0',     'xAG'),\n",
       "            ('Unnamed: 22_level_0',      'xA'),\n",
       "            ('Unnamed: 23_level_0',      'KP'),\n",
       "            ('Unnamed: 24_level_0',     '1/3'),\n",
       "            ('Unnamed: 25_level_0',     'PPA'),\n",
       "            ('Unnamed: 26_level_0',   'CrsPA'),\n",
       "            ('Unnamed: 27_level_0',    'PrgP'),\n",
       "            (          'Player ID',        '')],\n",
       "           )"
      ]
     },
     "execution_count": 12,
     "metadata": {},
     "output_type": "execute_result"
    }
   ],
   "source": [
    "df_pass_b.columns"
   ]
  },
  {
   "cell_type": "code",
   "execution_count": 13,
   "metadata": {},
   "outputs": [
    {
     "data": {
      "text/plain": [
       "MultiIndex([('Unnamed: 0_level_0',  'Player'),\n",
       "            ('Unnamed: 1_level_0',       '#'),\n",
       "            ('Unnamed: 2_level_0',  'Nation'),\n",
       "            ('Unnamed: 3_level_0',     'Pos'),\n",
       "            ('Unnamed: 4_level_0',     'Age'),\n",
       "            ('Unnamed: 5_level_0',     'Min'),\n",
       "            (           'Touches', 'Touches'),\n",
       "            (           'Touches', 'Def Pen'),\n",
       "            (           'Touches', 'Def 3rd'),\n",
       "            (           'Touches', 'Mid 3rd'),\n",
       "            (           'Touches', 'Att 3rd'),\n",
       "            (           'Touches', 'Att Pen'),\n",
       "            (           'Touches',    'Live'),\n",
       "            (          'Take-Ons',     'Att'),\n",
       "            (          'Take-Ons',    'Succ'),\n",
       "            (          'Take-Ons',   'Succ%'),\n",
       "            (          'Take-Ons',    'Tkld'),\n",
       "            (          'Take-Ons',   'Tkld%'),\n",
       "            (           'Carries', 'Carries'),\n",
       "            (           'Carries', 'TotDist'),\n",
       "            (           'Carries', 'PrgDist'),\n",
       "            (           'Carries',    'PrgC'),\n",
       "            (           'Carries',     '1/3'),\n",
       "            (           'Carries',     'CPA'),\n",
       "            (           'Carries',     'Mis'),\n",
       "            (           'Carries',     'Dis'),\n",
       "            (         'Receiving',     'Rec'),\n",
       "            (         'Receiving',    'PrgR'),\n",
       "            (         'Player ID',        '')],\n",
       "           )"
      ]
     },
     "execution_count": 13,
     "metadata": {},
     "output_type": "execute_result"
    }
   ],
   "source": [
    "df_pos_b.columns"
   ]
  },
  {
   "cell_type": "code",
   "execution_count": 23,
   "metadata": {},
   "outputs": [
    {
     "name": "stderr",
     "output_type": "stream",
     "text": [
      "/tmp/ipykernel_477958/3158543682.py:1: FutureWarning: In a future version of pandas all arguments of DataFrame.drop except for the argument 'labels' will be keyword-only.\n",
      "  df_pass_b = (df_pass_b.drop(df_pass_b.columns.difference([['Unnamed: 24_level_0','1/3']]), 1))\n",
      "/tmp/ipykernel_477958/3158543682.py:2: FutureWarning: In a future version of pandas all arguments of DataFrame.drop except for the argument 'labels' will be keyword-only.\n",
      "  df_pos_b = (df_pass_b.drop(df_pass_b.columns.difference([[ 'Carries',\t'1/3']]), 1))\n"
     ]
    },
    {
     "data": {
      "text/html": [
       "<div>\n",
       "<style scoped>\n",
       "    .dataframe tbody tr th:only-of-type {\n",
       "        vertical-align: middle;\n",
       "    }\n",
       "\n",
       "    .dataframe tbody tr th {\n",
       "        vertical-align: top;\n",
       "    }\n",
       "\n",
       "    .dataframe thead tr th {\n",
       "        text-align: left;\n",
       "    }\n",
       "</style>\n",
       "<table border=\"1\" class=\"dataframe\">\n",
       "  <thead>\n",
       "  </thead>\n",
       "  <tbody>\n",
       "    <tr>\n",
       "      <th>0</th>\n",
       "    </tr>\n",
       "    <tr>\n",
       "      <th>1</th>\n",
       "    </tr>\n",
       "    <tr>\n",
       "      <th>2</th>\n",
       "    </tr>\n",
       "    <tr>\n",
       "      <th>3</th>\n",
       "    </tr>\n",
       "    <tr>\n",
       "      <th>4</th>\n",
       "    </tr>\n",
       "    <tr>\n",
       "      <th>5</th>\n",
       "    </tr>\n",
       "    <tr>\n",
       "      <th>6</th>\n",
       "    </tr>\n",
       "    <tr>\n",
       "      <th>7</th>\n",
       "    </tr>\n",
       "    <tr>\n",
       "      <th>8</th>\n",
       "    </tr>\n",
       "    <tr>\n",
       "      <th>9</th>\n",
       "    </tr>\n",
       "    <tr>\n",
       "      <th>10</th>\n",
       "    </tr>\n",
       "    <tr>\n",
       "      <th>11</th>\n",
       "    </tr>\n",
       "    <tr>\n",
       "      <th>12</th>\n",
       "    </tr>\n",
       "    <tr>\n",
       "      <th>13</th>\n",
       "    </tr>\n",
       "  </tbody>\n",
       "</table>\n",
       "</div>"
      ],
      "text/plain": [
       "Empty DataFrame\n",
       "Columns: []\n",
       "Index: [0, 1, 2, 3, 4, 5, 6, 7, 8, 9, 10, 11, 12, 13]"
      ]
     },
     "execution_count": 23,
     "metadata": {},
     "output_type": "execute_result"
    }
   ],
   "source": [
    "df_pass_b = (df_pass_b.drop(df_pass_b.columns.difference([['Unnamed: 24_level_0','1/3']]), 1))\n",
    "df_pos_b = (df_pass_b.drop(df_pass_b.columns.difference([[ 'Carries',\t'1/3']]), 1))\n",
    "df_pos_b"
   ]
  },
  {
   "cell_type": "code",
   "execution_count": 20,
   "metadata": {},
   "outputs": [
    {
     "data": {
      "text/html": [
       "<div>\n",
       "<style scoped>\n",
       "    .dataframe tbody tr th:only-of-type {\n",
       "        vertical-align: middle;\n",
       "    }\n",
       "\n",
       "    .dataframe tbody tr th {\n",
       "        vertical-align: top;\n",
       "    }\n",
       "\n",
       "    .dataframe thead th {\n",
       "        text-align: right;\n",
       "    }\n",
       "</style>\n",
       "<table border=\"1\" class=\"dataframe\">\n",
       "  <thead>\n",
       "    <tr style=\"text-align: right;\">\n",
       "      <th></th>\n",
       "      <th>name</th>\n",
       "    </tr>\n",
       "  </thead>\n",
       "  <tbody>\n",
       "    <tr>\n",
       "      <th>0</th>\n",
       "      <td>Karim Benzema</td>\n",
       "    </tr>\n",
       "    <tr>\n",
       "      <th>1</th>\n",
       "      <td>Vinicius Júnior</td>\n",
       "    </tr>\n",
       "    <tr>\n",
       "      <th>2</th>\n",
       "      <td>Rodrygo</td>\n",
       "    </tr>\n",
       "    <tr>\n",
       "      <th>3</th>\n",
       "      <td>Federico Valverde</td>\n",
       "    </tr>\n",
       "    <tr>\n",
       "      <th>4</th>\n",
       "      <td>Eduardo Camavinga</td>\n",
       "    </tr>\n",
       "    <tr>\n",
       "      <th>5</th>\n",
       "      <td>Toni Kroos</td>\n",
       "    </tr>\n",
       "    <tr>\n",
       "      <th>6</th>\n",
       "      <td>Casemiro</td>\n",
       "    </tr>\n",
       "    <tr>\n",
       "      <th>7</th>\n",
       "      <td>Luka Modrić</td>\n",
       "    </tr>\n",
       "    <tr>\n",
       "      <th>8</th>\n",
       "      <td>Dani Ceballos</td>\n",
       "    </tr>\n",
       "    <tr>\n",
       "      <th>9</th>\n",
       "      <td>Ferland Mendy</td>\n",
       "    </tr>\n",
       "    <tr>\n",
       "      <th>10</th>\n",
       "      <td>David Alaba</td>\n",
       "    </tr>\n",
       "    <tr>\n",
       "      <th>11</th>\n",
       "      <td>Éder Militão</td>\n",
       "    </tr>\n",
       "    <tr>\n",
       "      <th>12</th>\n",
       "      <td>Dani Carvajal</td>\n",
       "    </tr>\n",
       "    <tr>\n",
       "      <th>13</th>\n",
       "      <td>Thibaut Courtois</td>\n",
       "    </tr>\n",
       "  </tbody>\n",
       "</table>\n",
       "</div>"
      ],
      "text/plain": [
       "                 name\n",
       "0       Karim Benzema\n",
       "1     Vinicius Júnior\n",
       "2             Rodrygo\n",
       "3   Federico Valverde\n",
       "4   Eduardo Camavinga\n",
       "5          Toni Kroos\n",
       "6            Casemiro\n",
       "7         Luka Modrić\n",
       "8       Dani Ceballos\n",
       "9       Ferland Mendy\n",
       "10        David Alaba\n",
       "11       Éder Militão\n",
       "12      Dani Carvajal\n",
       "13   Thibaut Courtois"
      ]
     },
     "execution_count": 20,
     "metadata": {},
     "output_type": "execute_result"
    }
   ],
   "source": [
    "df_away_team = df_away_team.drop(df_away_team.index[-1])\n",
    "df_away_team"
   ]
  },
  {
   "cell_type": "code",
   "execution_count": 21,
   "metadata": {},
   "outputs": [
    {
     "name": "stdout",
     "output_type": "stream",
     "text": [
      "14\n",
      "14\n",
      "14\n"
     ]
    }
   ],
   "source": [
    "print(len(df_pos_b))\n",
    "print(len(df_away_team))\n",
    "print(len(df_pass_b))"
   ]
  },
  {
   "cell_type": "code",
   "execution_count": 22,
   "metadata": {},
   "outputs": [
    {
     "data": {
      "text/html": [
       "<div>\n",
       "<style scoped>\n",
       "    .dataframe tbody tr th:only-of-type {\n",
       "        vertical-align: middle;\n",
       "    }\n",
       "\n",
       "    .dataframe tbody tr th {\n",
       "        vertical-align: top;\n",
       "    }\n",
       "\n",
       "    .dataframe thead th {\n",
       "        text-align: right;\n",
       "    }\n",
       "</style>\n",
       "<table border=\"1\" class=\"dataframe\">\n",
       "  <thead>\n",
       "    <tr style=\"text-align: right;\">\n",
       "      <th></th>\n",
       "      <th>name</th>\n",
       "      <th>pass 1/3</th>\n",
       "      <th>carry 1/3</th>\n",
       "    </tr>\n",
       "  </thead>\n",
       "  <tbody>\n",
       "    <tr>\n",
       "      <th>0</th>\n",
       "      <td>[Karim Benzema]</td>\n",
       "      <td>[3]</td>\n",
       "      <td>[]</td>\n",
       "    </tr>\n",
       "    <tr>\n",
       "      <th>1</th>\n",
       "      <td>[Vinicius Júnior]</td>\n",
       "      <td>[1]</td>\n",
       "      <td>[]</td>\n",
       "    </tr>\n",
       "    <tr>\n",
       "      <th>2</th>\n",
       "      <td>[Rodrygo]</td>\n",
       "      <td>[0]</td>\n",
       "      <td>[]</td>\n",
       "    </tr>\n",
       "    <tr>\n",
       "      <th>3</th>\n",
       "      <td>[Federico Valverde]</td>\n",
       "      <td>[1]</td>\n",
       "      <td>[]</td>\n",
       "    </tr>\n",
       "    <tr>\n",
       "      <th>4</th>\n",
       "      <td>[Eduardo Camavinga]</td>\n",
       "      <td>[0]</td>\n",
       "      <td>[]</td>\n",
       "    </tr>\n",
       "    <tr>\n",
       "      <th>5</th>\n",
       "      <td>[Toni Kroos]</td>\n",
       "      <td>[7]</td>\n",
       "      <td>[]</td>\n",
       "    </tr>\n",
       "    <tr>\n",
       "      <th>6</th>\n",
       "      <td>[Casemiro]</td>\n",
       "      <td>[2]</td>\n",
       "      <td>[]</td>\n",
       "    </tr>\n",
       "    <tr>\n",
       "      <th>7</th>\n",
       "      <td>[Luka Modrić]</td>\n",
       "      <td>[3]</td>\n",
       "      <td>[]</td>\n",
       "    </tr>\n",
       "    <tr>\n",
       "      <th>8</th>\n",
       "      <td>[Dani Ceballos]</td>\n",
       "      <td>[0]</td>\n",
       "      <td>[]</td>\n",
       "    </tr>\n",
       "    <tr>\n",
       "      <th>9</th>\n",
       "      <td>[Ferland Mendy]</td>\n",
       "      <td>[0]</td>\n",
       "      <td>[]</td>\n",
       "    </tr>\n",
       "    <tr>\n",
       "      <th>10</th>\n",
       "      <td>[David Alaba]</td>\n",
       "      <td>[1]</td>\n",
       "      <td>[]</td>\n",
       "    </tr>\n",
       "    <tr>\n",
       "      <th>11</th>\n",
       "      <td>[Éder Militão]</td>\n",
       "      <td>[0]</td>\n",
       "      <td>[]</td>\n",
       "    </tr>\n",
       "    <tr>\n",
       "      <th>12</th>\n",
       "      <td>[Dani Carvajal]</td>\n",
       "      <td>[2]</td>\n",
       "      <td>[]</td>\n",
       "    </tr>\n",
       "    <tr>\n",
       "      <th>13</th>\n",
       "      <td>[Thibaut Courtois]</td>\n",
       "      <td>[0]</td>\n",
       "      <td>[]</td>\n",
       "    </tr>\n",
       "  </tbody>\n",
       "</table>\n",
       "</div>"
      ],
      "text/plain": [
       "                   name pass 1/3 carry 1/3\n",
       "0       [Karim Benzema]      [3]        []\n",
       "1     [Vinicius Júnior]      [1]        []\n",
       "2             [Rodrygo]      [0]        []\n",
       "3   [Federico Valverde]      [1]        []\n",
       "4   [Eduardo Camavinga]      [0]        []\n",
       "5          [Toni Kroos]      [7]        []\n",
       "6            [Casemiro]      [2]        []\n",
       "7         [Luka Modrić]      [3]        []\n",
       "8       [Dani Ceballos]      [0]        []\n",
       "9       [Ferland Mendy]      [0]        []\n",
       "10        [David Alaba]      [1]        []\n",
       "11       [Éder Militão]      [0]        []\n",
       "12      [Dani Carvajal]      [2]        []\n",
       "13   [Thibaut Courtois]      [0]        []"
      ]
     },
     "execution_count": 22,
     "metadata": {},
     "output_type": "execute_result"
    }
   ],
   "source": [
    "away_df = pd.DataFrame({\n",
    "    'name': list(df_away_team.values),\n",
    "    'pass 1/3': list(df_pass_b.values),\n",
    "    'carry 1/3': list(df_pos_b.values),\n",
    "\n",
    "})\n",
    "\n",
    "away_df"
   ]
  }
 ],
 "metadata": {
  "kernelspec": {
   "display_name": "Python 3",
   "language": "python",
   "name": "python3"
  },
  "language_info": {
   "codemirror_mode": {
    "name": "ipython",
    "version": 3
   },
   "file_extension": ".py",
   "mimetype": "text/x-python",
   "name": "python",
   "nbconvert_exporter": "python",
   "pygments_lexer": "ipython3",
   "version": "3.9.12"
  }
 },
 "nbformat": 4,
 "nbformat_minor": 2
}
