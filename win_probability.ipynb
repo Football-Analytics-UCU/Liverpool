{
 "cells": [
  {
   "cell_type": "code",
   "execution_count": 3,
   "metadata": {},
   "outputs": [],
   "source": [
    "import ScraperFC as sfc\n",
    "import traceback\n",
    "\n",
    "\n",
    "link = 'https://fbref.com/en/matches/e81453d3/Liverpool-Real-Madrid-May-28-2022-Champions-League'"
   ]
  },
  {
   "cell_type": "code",
   "execution_count": 4,
   "metadata": {},
   "outputs": [],
   "source": [
    "scraper = sfc.FBRef()\n",
    "try:\n",
    "    match = scraper.scrape_match(link=link)\n",
    "except:\n",
    "    traceback.print_exc()\n",
    "finally:\n",
    "    scraper.close()"
   ]
  },
  {
   "cell_type": "code",
   "execution_count": 4,
   "metadata": {},
   "outputs": [
    {
     "data": {
      "text/plain": [
       "Index(['Link', 'Date', 'Stage', 'Home Team', 'Away Team', 'Home Team ID',\n",
       "       'Away Team ID', 'Home Formation', 'Away Formation', 'Home Goals',\n",
       "       'Away Goals', 'Home Ast', 'Away Ast', 'Home xG', 'Away xG', 'Home npxG',\n",
       "       'Away npxG', 'Home xAG', 'Away xAG', 'Home Player Stats',\n",
       "       'Away Player Stats', 'Shots'],\n",
       "      dtype='object')"
      ]
     },
     "execution_count": 4,
     "metadata": {},
     "output_type": "execute_result"
    }
   ],
   "source": [
    "match.columns"
   ]
  },
  {
   "cell_type": "code",
   "execution_count": 8,
   "metadata": {},
   "outputs": [
    {
     "name": "stdout",
     "output_type": "stream",
     "text": [
      "0    2.2\n",
      "Name: Home npxG, dtype: object\n",
      "0    0.9\n",
      "Name: Away npxG, dtype: object\n"
     ]
    }
   ],
   "source": [
    "print(match['Home npxG'])\n",
    "print(match['Away npxG'])"
   ]
  },
  {
   "cell_type": "code",
   "execution_count": 51,
   "metadata": {},
   "outputs": [
    {
     "name": "stdout",
     "output_type": "stream",
     "text": [
      "(24, 14)\n",
      "   Unnamed: 0_level_0      Unnamed: 1_level_0 Unnamed: 2_level_0  \\\n",
      "               Minute                  Player              Squad   \n",
      "0                16.0           Mohamed Salah          Liverpool   \n",
      "1                16.0               Luis Díaz          Liverpool   \n",
      "2                16.0        Thiago Alcántara          Liverpool   \n",
      "3                17.0           Mohamed Salah          Liverpool   \n",
      "4                19.0  Trent Alexander-Arnold          Liverpool   \n",
      "5                21.0              Sadio Mané          Liverpool   \n",
      "6                28.0                 Fabinho          Liverpool   \n",
      "7                34.0           Mohamed Salah          Liverpool   \n",
      "8                40.0              Sadio Mané          Liverpool   \n",
      "9                41.0        Jordan Henderson          Liverpool   \n",
      "11               54.0              Sadio Mané          Liverpool   \n",
      "12               54.0  Trent Alexander-Arnold          Liverpool   \n",
      "13               58.0           Mohamed Salah          Liverpool   \n",
      "14               58.0           Mohamed Salah          Liverpool   \n",
      "15               64.0           Mohamed Salah          Liverpool   \n",
      "16               69.0                 Fabinho          Liverpool   \n",
      "17               69.0           Mohamed Salah          Liverpool   \n",
      "18               74.0  Trent Alexander-Arnold          Liverpool   \n",
      "19               74.0              Diogo Jota          Liverpool   \n",
      "20               79.0         Roberto Firmino          Liverpool   \n",
      "21               80.0           Mohamed Salah          Liverpool   \n",
      "22               80.0              Diogo Jota          Liverpool   \n",
      "23               81.0              Naby Keïta          Liverpool   \n",
      "24               82.0           Mohamed Salah          Liverpool   \n",
      "\n",
      "   Unnamed: 3_level_0 Unnamed: 4_level_0 Unnamed: 5_level_0  \\\n",
      "                   xG               PSxG            Outcome   \n",
      "0                0.29               0.53              Saved   \n",
      "1                0.07                NaN            Blocked   \n",
      "2                0.04               0.13              Saved   \n",
      "3                0.09               0.10              Saved   \n",
      "4                0.05                NaN         Off Target   \n",
      "5                0.06               0.20              Saved   \n",
      "6                0.03                NaN         Off Target   \n",
      "7                0.04               0.02              Saved   \n",
      "8                0.13                NaN            Blocked   \n",
      "9                0.01                NaN         Off Target   \n",
      "11               0.04                NaN            Blocked   \n",
      "12               0.05                NaN            Blocked   \n",
      "13               0.10                NaN            Blocked   \n",
      "14               0.12                NaN            Blocked   \n",
      "15               0.04               0.22              Saved   \n",
      "16               0.02                NaN            Blocked   \n",
      "17               0.13               0.32              Saved   \n",
      "18               0.04                NaN         Off Target   \n",
      "19               0.15                NaN         Off Target   \n",
      "20               0.03                NaN            Blocked   \n",
      "21               0.05                NaN            Blocked   \n",
      "22               0.29               0.84              Saved   \n",
      "23               0.16                NaN         Off Target   \n",
      "24               0.16               0.14              Saved   \n",
      "\n",
      "   Unnamed: 6_level_0 Unnamed: 7_level_0 Unnamed: 8_level_0  \\\n",
      "             Distance          Body Part              Notes   \n",
      "0                 9.0         Right Foot                NaN   \n",
      "1                15.0          Left Foot                NaN   \n",
      "2                23.0         Right Foot                NaN   \n",
      "3                18.0          Left Foot                NaN   \n",
      "4                18.0         Right Foot                NaN   \n",
      "5                17.0         Right Foot                NaN   \n",
      "6                31.0         Right Foot                NaN   \n",
      "7                15.0               Head                NaN   \n",
      "8                 7.0          Left Foot                NaN   \n",
      "9                29.0         Right Foot             Volley   \n",
      "11               18.0          Left Foot                NaN   \n",
      "12               27.0         Right Foot                NaN   \n",
      "13               15.0          Left Foot             Volley   \n",
      "14               16.0          Left Foot             Volley   \n",
      "15               23.0          Left Foot                NaN   \n",
      "16               16.0               Head                NaN   \n",
      "17                3.0          Left Foot                NaN   \n",
      "18               26.0         Right Foot                NaN   \n",
      "19               12.0          Left Foot             Volley   \n",
      "20               25.0          Left Foot                NaN   \n",
      "21               24.0          Left Foot                NaN   \n",
      "22               13.0          Left Foot                NaN   \n",
      "23               20.0         Right Foot                NaN   \n",
      "24               11.0         Right Foot                NaN   \n",
      "\n",
      "                     SCA 1                          SCA 2               \\\n",
      "                    Player        Event            Player        Event   \n",
      "0         Jordan Henderson  Pass (Live)  Thiago Alcántara  Pass (Live)   \n",
      "1               Sadio Mané  Pass (Live)     Mohamed Salah  Pass (Live)   \n",
      "2         Andrew Robertson  Pass (Live)         Luis Díaz         Shot   \n",
      "3               Sadio Mané  Pass (Live)  Andrew Robertson  Pass (Live)   \n",
      "4            Mohamed Salah  Pass (Live)        Sadio Mané  Pass (Live)   \n",
      "5               Sadio Mané      Take-On  Thiago Alcántara  Pass (Live)   \n",
      "6         Thiago Alcántara  Pass (Live)  Andrew Robertson  Pass (Live)   \n",
      "7   Trent Alexander-Arnold  Pass (Live)   Ibrahima Konaté  Pass (Live)   \n",
      "8               Sadio Mané      Take-On  Andrew Robertson  Pass (Live)   \n",
      "9               Sadio Mané         Shot               NaN          NaN   \n",
      "11               Luis Díaz  Pass (Live)        Sadio Mané  Pass (Live)   \n",
      "12              Sadio Mané         Shot               NaN          NaN   \n",
      "13  Trent Alexander-Arnold  Pass (Live)     Mohamed Salah  Pass (Live)   \n",
      "14           Mohamed Salah         Shot               NaN          NaN   \n",
      "15        Jordan Henderson  Pass (Live)         Luis Díaz  Pass (Live)   \n",
      "16        Andrew Robertson  Pass (Live)  Thiago Alcántara  Pass (Live)   \n",
      "17              Diogo Jota  Pass (Live)  Jordan Henderson  Pass (Live)   \n",
      "18              Sadio Mané  Pass (Live)  Jordan Henderson  Pass (Live)   \n",
      "19  Trent Alexander-Arnold         Shot               NaN          NaN   \n",
      "20        Andrew Robertson  Pass (Live)   Roberto Firmino  Pass (Live)   \n",
      "21         Roberto Firmino  Pass (Live)     Mohamed Salah  Pass (Live)   \n",
      "22           Mohamed Salah         Shot               NaN          NaN   \n",
      "23         Roberto Firmino  Pass (Live)        Sadio Mané  Pass (Live)   \n",
      "24                 Fabinho  Pass (Live)               NaN          NaN   \n",
      "\n",
      "   simulate  \n",
      "             \n",
      "0      True  \n",
      "1      True  \n",
      "2      True  \n",
      "3      True  \n",
      "4      True  \n",
      "5      True  \n",
      "6      True  \n",
      "7      True  \n",
      "8      True  \n",
      "9      True  \n",
      "11     True  \n",
      "12     True  \n",
      "13     True  \n",
      "14     True  \n",
      "15     True  \n",
      "16     True  \n",
      "17     True  \n",
      "18     True  \n",
      "19     True  \n",
      "20     True  \n",
      "21     True  \n",
      "22     True  \n",
      "23     True  \n",
      "24     True  \n"
     ]
    }
   ],
   "source": [
    "print(match['Shots'][0].Home[0].shape)\n",
    "print(match['Shots'][0].Home[0])"
   ]
  },
  {
   "cell_type": "code",
   "execution_count": 24,
   "metadata": {},
   "outputs": [
    {
     "name": "stdout",
     "output_type": "stream",
     "text": [
      "(4, 13)\n"
     ]
    }
   ],
   "source": [
    "print(match['Shots'][0].Away[0].shape)"
   ]
  },
  {
   "cell_type": "code",
   "execution_count": 31,
   "metadata": {},
   "outputs": [
    {
     "name": "stdout",
     "output_type": "stream",
     "text": [
      "MultiIndex([('Unnamed: 0_level_0',    'Minute'),\n",
      "            ('Unnamed: 1_level_0',    'Player'),\n",
      "            ('Unnamed: 2_level_0',     'Squad'),\n",
      "            ('Unnamed: 3_level_0',        'xG'),\n",
      "            ('Unnamed: 4_level_0',      'PSxG'),\n",
      "            ('Unnamed: 5_level_0',   'Outcome'),\n",
      "            ('Unnamed: 6_level_0',  'Distance'),\n",
      "            ('Unnamed: 7_level_0', 'Body Part'),\n",
      "            ('Unnamed: 8_level_0',     'Notes'),\n",
      "            (             'SCA 1',    'Player'),\n",
      "            (             'SCA 1',     'Event'),\n",
      "            (             'SCA 2',    'Player'),\n",
      "            (             'SCA 2',     'Event')],\n",
      "           )\n"
     ]
    }
   ],
   "source": [
    "print((match['Shots'][0].Both[0].columns))"
   ]
  },
  {
   "cell_type": "code",
   "execution_count": 40,
   "metadata": {},
   "outputs": [
    {
     "name": "stdout",
     "output_type": "stream",
     "text": [
      "0     16\n",
      "1     16\n",
      "2     16\n",
      "3     17\n",
      "4     19\n",
      "5     21\n",
      "6     28\n",
      "7     34\n",
      "8     40\n",
      "9     41\n",
      "10    43\n",
      "12    54\n",
      "13    54\n",
      "14    58\n",
      "15    58\n",
      "16    59\n",
      "17    59\n",
      "18    64\n",
      "19    69\n",
      "20    69\n",
      "21    74\n",
      "22    74\n",
      "23    79\n",
      "24    80\n",
      "25    80\n",
      "26    81\n",
      "27    82\n",
      "28    92\n",
      "Name: (Unnamed: 0_level_0, Minute), dtype: object\n",
      "0    43\n",
      "2    59\n",
      "3    59\n",
      "4    92\n",
      "Name: (Unnamed: 0_level_0, Minute), dtype: object\n"
     ]
    }
   ],
   "source": [
    "match['Shots'][0].Both[0]['Unnamed: 0_level_0','Minute'] = match['Shots'][0].Both[0]['Unnamed: 0_level_0','Minute'].replace('90+2', 92)\n",
    "print((match['Shots'][0].Both[0]['Unnamed: 0_level_0','Minute']))\n",
    "match['Shots'][0].Away[0]['Unnamed: 0_level_0','Minute'] = match['Shots'][0].Away[0]['Unnamed: 0_level_0','Minute'].replace('90+2', 92)\n",
    "print((match['Shots'][0].Away[0]['Unnamed: 0_level_0','Minute']))"
   ]
  },
  {
   "cell_type": "code",
   "execution_count": 35,
   "metadata": {},
   "outputs": [
    {
     "name": "stdout",
     "output_type": "stream",
     "text": [
      "0     0.29\n",
      "1     0.07\n",
      "2     0.04\n",
      "3     0.09\n",
      "4     0.05\n",
      "5     0.06\n",
      "6     0.03\n",
      "7     0.04\n",
      "8     0.13\n",
      "9     0.01\n",
      "10    0.10\n",
      "12    0.04\n",
      "13    0.05\n",
      "14    0.10\n",
      "15    0.12\n",
      "16    0.06\n",
      "17    0.70\n",
      "18    0.04\n",
      "19    0.02\n",
      "20    0.13\n",
      "21    0.04\n",
      "22    0.15\n",
      "23    0.03\n",
      "24    0.05\n",
      "25    0.29\n",
      "26    0.16\n",
      "27    0.16\n",
      "28    0.06\n",
      "Name: (Unnamed: 3_level_0, xG), dtype: float64\n"
     ]
    }
   ],
   "source": [
    "print((match['Shots'][0].Both[0]['Unnamed: 3_level_0','xG']))"
   ]
  },
  {
   "cell_type": "code",
   "execution_count": 83,
   "metadata": {},
   "outputs": [
    {
     "data": {
      "text/plain": [
       "24"
      ]
     },
     "execution_count": 83,
     "metadata": {},
     "output_type": "execute_result"
    }
   ],
   "source": [
    "len(match['Shots'][0].Home[0])"
   ]
  },
  {
   "cell_type": "code",
   "execution_count": 123,
   "metadata": {},
   "outputs": [
    {
     "name": "stdout",
     "output_type": "stream",
     "text": [
      "home prob = 68%, away prob = 11%\n"
     ]
    }
   ],
   "source": [
    "import pandas as pd\n",
    "import numpy as np\n",
    "import random\n",
    "\n",
    "\n",
    "def simulate_shots():\n",
    "    home_num_of_shots = (len(match['Shots'][0].Home[0]))\n",
    "    away_num_of_shots = (len(match['Shots'][0].Away[0]))\n",
    "    match['Shots'][0].Home[0]['generated'] = np.random.rand()\n",
    "    match['Shots'][0].Home[0]['simulate'] = (np.random.rand(home_num_of_shots) < match['Shots'][0].Home[0]['Unnamed: 3_level_0','xG'])\n",
    "    # print(match['Shots'][0].Home[0]['simulate'])\n",
    "    home_goals = len(match['Shots'][0].Home[0][match['Shots'][0].Home[0]['simulate'] == True])\n",
    "\n",
    "    match['Shots'][0].Away[0]['generated'] = np.random.rand()\n",
    "    match['Shots'][0].Away[0]['simulate'] = (np.random.rand(away_num_of_shots) < match['Shots'][0].Away[0]['Unnamed: 3_level_0','xG'])\n",
    "    # print(match['Shots'][0].Away[0]['simulate'])\n",
    "    away_goals = len(match['Shots'][0].Away[0][match['Shots'][0].Away[0]['simulate'] == True])\n",
    "    # print(f'LIV {home_goals} - {away_goals} RMD')\n",
    "    return (home_goals, away_goals)\n",
    "\n",
    "def simulation_loop(simulation_volume = 1000):\n",
    "    home_win = 0\n",
    "    away_win = 0\n",
    "    for _ in range (simulation_volume):\n",
    "        (a, b) = simulate_shots()\n",
    "        if (a > b):\n",
    "            home_win += 1\n",
    "        elif (a < b):\n",
    "            away_win += 1\n",
    "    return(home_win/simulation_volume, away_win/simulation_volume)\n",
    "\n",
    "a, b = simulation_loop(1000000)\n",
    "print(f'home prob = {round(a*100)}%, away prob = {round(b*100)}%')\n",
    "    "
   ]
  },
  {
   "cell_type": "code",
   "execution_count": 73,
   "metadata": {},
   "outputs": [
    {
     "data": {
      "text/html": [
       "<div>\n",
       "<style scoped>\n",
       "    .dataframe tbody tr th:only-of-type {\n",
       "        vertical-align: middle;\n",
       "    }\n",
       "\n",
       "    .dataframe tbody tr th {\n",
       "        vertical-align: top;\n",
       "    }\n",
       "\n",
       "    .dataframe thead th {\n",
       "        text-align: right;\n",
       "    }\n",
       "</style>\n",
       "<table border=\"1\" class=\"dataframe\">\n",
       "  <thead>\n",
       "    <tr style=\"text-align: right;\">\n",
       "      <th></th>\n",
       "      <th>a</th>\n",
       "      <th>b</th>\n",
       "    </tr>\n",
       "  </thead>\n",
       "  <tbody>\n",
       "    <tr>\n",
       "      <th>0</th>\n",
       "      <td>0.4</td>\n",
       "      <td>0.459252</td>\n",
       "    </tr>\n",
       "    <tr>\n",
       "      <th>1</th>\n",
       "      <td>0.5</td>\n",
       "      <td>0.709890</td>\n",
       "    </tr>\n",
       "  </tbody>\n",
       "</table>\n",
       "</div>"
      ],
      "text/plain": [
       "     a         b\n",
       "0  0.4  0.459252\n",
       "1  0.5  0.709890"
      ]
     },
     "execution_count": 73,
     "metadata": {},
     "output_type": "execute_result"
    }
   ],
   "source": [
    "import pandas as pd\n",
    "import numpy as np\n",
    "import random\n",
    "\n",
    "df = {\n",
    "    'a': [0.4, 0.5],\n",
    "}\n",
    "\n",
    "df = pd.DataFrame(df)\n",
    "df['b'] = np.random.rand(2)\n",
    "df"
   ]
  },
  {
   "cell_type": "code",
   "execution_count": 31,
   "metadata": {},
   "outputs": [
    {
     "data": {
      "text/plain": [
       "MultiIndex([( 'Unnamed: 0_level_0',  'Player'),\n",
       "            ( 'Unnamed: 1_level_0',       '#'),\n",
       "            ( 'Unnamed: 2_level_0',  'Nation'),\n",
       "            ( 'Unnamed: 3_level_0',     'Pos'),\n",
       "            ( 'Unnamed: 4_level_0',     'Age'),\n",
       "            ( 'Unnamed: 5_level_0',     'Min'),\n",
       "            (              'Total',     'Cmp'),\n",
       "            (              'Total',     'Att'),\n",
       "            (              'Total',    'Cmp%'),\n",
       "            (              'Total', 'TotDist'),\n",
       "            (              'Total', 'PrgDist'),\n",
       "            (              'Short',     'Cmp'),\n",
       "            (              'Short',     'Att'),\n",
       "            (              'Short',    'Cmp%'),\n",
       "            (             'Medium',     'Cmp'),\n",
       "            (             'Medium',     'Att'),\n",
       "            (             'Medium',    'Cmp%'),\n",
       "            (               'Long',     'Cmp'),\n",
       "            (               'Long',     'Att'),\n",
       "            (               'Long',    'Cmp%'),\n",
       "            ('Unnamed: 20_level_0',     'Ast'),\n",
       "            ('Unnamed: 21_level_0',     'xAG'),\n",
       "            ('Unnamed: 22_level_0',      'xA'),\n",
       "            ('Unnamed: 23_level_0',      'KP'),\n",
       "            ('Unnamed: 24_level_0',     '1/3'),\n",
       "            ('Unnamed: 25_level_0',     'PPA'),\n",
       "            ('Unnamed: 26_level_0',   'CrsPA'),\n",
       "            ('Unnamed: 27_level_0',    'PrgP'),\n",
       "            (          'Player ID',        '')],\n",
       "           )"
      ]
     },
     "execution_count": 31,
     "metadata": {},
     "output_type": "execute_result"
    }
   ],
   "source": [
    "match['Home Player Stats'][0]['Passing'][0].columns"
   ]
  },
  {
   "cell_type": "code",
   "execution_count": 28,
   "metadata": {},
   "outputs": [
    {
     "name": "stdout",
     "output_type": "stream",
     "text": [
      "<class 'pandas.core.frame.DataFrame'>\n",
      "0      9\n",
      "1      1\n",
      "2      2\n",
      "3      2\n",
      "4     19\n",
      "5      0\n",
      "6      9\n",
      "7     10\n",
      "8      4\n",
      "9      7\n",
      "10     3\n",
      "11     6\n",
      "12    12\n",
      "13     0\n",
      "14    84\n",
      "Name: (Unnamed: 27_level_0, PrgP), dtype: int64\n"
     ]
    }
   ],
   "source": [
    "print(type(match['Home Player Stats'][0]))\n",
    "# match['Home Player Stats'][0]['Passing'][0].columns \n",
    "# match['Home Player Stats'][0]['Summary'][0].columns \n",
    "print((match['Home Player Stats'][0]['Passing'][0]['Unnamed: 27_level_0','PrgP']))"
   ]
  },
  {
   "cell_type": "code",
   "execution_count": 34,
   "metadata": {},
   "outputs": [
    {
     "name": "stderr",
     "output_type": "stream",
     "text": [
      "/tmp/ipykernel_453564/1924841434.py:1: FutureWarning: In a future version of pandas all arguments of DataFrame.drop except for the argument 'labels' will be keyword-only.\n",
      "  df_home_PrgP = (match['Home Player Stats'][0]['Passing'][0].drop(match['Home Player Stats'][0]['Passing'][0].columns.difference([['Unnamed: 27_level_0','PrgP']]), 1))\n"
     ]
    },
    {
     "data": {
      "text/html": [
       "<div>\n",
       "<style scoped>\n",
       "    .dataframe tbody tr th:only-of-type {\n",
       "        vertical-align: middle;\n",
       "    }\n",
       "\n",
       "    .dataframe tbody tr th {\n",
       "        vertical-align: top;\n",
       "    }\n",
       "\n",
       "    .dataframe thead tr th {\n",
       "        text-align: left;\n",
       "    }\n",
       "</style>\n",
       "<table border=\"1\" class=\"dataframe\">\n",
       "  <thead>\n",
       "    <tr>\n",
       "      <th></th>\n",
       "      <th>Unnamed: 27_level_0</th>\n",
       "    </tr>\n",
       "    <tr>\n",
       "      <th></th>\n",
       "      <th>PrgP</th>\n",
       "    </tr>\n",
       "  </thead>\n",
       "  <tbody>\n",
       "    <tr>\n",
       "      <th>0</th>\n",
       "      <td>9</td>\n",
       "    </tr>\n",
       "    <tr>\n",
       "      <th>1</th>\n",
       "      <td>1</td>\n",
       "    </tr>\n",
       "    <tr>\n",
       "      <th>2</th>\n",
       "      <td>2</td>\n",
       "    </tr>\n",
       "    <tr>\n",
       "      <th>3</th>\n",
       "      <td>2</td>\n",
       "    </tr>\n",
       "    <tr>\n",
       "      <th>4</th>\n",
       "      <td>19</td>\n",
       "    </tr>\n",
       "    <tr>\n",
       "      <th>5</th>\n",
       "      <td>0</td>\n",
       "    </tr>\n",
       "    <tr>\n",
       "      <th>6</th>\n",
       "      <td>9</td>\n",
       "    </tr>\n",
       "    <tr>\n",
       "      <th>7</th>\n",
       "      <td>10</td>\n",
       "    </tr>\n",
       "    <tr>\n",
       "      <th>8</th>\n",
       "      <td>4</td>\n",
       "    </tr>\n",
       "    <tr>\n",
       "      <th>9</th>\n",
       "      <td>7</td>\n",
       "    </tr>\n",
       "    <tr>\n",
       "      <th>10</th>\n",
       "      <td>3</td>\n",
       "    </tr>\n",
       "    <tr>\n",
       "      <th>11</th>\n",
       "      <td>6</td>\n",
       "    </tr>\n",
       "    <tr>\n",
       "      <th>12</th>\n",
       "      <td>12</td>\n",
       "    </tr>\n",
       "    <tr>\n",
       "      <th>13</th>\n",
       "      <td>0</td>\n",
       "    </tr>\n",
       "    <tr>\n",
       "      <th>14</th>\n",
       "      <td>84</td>\n",
       "    </tr>\n",
       "  </tbody>\n",
       "</table>\n",
       "</div>"
      ],
      "text/plain": [
       "   Unnamed: 27_level_0\n",
       "                  PrgP\n",
       "0                    9\n",
       "1                    1\n",
       "2                    2\n",
       "3                    2\n",
       "4                   19\n",
       "5                    0\n",
       "6                    9\n",
       "7                   10\n",
       "8                    4\n",
       "9                    7\n",
       "10                   3\n",
       "11                   6\n",
       "12                  12\n",
       "13                   0\n",
       "14                  84"
      ]
     },
     "execution_count": 34,
     "metadata": {},
     "output_type": "execute_result"
    }
   ],
   "source": [
    "df_home_PrgP = (match['Home Player Stats'][0]['Passing'][0].drop(match['Home Player Stats'][0]['Passing'][0].columns.difference([['Unnamed: 27_level_0','PrgP']]), 1))\n",
    "df_home_PrgP"
   ]
  }
 ],
 "metadata": {
  "kernelspec": {
   "display_name": "Python 3",
   "language": "python",
   "name": "python3"
  },
  "language_info": {
   "codemirror_mode": {
    "name": "ipython",
    "version": 3
   },
   "file_extension": ".py",
   "mimetype": "text/x-python",
   "name": "python",
   "nbconvert_exporter": "python",
   "pygments_lexer": "ipython3",
   "version": "3.9.12"
  }
 },
 "nbformat": 4,
 "nbformat_minor": 2
}
